{
  "cells": [
    {
      "cell_type": "markdown",
      "metadata": {
        "id": "view-in-github",
        "colab_type": "text"
      },
      "source": [
        "<a href=\"https://colab.research.google.com/github/Venura-Shiromal/Weight-Classifier/blob/main/Sequential.ipynb\" target=\"_parent\"><img src=\"https://colab.research.google.com/assets/colab-badge.svg\" alt=\"Open In Colab\"/></a>"
      ]
    },
    {
      "cell_type": "markdown",
      "id": "bbe3d965-5744-4d62-86c0-51c3ed3844b6",
      "metadata": {
        "id": "bbe3d965-5744-4d62-86c0-51c3ed3844b6"
      },
      "source": [
        "## Importing Modules"
      ]
    },
    {
      "cell_type": "code",
      "execution_count": 2,
      "id": "ed878b07-70d9-47ee-9e8f-c84f5b914cbd",
      "metadata": {
        "id": "ed878b07-70d9-47ee-9e8f-c84f5b914cbd"
      },
      "outputs": [],
      "source": [
        "import numpy as np\n",
        "import pandas as pd\n",
        "import tensorflow as tf\n",
        "from tensorflow.keras import Sequential\n",
        "from tensorflow.keras.layers import Dense, Input, Dropout\n",
        "from tensorflow.keras.callbacks import EarlyStopping\n",
        "from tensorflow.keras.losses import SparseCategoricalCrossentropy\n",
        "from sklearn.model_selection import train_test_split\n",
        "from sklearn.preprocessing import StandardScaler\n",
        "from sklearn.utils.class_weight import compute_class_weight"
      ]
    },
    {
      "cell_type": "markdown",
      "id": "2b3347ec-f689-49fe-a301-a2de638476a7",
      "metadata": {
        "id": "2b3347ec-f689-49fe-a301-a2de638476a7"
      },
      "source": [
        "# Input"
      ]
    },
    {
      "cell_type": "markdown",
      "id": "5d6d28d7-1839-4b3e-a3a0-bc1cd64c065e",
      "metadata": {
        "id": "5d6d28d7-1839-4b3e-a3a0-bc1cd64c065e"
      },
      "source": [
        "## Loading Training Data"
      ]
    },
    {
      "cell_type": "code",
      "execution_count": 3,
      "id": "e3007e20-e5a4-4b49-9f68-c7653841346c",
      "metadata": {
        "id": "e3007e20-e5a4-4b49-9f68-c7653841346c"
      },
      "outputs": [],
      "source": [
        "df = pd.read_csv(\"data/train.csv\")"
      ]
    },
    {
      "cell_type": "code",
      "execution_count": 4,
      "id": "42bf22e7-55a1-4102-89fa-5ebc45bc6b6a",
      "metadata": {
        "id": "42bf22e7-55a1-4102-89fa-5ebc45bc6b6a",
        "outputId": "97aab8dd-7b36-4b9c-85b1-09acca661ab0",
        "colab": {
          "base_uri": "https://localhost:8080/",
          "height": 261
        }
      },
      "outputs": [
        {
          "output_type": "execute_result",
          "data": {
            "text/plain": [
              "  PersonID  Age_Years   Weight_Kg High_Calorie_Food  Vegetable_Intake  \\\n",
              "0    P1810  26.000000  109.959714               yes          3.000000   \n",
              "1    P1021  25.483381   64.848627                no          2.000000   \n",
              "2    P2036  26.000000  104.947703               yes          3.000000   \n",
              "3    P2201  21.715198  107.868047               Yes          3.031308   \n",
              "4    P2649  17.511767  121.460361               yes          1.964873   \n",
              "\n",
              "   Meal_Frequency  Water_Intake  Screen_Time_Hours  Family_Risk  \\\n",
              "0        3.000000      2.679137           0.479348     1.000000   \n",
              "1        1.000000      1.000000           0.000000     1.000000   \n",
              "2        3.000000      2.577210           0.402075     1.000000   \n",
              "3        3.322455      1.983531          -0.005858     0.987933   \n",
              "4        1.052297      2.025586           0.981999     1.004136   \n",
              "\n",
              "   Activity_Level_Score  Gender Family_History Snack_Frequency Smoking_Habit  \\\n",
              "0              0.479348  Female            yes    Occasionally            no   \n",
              "1              0.740633  Female            yes    Occasionally            no   \n",
              "2              0.402075  Female            yes    Occasionally            no   \n",
              "3              0.360441    Male            yes    Occasionally            no   \n",
              "4              1.162488  Female            yes    Occasionally            no   \n",
              "\n",
              "  Alcohol_Consumption           Commute_Mode      Weight_Category   Height_cm  \\\n",
              "0           Sometimes  Public_Transportation     Obesity_Type_III  162.277100   \n",
              "1                  no  Public_Transportation  Overweight_Level_II  156.528800   \n",
              "2           Sometimes  Public_Transportation     Obesity_Type_III  162.116700   \n",
              "3                  no  Public_Transportation        Normal_Weight  167.748287   \n",
              "4                  no  Public_Transportation        Normal_Weight  170.956194   \n",
              "\n",
              "  Physical_Activity_Level Leisure Time Activity  \n",
              "0                     NaN               Reading  \n",
              "1                     NaN               Reading  \n",
              "2                     NaN               Reading  \n",
              "3                     NaN               Reading  \n",
              "4                     NaN                Gaming  "
            ],
            "text/html": [
              "\n",
              "  <div id=\"df-d3035c1b-c060-4453-8094-f8e909dd7bfc\" class=\"colab-df-container\">\n",
              "    <div>\n",
              "<style scoped>\n",
              "    .dataframe tbody tr th:only-of-type {\n",
              "        vertical-align: middle;\n",
              "    }\n",
              "\n",
              "    .dataframe tbody tr th {\n",
              "        vertical-align: top;\n",
              "    }\n",
              "\n",
              "    .dataframe thead th {\n",
              "        text-align: right;\n",
              "    }\n",
              "</style>\n",
              "<table border=\"1\" class=\"dataframe\">\n",
              "  <thead>\n",
              "    <tr style=\"text-align: right;\">\n",
              "      <th></th>\n",
              "      <th>PersonID</th>\n",
              "      <th>Age_Years</th>\n",
              "      <th>Weight_Kg</th>\n",
              "      <th>High_Calorie_Food</th>\n",
              "      <th>Vegetable_Intake</th>\n",
              "      <th>Meal_Frequency</th>\n",
              "      <th>Water_Intake</th>\n",
              "      <th>Screen_Time_Hours</th>\n",
              "      <th>Family_Risk</th>\n",
              "      <th>Activity_Level_Score</th>\n",
              "      <th>Gender</th>\n",
              "      <th>Family_History</th>\n",
              "      <th>Snack_Frequency</th>\n",
              "      <th>Smoking_Habit</th>\n",
              "      <th>Alcohol_Consumption</th>\n",
              "      <th>Commute_Mode</th>\n",
              "      <th>Weight_Category</th>\n",
              "      <th>Height_cm</th>\n",
              "      <th>Physical_Activity_Level</th>\n",
              "      <th>Leisure Time Activity</th>\n",
              "    </tr>\n",
              "  </thead>\n",
              "  <tbody>\n",
              "    <tr>\n",
              "      <th>0</th>\n",
              "      <td>P1810</td>\n",
              "      <td>26.000000</td>\n",
              "      <td>109.959714</td>\n",
              "      <td>yes</td>\n",
              "      <td>3.000000</td>\n",
              "      <td>3.000000</td>\n",
              "      <td>2.679137</td>\n",
              "      <td>0.479348</td>\n",
              "      <td>1.000000</td>\n",
              "      <td>0.479348</td>\n",
              "      <td>Female</td>\n",
              "      <td>yes</td>\n",
              "      <td>Occasionally</td>\n",
              "      <td>no</td>\n",
              "      <td>Sometimes</td>\n",
              "      <td>Public_Transportation</td>\n",
              "      <td>Obesity_Type_III</td>\n",
              "      <td>162.277100</td>\n",
              "      <td>NaN</td>\n",
              "      <td>Reading</td>\n",
              "    </tr>\n",
              "    <tr>\n",
              "      <th>1</th>\n",
              "      <td>P1021</td>\n",
              "      <td>25.483381</td>\n",
              "      <td>64.848627</td>\n",
              "      <td>no</td>\n",
              "      <td>2.000000</td>\n",
              "      <td>1.000000</td>\n",
              "      <td>1.000000</td>\n",
              "      <td>0.000000</td>\n",
              "      <td>1.000000</td>\n",
              "      <td>0.740633</td>\n",
              "      <td>Female</td>\n",
              "      <td>yes</td>\n",
              "      <td>Occasionally</td>\n",
              "      <td>no</td>\n",
              "      <td>no</td>\n",
              "      <td>Public_Transportation</td>\n",
              "      <td>Overweight_Level_II</td>\n",
              "      <td>156.528800</td>\n",
              "      <td>NaN</td>\n",
              "      <td>Reading</td>\n",
              "    </tr>\n",
              "    <tr>\n",
              "      <th>2</th>\n",
              "      <td>P2036</td>\n",
              "      <td>26.000000</td>\n",
              "      <td>104.947703</td>\n",
              "      <td>yes</td>\n",
              "      <td>3.000000</td>\n",
              "      <td>3.000000</td>\n",
              "      <td>2.577210</td>\n",
              "      <td>0.402075</td>\n",
              "      <td>1.000000</td>\n",
              "      <td>0.402075</td>\n",
              "      <td>Female</td>\n",
              "      <td>yes</td>\n",
              "      <td>Occasionally</td>\n",
              "      <td>no</td>\n",
              "      <td>Sometimes</td>\n",
              "      <td>Public_Transportation</td>\n",
              "      <td>Obesity_Type_III</td>\n",
              "      <td>162.116700</td>\n",
              "      <td>NaN</td>\n",
              "      <td>Reading</td>\n",
              "    </tr>\n",
              "    <tr>\n",
              "      <th>3</th>\n",
              "      <td>P2201</td>\n",
              "      <td>21.715198</td>\n",
              "      <td>107.868047</td>\n",
              "      <td>Yes</td>\n",
              "      <td>3.031308</td>\n",
              "      <td>3.322455</td>\n",
              "      <td>1.983531</td>\n",
              "      <td>-0.005858</td>\n",
              "      <td>0.987933</td>\n",
              "      <td>0.360441</td>\n",
              "      <td>Male</td>\n",
              "      <td>yes</td>\n",
              "      <td>Occasionally</td>\n",
              "      <td>no</td>\n",
              "      <td>no</td>\n",
              "      <td>Public_Transportation</td>\n",
              "      <td>Normal_Weight</td>\n",
              "      <td>167.748287</td>\n",
              "      <td>NaN</td>\n",
              "      <td>Reading</td>\n",
              "    </tr>\n",
              "    <tr>\n",
              "      <th>4</th>\n",
              "      <td>P2649</td>\n",
              "      <td>17.511767</td>\n",
              "      <td>121.460361</td>\n",
              "      <td>yes</td>\n",
              "      <td>1.964873</td>\n",
              "      <td>1.052297</td>\n",
              "      <td>2.025586</td>\n",
              "      <td>0.981999</td>\n",
              "      <td>1.004136</td>\n",
              "      <td>1.162488</td>\n",
              "      <td>Female</td>\n",
              "      <td>yes</td>\n",
              "      <td>Occasionally</td>\n",
              "      <td>no</td>\n",
              "      <td>no</td>\n",
              "      <td>Public_Transportation</td>\n",
              "      <td>Normal_Weight</td>\n",
              "      <td>170.956194</td>\n",
              "      <td>NaN</td>\n",
              "      <td>Gaming</td>\n",
              "    </tr>\n",
              "  </tbody>\n",
              "</table>\n",
              "</div>\n",
              "    <div class=\"colab-df-buttons\">\n",
              "\n",
              "  <div class=\"colab-df-container\">\n",
              "    <button class=\"colab-df-convert\" onclick=\"convertToInteractive('df-d3035c1b-c060-4453-8094-f8e909dd7bfc')\"\n",
              "            title=\"Convert this dataframe to an interactive table.\"\n",
              "            style=\"display:none;\">\n",
              "\n",
              "  <svg xmlns=\"http://www.w3.org/2000/svg\" height=\"24px\" viewBox=\"0 -960 960 960\">\n",
              "    <path d=\"M120-120v-720h720v720H120Zm60-500h600v-160H180v160Zm220 220h160v-160H400v160Zm0 220h160v-160H400v160ZM180-400h160v-160H180v160Zm440 0h160v-160H620v160ZM180-180h160v-160H180v160Zm440 0h160v-160H620v160Z\"/>\n",
              "  </svg>\n",
              "    </button>\n",
              "\n",
              "  <style>\n",
              "    .colab-df-container {\n",
              "      display:flex;\n",
              "      gap: 12px;\n",
              "    }\n",
              "\n",
              "    .colab-df-convert {\n",
              "      background-color: #E8F0FE;\n",
              "      border: none;\n",
              "      border-radius: 50%;\n",
              "      cursor: pointer;\n",
              "      display: none;\n",
              "      fill: #1967D2;\n",
              "      height: 32px;\n",
              "      padding: 0 0 0 0;\n",
              "      width: 32px;\n",
              "    }\n",
              "\n",
              "    .colab-df-convert:hover {\n",
              "      background-color: #E2EBFA;\n",
              "      box-shadow: 0px 1px 2px rgba(60, 64, 67, 0.3), 0px 1px 3px 1px rgba(60, 64, 67, 0.15);\n",
              "      fill: #174EA6;\n",
              "    }\n",
              "\n",
              "    .colab-df-buttons div {\n",
              "      margin-bottom: 4px;\n",
              "    }\n",
              "\n",
              "    [theme=dark] .colab-df-convert {\n",
              "      background-color: #3B4455;\n",
              "      fill: #D2E3FC;\n",
              "    }\n",
              "\n",
              "    [theme=dark] .colab-df-convert:hover {\n",
              "      background-color: #434B5C;\n",
              "      box-shadow: 0px 1px 3px 1px rgba(0, 0, 0, 0.15);\n",
              "      filter: drop-shadow(0px 1px 2px rgba(0, 0, 0, 0.3));\n",
              "      fill: #FFFFFF;\n",
              "    }\n",
              "  </style>\n",
              "\n",
              "    <script>\n",
              "      const buttonEl =\n",
              "        document.querySelector('#df-d3035c1b-c060-4453-8094-f8e909dd7bfc button.colab-df-convert');\n",
              "      buttonEl.style.display =\n",
              "        google.colab.kernel.accessAllowed ? 'block' : 'none';\n",
              "\n",
              "      async function convertToInteractive(key) {\n",
              "        const element = document.querySelector('#df-d3035c1b-c060-4453-8094-f8e909dd7bfc');\n",
              "        const dataTable =\n",
              "          await google.colab.kernel.invokeFunction('convertToInteractive',\n",
              "                                                    [key], {});\n",
              "        if (!dataTable) return;\n",
              "\n",
              "        const docLinkHtml = 'Like what you see? Visit the ' +\n",
              "          '<a target=\"_blank\" href=https://colab.research.google.com/notebooks/data_table.ipynb>data table notebook</a>'\n",
              "          + ' to learn more about interactive tables.';\n",
              "        element.innerHTML = '';\n",
              "        dataTable['output_type'] = 'display_data';\n",
              "        await google.colab.output.renderOutput(dataTable, element);\n",
              "        const docLink = document.createElement('div');\n",
              "        docLink.innerHTML = docLinkHtml;\n",
              "        element.appendChild(docLink);\n",
              "      }\n",
              "    </script>\n",
              "  </div>\n",
              "\n",
              "\n",
              "    <div id=\"df-766658be-ef7d-4394-afd8-18c5ab7e9310\">\n",
              "      <button class=\"colab-df-quickchart\" onclick=\"quickchart('df-766658be-ef7d-4394-afd8-18c5ab7e9310')\"\n",
              "                title=\"Suggest charts\"\n",
              "                style=\"display:none;\">\n",
              "\n",
              "<svg xmlns=\"http://www.w3.org/2000/svg\" height=\"24px\"viewBox=\"0 0 24 24\"\n",
              "     width=\"24px\">\n",
              "    <g>\n",
              "        <path d=\"M19 3H5c-1.1 0-2 .9-2 2v14c0 1.1.9 2 2 2h14c1.1 0 2-.9 2-2V5c0-1.1-.9-2-2-2zM9 17H7v-7h2v7zm4 0h-2V7h2v10zm4 0h-2v-4h2v4z\"/>\n",
              "    </g>\n",
              "</svg>\n",
              "      </button>\n",
              "\n",
              "<style>\n",
              "  .colab-df-quickchart {\n",
              "      --bg-color: #E8F0FE;\n",
              "      --fill-color: #1967D2;\n",
              "      --hover-bg-color: #E2EBFA;\n",
              "      --hover-fill-color: #174EA6;\n",
              "      --disabled-fill-color: #AAA;\n",
              "      --disabled-bg-color: #DDD;\n",
              "  }\n",
              "\n",
              "  [theme=dark] .colab-df-quickchart {\n",
              "      --bg-color: #3B4455;\n",
              "      --fill-color: #D2E3FC;\n",
              "      --hover-bg-color: #434B5C;\n",
              "      --hover-fill-color: #FFFFFF;\n",
              "      --disabled-bg-color: #3B4455;\n",
              "      --disabled-fill-color: #666;\n",
              "  }\n",
              "\n",
              "  .colab-df-quickchart {\n",
              "    background-color: var(--bg-color);\n",
              "    border: none;\n",
              "    border-radius: 50%;\n",
              "    cursor: pointer;\n",
              "    display: none;\n",
              "    fill: var(--fill-color);\n",
              "    height: 32px;\n",
              "    padding: 0;\n",
              "    width: 32px;\n",
              "  }\n",
              "\n",
              "  .colab-df-quickchart:hover {\n",
              "    background-color: var(--hover-bg-color);\n",
              "    box-shadow: 0 1px 2px rgba(60, 64, 67, 0.3), 0 1px 3px 1px rgba(60, 64, 67, 0.15);\n",
              "    fill: var(--button-hover-fill-color);\n",
              "  }\n",
              "\n",
              "  .colab-df-quickchart-complete:disabled,\n",
              "  .colab-df-quickchart-complete:disabled:hover {\n",
              "    background-color: var(--disabled-bg-color);\n",
              "    fill: var(--disabled-fill-color);\n",
              "    box-shadow: none;\n",
              "  }\n",
              "\n",
              "  .colab-df-spinner {\n",
              "    border: 2px solid var(--fill-color);\n",
              "    border-color: transparent;\n",
              "    border-bottom-color: var(--fill-color);\n",
              "    animation:\n",
              "      spin 1s steps(1) infinite;\n",
              "  }\n",
              "\n",
              "  @keyframes spin {\n",
              "    0% {\n",
              "      border-color: transparent;\n",
              "      border-bottom-color: var(--fill-color);\n",
              "      border-left-color: var(--fill-color);\n",
              "    }\n",
              "    20% {\n",
              "      border-color: transparent;\n",
              "      border-left-color: var(--fill-color);\n",
              "      border-top-color: var(--fill-color);\n",
              "    }\n",
              "    30% {\n",
              "      border-color: transparent;\n",
              "      border-left-color: var(--fill-color);\n",
              "      border-top-color: var(--fill-color);\n",
              "      border-right-color: var(--fill-color);\n",
              "    }\n",
              "    40% {\n",
              "      border-color: transparent;\n",
              "      border-right-color: var(--fill-color);\n",
              "      border-top-color: var(--fill-color);\n",
              "    }\n",
              "    60% {\n",
              "      border-color: transparent;\n",
              "      border-right-color: var(--fill-color);\n",
              "    }\n",
              "    80% {\n",
              "      border-color: transparent;\n",
              "      border-right-color: var(--fill-color);\n",
              "      border-bottom-color: var(--fill-color);\n",
              "    }\n",
              "    90% {\n",
              "      border-color: transparent;\n",
              "      border-bottom-color: var(--fill-color);\n",
              "    }\n",
              "  }\n",
              "</style>\n",
              "\n",
              "      <script>\n",
              "        async function quickchart(key) {\n",
              "          const quickchartButtonEl =\n",
              "            document.querySelector('#' + key + ' button');\n",
              "          quickchartButtonEl.disabled = true;  // To prevent multiple clicks.\n",
              "          quickchartButtonEl.classList.add('colab-df-spinner');\n",
              "          try {\n",
              "            const charts = await google.colab.kernel.invokeFunction(\n",
              "                'suggestCharts', [key], {});\n",
              "          } catch (error) {\n",
              "            console.error('Error during call to suggestCharts:', error);\n",
              "          }\n",
              "          quickchartButtonEl.classList.remove('colab-df-spinner');\n",
              "          quickchartButtonEl.classList.add('colab-df-quickchart-complete');\n",
              "        }\n",
              "        (() => {\n",
              "          let quickchartButtonEl =\n",
              "            document.querySelector('#df-766658be-ef7d-4394-afd8-18c5ab7e9310 button');\n",
              "          quickchartButtonEl.style.display =\n",
              "            google.colab.kernel.accessAllowed ? 'block' : 'none';\n",
              "        })();\n",
              "      </script>\n",
              "    </div>\n",
              "\n",
              "    </div>\n",
              "  </div>\n"
            ],
            "application/vnd.google.colaboratory.intrinsic+json": {
              "type": "dataframe",
              "variable_name": "df",
              "summary": "{\n  \"name\": \"df\",\n  \"rows\": 1995,\n  \"fields\": [\n    {\n      \"column\": \"PersonID\",\n      \"properties\": {\n        \"dtype\": \"string\",\n        \"num_unique_values\": 1995,\n        \"samples\": [\n          \"P1370\",\n          \"P398\",\n          \"P109\"\n        ],\n        \"semantic_type\": \"\",\n        \"description\": \"\"\n      }\n    },\n    {\n      \"column\": \"Age_Years\",\n      \"properties\": {\n        \"dtype\": \"number\",\n        \"std\": 8.008087528944763,\n        \"min\": 14.0,\n        \"max\": 222.0,\n        \"num_unique_values\": 1516,\n        \"samples\": [\n          22.758998,\n          24.201622,\n          23.252906\n        ],\n        \"semantic_type\": \"\",\n        \"description\": \"\"\n      }\n    },\n    {\n      \"column\": \"Weight_Kg\",\n      \"properties\": {\n        \"dtype\": \"number\",\n        \"std\": 26.466695841051905,\n        \"min\": 39.371523,\n        \"max\": 173.0,\n        \"num_unique_values\": 1603,\n        \"samples\": [\n          111.863186,\n          87.174389,\n          86.0805\n        ],\n        \"semantic_type\": \"\",\n        \"description\": \"\"\n      }\n    },\n    {\n      \"column\": \"High_Calorie_Food\",\n      \"properties\": {\n        \"dtype\": \"category\",\n        \"num_unique_values\": 4,\n        \"samples\": [\n          \"no\",\n          \"No\",\n          \"yes\"\n        ],\n        \"semantic_type\": \"\",\n        \"description\": \"\"\n      }\n    },\n    {\n      \"column\": \"Vegetable_Intake\",\n      \"properties\": {\n        \"dtype\": \"number\",\n        \"std\": 0.5256363522894348,\n        \"min\": 0.997822872,\n        \"max\": 3.060911728,\n        \"num_unique_values\": 1100,\n        \"samples\": [\n          2.976231782,\n          2.674431,\n          3.022163074\n        ],\n        \"semantic_type\": \"\",\n        \"description\": \"\"\n      }\n    },\n    {\n      \"column\": \"Meal_Frequency\",\n      \"properties\": {\n        \"dtype\": \"number\",\n        \"std\": 0.7776982811007512,\n        \"min\": 0.904496785,\n        \"max\": 4.061564447,\n        \"num_unique_values\": 939,\n        \"samples\": [\n          3.364222319,\n          3.047029796,\n          2.997082759\n        ],\n        \"semantic_type\": \"\",\n        \"description\": \"\"\n      }\n    },\n    {\n      \"column\": \"Water_Intake\",\n      \"properties\": {\n        \"dtype\": \"number\",\n        \"std\": 0.6156748235825333,\n        \"min\": 0.92307082,\n        \"max\": 3.047066283,\n        \"num_unique_values\": 1414,\n        \"samples\": [\n          2.806922,\n          2.082231482,\n          2.417055175\n        ],\n        \"semantic_type\": \"\",\n        \"description\": \"\"\n      }\n    },\n    {\n      \"column\": \"Screen_Time_Hours\",\n      \"properties\": {\n        \"dtype\": \"number\",\n        \"std\": 0.6053692475539504,\n        \"min\": -0.086830221,\n        \"max\": 2.062589238,\n        \"num_unique_values\": 1321,\n        \"samples\": [\n          1.237867,\n          0.442970731,\n          0.035685761\n        ],\n        \"semantic_type\": \"\",\n        \"description\": \"\"\n      }\n    },\n    {\n      \"column\": \"Family_Risk\",\n      \"properties\": {\n        \"dtype\": \"number\",\n        \"std\": 0.386378347320879,\n        \"min\": -0.048683513,\n        \"max\": 1.060984026,\n        \"num_unique_values\": 524,\n        \"samples\": [\n          0.974333722,\n          0.974985495,\n          0.037386051\n        ],\n        \"semantic_type\": \"\",\n        \"description\": \"\"\n      }\n    },\n    {\n      \"column\": \"Activity_Level_Score\",\n      \"properties\": {\n        \"dtype\": \"number\",\n        \"std\": 1.0693401694998512,\n        \"min\": -0.128487427,\n        \"max\": 5.0,\n        \"num_unique_values\": 1566,\n        \"samples\": [\n          1.327479,\n          3.034562036,\n          2.888584\n        ],\n        \"semantic_type\": \"\",\n        \"description\": \"\"\n      }\n    },\n    {\n      \"column\": \"Gender\",\n      \"properties\": {\n        \"dtype\": \"category\",\n        \"num_unique_values\": 2,\n        \"samples\": [\n          \"Male\",\n          \"Female\"\n        ],\n        \"semantic_type\": \"\",\n        \"description\": \"\"\n      }\n    },\n    {\n      \"column\": \"Family_History\",\n      \"properties\": {\n        \"dtype\": \"category\",\n        \"num_unique_values\": 3,\n        \"samples\": [\n          \"yes\",\n          \"no\"\n        ],\n        \"semantic_type\": \"\",\n        \"description\": \"\"\n      }\n    },\n    {\n      \"column\": \"Snack_Frequency\",\n      \"properties\": {\n        \"dtype\": \"category\",\n        \"num_unique_values\": 4,\n        \"samples\": [\n          \"Often\",\n          \"Never\"\n        ],\n        \"semantic_type\": \"\",\n        \"description\": \"\"\n      }\n    },\n    {\n      \"column\": \"Smoking_Habit\",\n      \"properties\": {\n        \"dtype\": \"category\",\n        \"num_unique_values\": 2,\n        \"samples\": [\n          \"yes\",\n          \"no\"\n        ],\n        \"semantic_type\": \"\",\n        \"description\": \"\"\n      }\n    },\n    {\n      \"column\": \"Alcohol_Consumption\",\n      \"properties\": {\n        \"dtype\": \"category\",\n        \"num_unique_values\": 4,\n        \"samples\": [\n          \"no\",\n          \"Always\"\n        ],\n        \"semantic_type\": \"\",\n        \"description\": \"\"\n      }\n    },\n    {\n      \"column\": \"Commute_Mode\",\n      \"properties\": {\n        \"dtype\": \"category\",\n        \"num_unique_values\": 5,\n        \"samples\": [\n          \"Automobile\",\n          \"Bike\"\n        ],\n        \"semantic_type\": \"\",\n        \"description\": \"\"\n      }\n    },\n    {\n      \"column\": \"Weight_Category\",\n      \"properties\": {\n        \"dtype\": \"category\",\n        \"num_unique_values\": 7,\n        \"samples\": [\n          \"Obesity_Type_III\",\n          \"Overweight_Level_II\"\n        ],\n        \"semantic_type\": \"\",\n        \"description\": \"\"\n      }\n    },\n    {\n      \"column\": \"Height_cm\",\n      \"properties\": {\n        \"dtype\": \"number\",\n        \"std\": 9.386193536019325,\n        \"min\": 145.0,\n        \"max\": 198.0,\n        \"num_unique_values\": 1634,\n        \"samples\": [\n          167.8201,\n          164.0745\n        ],\n        \"semantic_type\": \"\",\n        \"description\": \"\"\n      }\n    },\n    {\n      \"column\": \"Physical_Activity_Level\",\n      \"properties\": {\n        \"dtype\": \"category\",\n        \"num_unique_values\": 3,\n        \"samples\": [\n          \"Medium\",\n          \"Low\"\n        ],\n        \"semantic_type\": \"\",\n        \"description\": \"\"\n      }\n    },\n    {\n      \"column\": \"Leisure Time Activity\",\n      \"properties\": {\n        \"dtype\": \"category\",\n        \"num_unique_values\": 6,\n        \"samples\": [\n          \"Reading\",\n          \"Gaming\"\n        ],\n        \"semantic_type\": \"\",\n        \"description\": \"\"\n      }\n    }\n  ]\n}"
            }
          },
          "metadata": {},
          "execution_count": 4
        }
      ],
      "source": [
        "df.head()"
      ]
    },
    {
      "cell_type": "markdown",
      "id": "00f4dc9b-9a03-40d6-a920-6ca1797fb621",
      "metadata": {
        "id": "00f4dc9b-9a03-40d6-a920-6ca1797fb621"
      },
      "source": [
        "# Preprocessing"
      ]
    },
    {
      "cell_type": "markdown",
      "id": "f4aa1e50-b884-4dde-a93c-af8b2fdaa3aa",
      "metadata": {
        "id": "f4aa1e50-b884-4dde-a93c-af8b2fdaa3aa"
      },
      "source": [
        "### Combined Fields"
      ]
    },
    {
      "cell_type": "code",
      "execution_count": 5,
      "id": "cd532f31-e858-4e60-accc-83cb38802f11",
      "metadata": {
        "id": "cd532f31-e858-4e60-accc-83cb38802f11"
      },
      "outputs": [],
      "source": [
        "df[\"BMI\"] = df[\"Weight_Kg\"]/(df[\"Height_cm\"]/100)**2"
      ]
    },
    {
      "cell_type": "markdown",
      "id": "5a9f9b68-1483-401e-ba2e-5c5b100af241",
      "metadata": {
        "id": "5a9f9b68-1483-401e-ba2e-5c5b100af241"
      },
      "source": [
        "### Removing unwanted fields"
      ]
    },
    {
      "cell_type": "code",
      "execution_count": 6,
      "id": "6fb03885-e9fa-456c-bf7f-e396ac434ac2",
      "metadata": {
        "id": "6fb03885-e9fa-456c-bf7f-e396ac434ac2"
      },
      "outputs": [],
      "source": [
        "drop_cols = [\n",
        "    \"PersonID\",\n",
        "    \"Weight_Kg\",\n",
        "    \"Height_cm\"\n",
        "]"
      ]
    },
    {
      "cell_type": "code",
      "execution_count": 7,
      "id": "1c655116-9c68-4ba4-a9ef-a2dc6e751980",
      "metadata": {
        "id": "1c655116-9c68-4ba4-a9ef-a2dc6e751980"
      },
      "outputs": [],
      "source": [
        "df = df.drop(drop_cols, axis=1)"
      ]
    },
    {
      "cell_type": "markdown",
      "id": "e6302ab5-217e-4cb0-a6f0-3d6a4abafaea",
      "metadata": {
        "id": "e6302ab5-217e-4cb0-a6f0-3d6a4abafaea"
      },
      "source": [
        "### Removing missing cells"
      ]
    },
    {
      "cell_type": "code",
      "execution_count": 8,
      "id": "b4b6cd9f-573e-44c8-a391-937283bf74f0",
      "metadata": {
        "id": "b4b6cd9f-573e-44c8-a391-937283bf74f0",
        "outputId": "2c664386-3438-4049-814b-6b841a370604",
        "colab": {
          "base_uri": "https://localhost:8080/",
          "height": 178
        }
      },
      "outputs": [
        {
          "output_type": "execute_result",
          "data": {
            "text/plain": [
              "Gender                       30\n",
              "Alcohol_Consumption          37\n",
              "Physical_Activity_Level    1498\n",
              "dtype: int64"
            ],
            "text/html": [
              "<div>\n",
              "<style scoped>\n",
              "    .dataframe tbody tr th:only-of-type {\n",
              "        vertical-align: middle;\n",
              "    }\n",
              "\n",
              "    .dataframe tbody tr th {\n",
              "        vertical-align: top;\n",
              "    }\n",
              "\n",
              "    .dataframe thead th {\n",
              "        text-align: right;\n",
              "    }\n",
              "</style>\n",
              "<table border=\"1\" class=\"dataframe\">\n",
              "  <thead>\n",
              "    <tr style=\"text-align: right;\">\n",
              "      <th></th>\n",
              "      <th>0</th>\n",
              "    </tr>\n",
              "  </thead>\n",
              "  <tbody>\n",
              "    <tr>\n",
              "      <th>Gender</th>\n",
              "      <td>30</td>\n",
              "    </tr>\n",
              "    <tr>\n",
              "      <th>Alcohol_Consumption</th>\n",
              "      <td>37</td>\n",
              "    </tr>\n",
              "    <tr>\n",
              "      <th>Physical_Activity_Level</th>\n",
              "      <td>1498</td>\n",
              "    </tr>\n",
              "  </tbody>\n",
              "</table>\n",
              "</div><br><label><b>dtype:</b> int64</label>"
            ]
          },
          "metadata": {},
          "execution_count": 8
        }
      ],
      "source": [
        "df.isna().sum()[df.isna().sum() > 0]"
      ]
    },
    {
      "cell_type": "code",
      "execution_count": 9,
      "id": "2069674e-414e-41a0-abc6-f15e425c212c",
      "metadata": {
        "id": "2069674e-414e-41a0-abc6-f15e425c212c"
      },
      "outputs": [],
      "source": [
        "df = df.drop([\"Physical_Activity_Level\"], axis=1)"
      ]
    },
    {
      "cell_type": "code",
      "execution_count": 10,
      "id": "158a85dc-f9db-40bc-9dfa-ce27723c9579",
      "metadata": {
        "id": "158a85dc-f9db-40bc-9dfa-ce27723c9579"
      },
      "outputs": [],
      "source": [
        "missing_cols = [\"Gender\", \"Alcohol_Consumption\"]\n",
        "df = df.dropna(subset=missing_cols)"
      ]
    },
    {
      "cell_type": "markdown",
      "id": "43e673c7-c54c-4e35-874a-d89e15b933ef",
      "metadata": {
        "id": "43e673c7-c54c-4e35-874a-d89e15b933ef"
      },
      "source": [
        "### Mapping"
      ]
    },
    {
      "cell_type": "code",
      "execution_count": 11,
      "id": "d21f1027-754f-43cf-b43b-931118bd0ddc",
      "metadata": {
        "id": "d21f1027-754f-43cf-b43b-931118bd0ddc"
      },
      "outputs": [],
      "source": [
        "map_YN = {\n",
        "    \"Yes\" : 1,\n",
        "    \"yes\" : 1,\n",
        "    \"yess\" : 1,\n",
        "    \"No\" : 0,\n",
        "    \"no\" : 0\n",
        "}\n",
        "\n",
        "map_Gender = {\n",
        "    \"Male\": 1,\n",
        "    \"Female\": 0\n",
        "}\n",
        "\n",
        "map_Frq = {\n",
        "    \"no\" : 0,\n",
        "    \"Never\" : 0,\n",
        "    \"Sometimes\" : 1,\n",
        "    \"Occasionally\" : 1,\n",
        "    \"Frequently\" : 2,\n",
        "    \"Often\" : 2,\n",
        "    \"Always\" : 3\n",
        "}\n",
        "\n",
        "map_Cat = {\n",
        "    'Insufficient_Weight': 0,\n",
        "    'Normal_Weight': 1,\n",
        "    'Overweight_Level_I': 2,\n",
        "    'Overweight_Level_II': 3,\n",
        "    'Obesity_Type_I': 4,\n",
        "    'Obesity_Type_II': 5,\n",
        "    'Obesity_Type_III': 6\n",
        "}"
      ]
    },
    {
      "cell_type": "code",
      "execution_count": 12,
      "id": "56a0ccab-402a-4f5e-a739-1cd8b8a552f2",
      "metadata": {
        "id": "56a0ccab-402a-4f5e-a739-1cd8b8a552f2"
      },
      "outputs": [],
      "source": [
        "df[\"Gender\"] = df[\"Gender\"].map(map_Gender)\n",
        "df[\"High_Calorie_Food\"] = df[\"High_Calorie_Food\"].map(map_YN)\n",
        "df[\"Family_History\"] = df[\"Family_History\"].map(map_YN)\n",
        "df[\"Smoking_Habit\"] = df[\"Smoking_Habit\"].map(map_YN)\n",
        "df[\"Snack_Frequency\"] = df[\"Snack_Frequency\"].map(map_Frq)\n",
        "df[\"Alcohol_Consumption\"] = df[\"Alcohol_Consumption\"].map(map_Frq)\n",
        "df[\"Weight_Category\"] = df[\"Weight_Category\"].map(map_Cat)"
      ]
    },
    {
      "cell_type": "markdown",
      "id": "0f120efb-da47-465e-8a87-bbecd8f2a466",
      "metadata": {
        "id": "0f120efb-da47-465e-8a87-bbecd8f2a466"
      },
      "source": [
        "### One Hot Encoding"
      ]
    },
    {
      "cell_type": "code",
      "execution_count": 13,
      "id": "eaf04cec-2ccf-46c5-836c-526ca928a9d9",
      "metadata": {
        "id": "eaf04cec-2ccf-46c5-836c-526ca928a9d9"
      },
      "outputs": [],
      "source": [
        "df = pd.get_dummies(df, columns=['Commute_Mode','Leisure Time Activity'])"
      ]
    },
    {
      "cell_type": "markdown",
      "id": "59f5f7e2-6963-46ac-9d4d-72872edda59c",
      "metadata": {
        "id": "59f5f7e2-6963-46ac-9d4d-72872edda59c"
      },
      "source": [
        "## Defining X,Y"
      ]
    },
    {
      "cell_type": "code",
      "execution_count": 14,
      "id": "d1e03da5-7234-4cd8-90d6-9e74c2b098ca",
      "metadata": {
        "id": "d1e03da5-7234-4cd8-90d6-9e74c2b098ca"
      },
      "outputs": [],
      "source": [
        "x = df.drop([\"Weight_Category\"], axis=1)\n",
        "y = df[\"Weight_Category\"]"
      ]
    },
    {
      "cell_type": "markdown",
      "id": "f8ad764f-46c4-4d69-b00e-e2dc250ea2e9",
      "metadata": {
        "id": "f8ad764f-46c4-4d69-b00e-e2dc250ea2e9"
      },
      "source": [
        "## Data Splitting"
      ]
    },
    {
      "cell_type": "code",
      "execution_count": 15,
      "id": "08aebdd8-1664-4df8-9588-ccfe91629b79",
      "metadata": {
        "id": "08aebdd8-1664-4df8-9588-ccfe91629b79"
      },
      "outputs": [],
      "source": [
        "x_train, x_test, y_train, y_test = train_test_split(x, y, test_size=0.2, random_state=42, stratify=y)"
      ]
    },
    {
      "cell_type": "markdown",
      "id": "scaling-header",
      "metadata": {
        "id": "scaling-header"
      },
      "source": [
        "## Feature Scaling"
      ]
    },
    {
      "cell_type": "code",
      "execution_count": 16,
      "id": "scaling-code",
      "metadata": {
        "id": "scaling-code"
      },
      "outputs": [],
      "source": [
        "scaler = StandardScaler()\n",
        "x_train = scaler.fit_transform(x_train)\n",
        "x_test = scaler.transform(x_test)"
      ]
    },
    {
      "cell_type": "markdown",
      "id": "class-weights-header",
      "metadata": {
        "id": "class-weights-header"
      },
      "source": [
        "## Computing Class Weights"
      ]
    },
    {
      "cell_type": "code",
      "execution_count": 17,
      "id": "class-weights-code",
      "metadata": {
        "id": "class-weights-code",
        "outputId": "2a8c9582-307c-477b-82c7-3048f4f789d0",
        "colab": {
          "base_uri": "https://localhost:8080/"
        }
      },
      "outputs": [
        {
          "output_type": "stream",
          "name": "stdout",
          "text": [
            "Class weights: {np.int64(0): np.float64(1.223809523809524), np.int64(1): np.float64(1.0851513019000705), np.int64(2): np.float64(1.0151415404871627), np.int64(3): np.float64(1.0245847176079734), np.int64(4): np.float64(0.8407851690294439), np.int64(5): np.float64(1.00587084148728), np.int64(6): np.float64(0.8954703832752613)}\n"
          ]
        }
      ],
      "source": [
        "weights = compute_class_weight(\"balanced\", classes=np.unique(y_train), y=y_train)\n",
        "class_weights = dict(zip(np.unique(y_train), weights))\n",
        "print(\"Class weights:\", class_weights)"
      ]
    },
    {
      "cell_type": "markdown",
      "id": "952e0887-4175-4a9c-bb82-5c356b3c5d18",
      "metadata": {
        "id": "952e0887-4175-4a9c-bb82-5c356b3c5d18"
      },
      "source": [
        "# Training"
      ]
    },
    {
      "cell_type": "code",
      "execution_count": 18,
      "id": "0ece835a-d72c-404b-bd7b-c38631fd49d8",
      "metadata": {
        "id": "0ece835a-d72c-404b-bd7b-c38631fd49d8"
      },
      "outputs": [],
      "source": [
        "model = Sequential([\n",
        "        Input(shape=[25]),\n",
        "        Dense(64, activation=\"relu\", name=\"Layer_In\"),\n",
        "        Dropout(0.2),\n",
        "        Dense(32, activation=\"relu\", name=\"Layer_H1\"),\n",
        "        Dropout(0.2),\n",
        "        Dense(16, activation=\"relu\", name=\"Layer_H2\"),\n",
        "        Dense(7, activation=\"softmax\", name=\"Layer_Out\")\n",
        "    ])"
      ]
    },
    {
      "cell_type": "code",
      "execution_count": 20,
      "id": "27deb97f-ff29-4dc7-bebe-61f0b12c594f",
      "metadata": {
        "id": "27deb97f-ff29-4dc7-bebe-61f0b12c594f"
      },
      "outputs": [],
      "source": [
        "model.compile(\n",
        "    optimizer='adam',\n",
        "    loss=SparseCategoricalCrossentropy(from_logits=True),\n",
        "    metrics=['accuracy']\n",
        ")"
      ]
    },
    {
      "cell_type": "code",
      "execution_count": 21,
      "id": "ed888514-96e0-4c6a-a959-8feb642e988b",
      "metadata": {
        "id": "ed888514-96e0-4c6a-a959-8feb642e988b",
        "outputId": "ff3606c9-5fa8-4a8b-d2d0-18d4ead84de3",
        "colab": {
          "base_uri": "https://localhost:8080/",
          "height": 321
        }
      },
      "outputs": [
        {
          "output_type": "display_data",
          "data": {
            "text/plain": [
              "\u001b[1mModel: \"sequential\"\u001b[0m\n"
            ],
            "text/html": [
              "<pre style=\"white-space:pre;overflow-x:auto;line-height:normal;font-family:Menlo,'DejaVu Sans Mono',consolas,'Courier New',monospace\"><span style=\"font-weight: bold\">Model: \"sequential\"</span>\n",
              "</pre>\n"
            ]
          },
          "metadata": {}
        },
        {
          "output_type": "display_data",
          "data": {
            "text/plain": [
              "┏━━━━━━━━━━━━━━━━━━━━━━━━━━━━━━━━━┳━━━━━━━━━━━━━━━━━━━━━━━━┳━━━━━━━━━━━━━━━┓\n",
              "┃\u001b[1m \u001b[0m\u001b[1mLayer (type)                   \u001b[0m\u001b[1m \u001b[0m┃\u001b[1m \u001b[0m\u001b[1mOutput Shape          \u001b[0m\u001b[1m \u001b[0m┃\u001b[1m \u001b[0m\u001b[1m      Param #\u001b[0m\u001b[1m \u001b[0m┃\n",
              "┡━━━━━━━━━━━━━━━━━━━━━━━━━━━━━━━━━╇━━━━━━━━━━━━━━━━━━━━━━━━╇━━━━━━━━━━━━━━━┩\n",
              "│ Layer_In (\u001b[38;5;33mDense\u001b[0m)                │ (\u001b[38;5;45mNone\u001b[0m, \u001b[38;5;34m64\u001b[0m)             │         \u001b[38;5;34m1,664\u001b[0m │\n",
              "├─────────────────────────────────┼────────────────────────┼───────────────┤\n",
              "│ dropout (\u001b[38;5;33mDropout\u001b[0m)               │ (\u001b[38;5;45mNone\u001b[0m, \u001b[38;5;34m64\u001b[0m)             │             \u001b[38;5;34m0\u001b[0m │\n",
              "├─────────────────────────────────┼────────────────────────┼───────────────┤\n",
              "│ Layer_H1 (\u001b[38;5;33mDense\u001b[0m)                │ (\u001b[38;5;45mNone\u001b[0m, \u001b[38;5;34m32\u001b[0m)             │         \u001b[38;5;34m2,080\u001b[0m │\n",
              "├─────────────────────────────────┼────────────────────────┼───────────────┤\n",
              "│ dropout_1 (\u001b[38;5;33mDropout\u001b[0m)             │ (\u001b[38;5;45mNone\u001b[0m, \u001b[38;5;34m32\u001b[0m)             │             \u001b[38;5;34m0\u001b[0m │\n",
              "├─────────────────────────────────┼────────────────────────┼───────────────┤\n",
              "│ Layer_H2 (\u001b[38;5;33mDense\u001b[0m)                │ (\u001b[38;5;45mNone\u001b[0m, \u001b[38;5;34m16\u001b[0m)             │           \u001b[38;5;34m528\u001b[0m │\n",
              "├─────────────────────────────────┼────────────────────────┼───────────────┤\n",
              "│ Layer_Out (\u001b[38;5;33mDense\u001b[0m)               │ (\u001b[38;5;45mNone\u001b[0m, \u001b[38;5;34m7\u001b[0m)              │           \u001b[38;5;34m119\u001b[0m │\n",
              "└─────────────────────────────────┴────────────────────────┴───────────────┘\n"
            ],
            "text/html": [
              "<pre style=\"white-space:pre;overflow-x:auto;line-height:normal;font-family:Menlo,'DejaVu Sans Mono',consolas,'Courier New',monospace\">┏━━━━━━━━━━━━━━━━━━━━━━━━━━━━━━━━━┳━━━━━━━━━━━━━━━━━━━━━━━━┳━━━━━━━━━━━━━━━┓\n",
              "┃<span style=\"font-weight: bold\"> Layer (type)                    </span>┃<span style=\"font-weight: bold\"> Output Shape           </span>┃<span style=\"font-weight: bold\">       Param # </span>┃\n",
              "┡━━━━━━━━━━━━━━━━━━━━━━━━━━━━━━━━━╇━━━━━━━━━━━━━━━━━━━━━━━━╇━━━━━━━━━━━━━━━┩\n",
              "│ Layer_In (<span style=\"color: #0087ff; text-decoration-color: #0087ff\">Dense</span>)                │ (<span style=\"color: #00d7ff; text-decoration-color: #00d7ff\">None</span>, <span style=\"color: #00af00; text-decoration-color: #00af00\">64</span>)             │         <span style=\"color: #00af00; text-decoration-color: #00af00\">1,664</span> │\n",
              "├─────────────────────────────────┼────────────────────────┼───────────────┤\n",
              "│ dropout (<span style=\"color: #0087ff; text-decoration-color: #0087ff\">Dropout</span>)               │ (<span style=\"color: #00d7ff; text-decoration-color: #00d7ff\">None</span>, <span style=\"color: #00af00; text-decoration-color: #00af00\">64</span>)             │             <span style=\"color: #00af00; text-decoration-color: #00af00\">0</span> │\n",
              "├─────────────────────────────────┼────────────────────────┼───────────────┤\n",
              "│ Layer_H1 (<span style=\"color: #0087ff; text-decoration-color: #0087ff\">Dense</span>)                │ (<span style=\"color: #00d7ff; text-decoration-color: #00d7ff\">None</span>, <span style=\"color: #00af00; text-decoration-color: #00af00\">32</span>)             │         <span style=\"color: #00af00; text-decoration-color: #00af00\">2,080</span> │\n",
              "├─────────────────────────────────┼────────────────────────┼───────────────┤\n",
              "│ dropout_1 (<span style=\"color: #0087ff; text-decoration-color: #0087ff\">Dropout</span>)             │ (<span style=\"color: #00d7ff; text-decoration-color: #00d7ff\">None</span>, <span style=\"color: #00af00; text-decoration-color: #00af00\">32</span>)             │             <span style=\"color: #00af00; text-decoration-color: #00af00\">0</span> │\n",
              "├─────────────────────────────────┼────────────────────────┼───────────────┤\n",
              "│ Layer_H2 (<span style=\"color: #0087ff; text-decoration-color: #0087ff\">Dense</span>)                │ (<span style=\"color: #00d7ff; text-decoration-color: #00d7ff\">None</span>, <span style=\"color: #00af00; text-decoration-color: #00af00\">16</span>)             │           <span style=\"color: #00af00; text-decoration-color: #00af00\">528</span> │\n",
              "├─────────────────────────────────┼────────────────────────┼───────────────┤\n",
              "│ Layer_Out (<span style=\"color: #0087ff; text-decoration-color: #0087ff\">Dense</span>)               │ (<span style=\"color: #00d7ff; text-decoration-color: #00d7ff\">None</span>, <span style=\"color: #00af00; text-decoration-color: #00af00\">7</span>)              │           <span style=\"color: #00af00; text-decoration-color: #00af00\">119</span> │\n",
              "└─────────────────────────────────┴────────────────────────┴───────────────┘\n",
              "</pre>\n"
            ]
          },
          "metadata": {}
        },
        {
          "output_type": "display_data",
          "data": {
            "text/plain": [
              "\u001b[1m Total params: \u001b[0m\u001b[38;5;34m4,391\u001b[0m (17.15 KB)\n"
            ],
            "text/html": [
              "<pre style=\"white-space:pre;overflow-x:auto;line-height:normal;font-family:Menlo,'DejaVu Sans Mono',consolas,'Courier New',monospace\"><span style=\"font-weight: bold\"> Total params: </span><span style=\"color: #00af00; text-decoration-color: #00af00\">4,391</span> (17.15 KB)\n",
              "</pre>\n"
            ]
          },
          "metadata": {}
        },
        {
          "output_type": "display_data",
          "data": {
            "text/plain": [
              "\u001b[1m Trainable params: \u001b[0m\u001b[38;5;34m4,391\u001b[0m (17.15 KB)\n"
            ],
            "text/html": [
              "<pre style=\"white-space:pre;overflow-x:auto;line-height:normal;font-family:Menlo,'DejaVu Sans Mono',consolas,'Courier New',monospace\"><span style=\"font-weight: bold\"> Trainable params: </span><span style=\"color: #00af00; text-decoration-color: #00af00\">4,391</span> (17.15 KB)\n",
              "</pre>\n"
            ]
          },
          "metadata": {}
        },
        {
          "output_type": "display_data",
          "data": {
            "text/plain": [
              "\u001b[1m Non-trainable params: \u001b[0m\u001b[38;5;34m0\u001b[0m (0.00 B)\n"
            ],
            "text/html": [
              "<pre style=\"white-space:pre;overflow-x:auto;line-height:normal;font-family:Menlo,'DejaVu Sans Mono',consolas,'Courier New',monospace\"><span style=\"font-weight: bold\"> Non-trainable params: </span><span style=\"color: #00af00; text-decoration-color: #00af00\">0</span> (0.00 B)\n",
              "</pre>\n"
            ]
          },
          "metadata": {}
        }
      ],
      "source": [
        "model.summary()"
      ]
    },
    {
      "cell_type": "markdown",
      "id": "early-stopping-header",
      "metadata": {
        "id": "early-stopping-header"
      },
      "source": [
        "## Early Stopping Setup"
      ]
    },
    {
      "cell_type": "code",
      "execution_count": 22,
      "id": "early-stopping-code",
      "metadata": {
        "id": "early-stopping-code"
      },
      "outputs": [],
      "source": [
        "early_stopping = EarlyStopping(\n",
        "    monitor='val_loss',\n",
        "    patience=15,\n",
        "    restore_best_weights=True,\n",
        "    verbose=1\n",
        ")"
      ]
    },
    {
      "cell_type": "code",
      "execution_count": 23,
      "id": "d28b5486-e46f-4bab-a7e6-c226a5becd5e",
      "metadata": {
        "id": "d28b5486-e46f-4bab-a7e6-c226a5becd5e",
        "outputId": "dc32acc1-4bed-4f99-9ff8-63a7a8b475c8",
        "colab": {
          "base_uri": "https://localhost:8080/"
        }
      },
      "outputs": [
        {
          "output_type": "stream",
          "name": "stdout",
          "text": [
            "Epoch 1/50\n"
          ]
        },
        {
          "output_type": "stream",
          "name": "stderr",
          "text": [
            "/usr/local/lib/python3.12/dist-packages/keras/src/backend/tensorflow/nn.py:717: UserWarning: \"`sparse_categorical_crossentropy` received `from_logits=True`, but the `output` argument was produced by a Softmax activation and thus does not represent logits. Was this intended?\n",
            "  output, from_logits = _get_logits(\n"
          ]
        },
        {
          "output_type": "stream",
          "name": "stdout",
          "text": [
            "97/97 - 2s - 20ms/step - accuracy: 0.2244 - loss: 1.9046 - val_accuracy: 0.3316 - val_loss: 1.7681\n",
            "Epoch 2/50\n",
            "97/97 - 0s - 3ms/step - accuracy: 0.3281 - loss: 1.7138 - val_accuracy: 0.4508 - val_loss: 1.5114\n",
            "Epoch 3/50\n",
            "97/97 - 0s - 3ms/step - accuracy: 0.4125 - loss: 1.5576 - val_accuracy: 0.4689 - val_loss: 1.3955\n",
            "Epoch 4/50\n",
            "97/97 - 0s - 3ms/step - accuracy: 0.4293 - loss: 1.4908 - val_accuracy: 0.5104 - val_loss: 1.3478\n",
            "Epoch 5/50\n",
            "97/97 - 0s - 3ms/step - accuracy: 0.4611 - loss: 1.4285 - val_accuracy: 0.5155 - val_loss: 1.3170\n",
            "Epoch 6/50\n",
            "97/97 - 0s - 3ms/step - accuracy: 0.4643 - loss: 1.4278 - val_accuracy: 0.5285 - val_loss: 1.2989\n",
            "Epoch 7/50\n",
            "97/97 - 0s - 3ms/step - accuracy: 0.4929 - loss: 1.3827 - val_accuracy: 0.5440 - val_loss: 1.2769\n",
            "Epoch 8/50\n",
            "97/97 - 0s - 3ms/step - accuracy: 0.5143 - loss: 1.3535 - val_accuracy: 0.5699 - val_loss: 1.2627\n",
            "Epoch 9/50\n",
            "97/97 - 0s - 3ms/step - accuracy: 0.5175 - loss: 1.3515 - val_accuracy: 0.5648 - val_loss: 1.2447\n",
            "Epoch 10/50\n",
            "97/97 - 0s - 3ms/step - accuracy: 0.5188 - loss: 1.3277 - val_accuracy: 0.5959 - val_loss: 1.2304\n",
            "Epoch 11/50\n",
            "97/97 - 0s - 3ms/step - accuracy: 0.5447 - loss: 1.3012 - val_accuracy: 0.6114 - val_loss: 1.2141\n",
            "Epoch 12/50\n",
            "97/97 - 0s - 3ms/step - accuracy: 0.5590 - loss: 1.2821 - val_accuracy: 0.6218 - val_loss: 1.2069\n",
            "Epoch 13/50\n",
            "97/97 - 0s - 3ms/step - accuracy: 0.5681 - loss: 1.2422 - val_accuracy: 0.6114 - val_loss: 1.1989\n",
            "Epoch 14/50\n",
            "97/97 - 0s - 3ms/step - accuracy: 0.5545 - loss: 1.2553 - val_accuracy: 0.6269 - val_loss: 1.1837\n",
            "Epoch 15/50\n",
            "97/97 - 0s - 3ms/step - accuracy: 0.5649 - loss: 1.2345 - val_accuracy: 0.6503 - val_loss: 1.1770\n",
            "Epoch 16/50\n",
            "97/97 - 0s - 3ms/step - accuracy: 0.5895 - loss: 1.2181 - val_accuracy: 0.6528 - val_loss: 1.1690\n",
            "Epoch 17/50\n",
            "97/97 - 0s - 3ms/step - accuracy: 0.5856 - loss: 1.2200 - val_accuracy: 0.6321 - val_loss: 1.1788\n",
            "Epoch 18/50\n",
            "97/97 - 0s - 3ms/step - accuracy: 0.5700 - loss: 1.2002 - val_accuracy: 0.6451 - val_loss: 1.1601\n",
            "Epoch 19/50\n",
            "97/97 - 0s - 4ms/step - accuracy: 0.5992 - loss: 1.1868 - val_accuracy: 0.6451 - val_loss: 1.1461\n",
            "Epoch 20/50\n",
            "97/97 - 0s - 4ms/step - accuracy: 0.5934 - loss: 1.1762 - val_accuracy: 0.6347 - val_loss: 1.1519\n",
            "Epoch 21/50\n",
            "97/97 - 1s - 6ms/step - accuracy: 0.6005 - loss: 1.1532 - val_accuracy: 0.6658 - val_loss: 1.1292\n",
            "Epoch 22/50\n",
            "97/97 - 0s - 5ms/step - accuracy: 0.6141 - loss: 1.1510 - val_accuracy: 0.6528 - val_loss: 1.1214\n",
            "Epoch 23/50\n",
            "97/97 - 1s - 6ms/step - accuracy: 0.6025 - loss: 1.1445 - val_accuracy: 0.6762 - val_loss: 1.1237\n",
            "Epoch 24/50\n",
            "97/97 - 0s - 3ms/step - accuracy: 0.6226 - loss: 1.1127 - val_accuracy: 0.6762 - val_loss: 1.1150\n",
            "Epoch 25/50\n",
            "97/97 - 0s - 3ms/step - accuracy: 0.6167 - loss: 1.1073 - val_accuracy: 0.6788 - val_loss: 1.1065\n",
            "Epoch 26/50\n",
            "97/97 - 0s - 3ms/step - accuracy: 0.6206 - loss: 1.1042 - val_accuracy: 0.6710 - val_loss: 1.1031\n",
            "Epoch 27/50\n",
            "97/97 - 0s - 3ms/step - accuracy: 0.6219 - loss: 1.0964 - val_accuracy: 0.6788 - val_loss: 1.0993\n",
            "Epoch 28/50\n",
            "97/97 - 0s - 3ms/step - accuracy: 0.6291 - loss: 1.0758 - val_accuracy: 0.6658 - val_loss: 1.0991\n",
            "Epoch 29/50\n",
            "97/97 - 0s - 5ms/step - accuracy: 0.6329 - loss: 1.0796 - val_accuracy: 0.6995 - val_loss: 1.0940\n",
            "Epoch 30/50\n",
            "97/97 - 0s - 4ms/step - accuracy: 0.6349 - loss: 1.0578 - val_accuracy: 0.6943 - val_loss: 1.0850\n",
            "Epoch 31/50\n",
            "97/97 - 0s - 4ms/step - accuracy: 0.6446 - loss: 1.0523 - val_accuracy: 0.6710 - val_loss: 1.0914\n",
            "Epoch 32/50\n",
            "97/97 - 1s - 7ms/step - accuracy: 0.6420 - loss: 1.0456 - val_accuracy: 0.6943 - val_loss: 1.0690\n",
            "Epoch 33/50\n",
            "97/97 - 1s - 6ms/step - accuracy: 0.6654 - loss: 1.0066 - val_accuracy: 0.6969 - val_loss: 1.0619\n",
            "Epoch 34/50\n",
            "97/97 - 0s - 4ms/step - accuracy: 0.6550 - loss: 1.0254 - val_accuracy: 0.6917 - val_loss: 1.0690\n",
            "Epoch 35/50\n",
            "97/97 - 0s - 3ms/step - accuracy: 0.6582 - loss: 1.0202 - val_accuracy: 0.6917 - val_loss: 1.0623\n",
            "Epoch 36/50\n",
            "97/97 - 0s - 3ms/step - accuracy: 0.6634 - loss: 0.9990 - val_accuracy: 0.6969 - val_loss: 1.0539\n",
            "Epoch 37/50\n",
            "97/97 - 0s - 3ms/step - accuracy: 0.6628 - loss: 1.0081 - val_accuracy: 0.6788 - val_loss: 1.0509\n",
            "Epoch 38/50\n",
            "97/97 - 0s - 3ms/step - accuracy: 0.6576 - loss: 0.9915 - val_accuracy: 0.6943 - val_loss: 1.0438\n",
            "Epoch 39/50\n",
            "97/97 - 0s - 3ms/step - accuracy: 0.6686 - loss: 0.9884 - val_accuracy: 0.6813 - val_loss: 1.0434\n",
            "Epoch 40/50\n",
            "97/97 - 0s - 3ms/step - accuracy: 0.6693 - loss: 0.9765 - val_accuracy: 0.6865 - val_loss: 1.0330\n",
            "Epoch 41/50\n",
            "97/97 - 0s - 3ms/step - accuracy: 0.6595 - loss: 0.9849 - val_accuracy: 0.6917 - val_loss: 1.0461\n",
            "Epoch 42/50\n",
            "97/97 - 0s - 3ms/step - accuracy: 0.6621 - loss: 0.9793 - val_accuracy: 0.6736 - val_loss: 1.0482\n",
            "Epoch 43/50\n",
            "97/97 - 0s - 3ms/step - accuracy: 0.6777 - loss: 0.9578 - val_accuracy: 0.7098 - val_loss: 1.0438\n",
            "Epoch 44/50\n",
            "97/97 - 0s - 3ms/step - accuracy: 0.6556 - loss: 0.9900 - val_accuracy: 0.7073 - val_loss: 1.0284\n",
            "Epoch 45/50\n",
            "97/97 - 0s - 3ms/step - accuracy: 0.6751 - loss: 0.9445 - val_accuracy: 0.6995 - val_loss: 1.0260\n",
            "Epoch 46/50\n",
            "97/97 - 0s - 4ms/step - accuracy: 0.6816 - loss: 0.9441 - val_accuracy: 0.6917 - val_loss: 1.0307\n",
            "Epoch 47/50\n",
            "97/97 - 0s - 3ms/step - accuracy: 0.6861 - loss: 0.9351 - val_accuracy: 0.6839 - val_loss: 1.0367\n",
            "Epoch 48/50\n",
            "97/97 - 0s - 3ms/step - accuracy: 0.6563 - loss: 0.9654 - val_accuracy: 0.7124 - val_loss: 1.0177\n",
            "Epoch 49/50\n",
            "97/97 - 0s - 3ms/step - accuracy: 0.6900 - loss: 0.9384 - val_accuracy: 0.7021 - val_loss: 1.0216\n",
            "Epoch 50/50\n",
            "97/97 - 0s - 3ms/step - accuracy: 0.6939 - loss: 0.9103 - val_accuracy: 0.7124 - val_loss: 1.0206\n",
            "Restoring model weights from the end of the best epoch: 48.\n"
          ]
        },
        {
          "output_type": "execute_result",
          "data": {
            "text/plain": [
              "<keras.src.callbacks.history.History at 0x7d642d05a9c0>"
            ]
          },
          "metadata": {},
          "execution_count": 23
        }
      ],
      "source": [
        "model.fit(x_train, y_train,\n",
        "          epochs=50,\n",
        "          batch_size=16,\n",
        "          validation_data=(x_test, y_test),\n",
        "          class_weight=class_weights,\n",
        "          callbacks=[early_stopping],\n",
        "          verbose=2)"
      ]
    },
    {
      "cell_type": "markdown",
      "id": "378bdb8b-41aa-4834-82cc-8983d53072e2",
      "metadata": {
        "id": "378bdb8b-41aa-4834-82cc-8983d53072e2"
      },
      "source": [
        "# Evaluation"
      ]
    },
    {
      "cell_type": "code",
      "execution_count": 24,
      "id": "aa1235c3-ef8a-4174-a243-11242864dc86",
      "metadata": {
        "id": "aa1235c3-ef8a-4174-a243-11242864dc86",
        "outputId": "31ec25c1-62b1-49c0-d77e-3d2f2ab03d9e",
        "colab": {
          "base_uri": "https://localhost:8080/"
        }
      },
      "outputs": [
        {
          "output_type": "stream",
          "name": "stdout",
          "text": [
            "Final Validation Accuracy: 71.24%\n",
            "Final Validation Loss: 1.0177\n"
          ]
        }
      ],
      "source": [
        "loss, accuracy = model.evaluate(x_test, y_test, verbose=0)\n",
        "\n",
        "print(f\"Final Validation Accuracy: {accuracy * 100:.2f}%\")\n",
        "print(f\"Final Validation Loss: {loss:.4f}\")"
      ]
    }
  ],
  "metadata": {
    "colab": {
      "provenance": [],
      "include_colab_link": true
    },
    "kernelspec": {
      "display_name": "Python 3 (ipykernel)",
      "language": "python",
      "name": "python3"
    },
    "language_info": {
      "codemirror_mode": {
        "name": "ipython",
        "version": 3
      },
      "file_extension": ".py",
      "mimetype": "text/x-python",
      "name": "python",
      "nbconvert_exporter": "python",
      "pygments_lexer": "ipython3",
      "version": "3.13.7"
    }
  },
  "nbformat": 4,
  "nbformat_minor": 5
}