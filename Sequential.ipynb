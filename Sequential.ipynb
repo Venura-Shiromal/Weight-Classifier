{
 "cells": [
  {
   "cell_type": "markdown",
   "id": "71e5bcfc",
   "metadata": {
    "colab_type": "text",
    "id": "view-in-github"
   },
   "source": [
    "<a href=\"https://colab.research.google.com/github/Venura-Shiromal/Weight-Classifier/blob/main/CatBoost.ipynb\" target=\"_parent\"><img src=\"https://colab.research.google.com/assets/colab-badge.svg\" alt=\"Open In Colab\"/></a>"
   ]
  },
  {
   "cell_type": "markdown",
   "id": "bbe3d965-5744-4d62-86c0-51c3ed3844b6",
   "metadata": {},
   "source": [
    "## Importing Modules"
   ]
  },
  {
   "cell_type": "code",
   "execution_count": 41,
   "id": "ed878b07-70d9-47ee-9e8f-c84f5b914cbd",
   "metadata": {},
   "outputs": [],
   "source": [
    "import numpy as np\n",
    "import pandas as pd\n",
    "import tensorflow as tf\n",
    "from tensorflow.keras import Sequential\n",
    "from tensorflow.keras.layers import Dense, Input\n",
    "from sklearn.model_selection import train_test_split"
   ]
  },
  {
   "cell_type": "markdown",
   "id": "2b3347ec-f689-49fe-a301-a2de638476a7",
   "metadata": {},
   "source": [
    "# Input"
   ]
  },
  {
   "cell_type": "markdown",
   "id": "5d6d28d7-1839-4b3e-a3a0-bc1cd64c065e",
   "metadata": {},
   "source": [
    "## Loading Training Data"
   ]
  },
  {
   "cell_type": "code",
   "execution_count": 2,
   "id": "e3007e20-e5a4-4b49-9f68-c7653841346c",
   "metadata": {
    "id": "e3007e20-e5a4-4b49-9f68-c7653841346c"
   },
   "outputs": [],
   "source": [
    "df = pd.read_csv(\"data/train.csv\")"
   ]
  },
  {
   "cell_type": "code",
   "execution_count": 42,
   "id": "42bf22e7-55a1-4102-89fa-5ebc45bc6b6a",
   "metadata": {},
   "outputs": [
    {
     "data": {
      "text/html": [
       "<div>\n",
       "<style scoped>\n",
       "    .dataframe tbody tr th:only-of-type {\n",
       "        vertical-align: middle;\n",
       "    }\n",
       "\n",
       "    .dataframe tbody tr th {\n",
       "        vertical-align: top;\n",
       "    }\n",
       "\n",
       "    .dataframe thead th {\n",
       "        text-align: right;\n",
       "    }\n",
       "</style>\n",
       "<table border=\"1\" class=\"dataframe\">\n",
       "  <thead>\n",
       "    <tr style=\"text-align: right;\">\n",
       "      <th></th>\n",
       "      <th>Age_Years</th>\n",
       "      <th>High_Calorie_Food</th>\n",
       "      <th>Vegetable_Intake</th>\n",
       "      <th>Meal_Frequency</th>\n",
       "      <th>Water_Intake</th>\n",
       "      <th>Screen_Time_Hours</th>\n",
       "      <th>Family_Risk</th>\n",
       "      <th>Activity_Level_Score</th>\n",
       "      <th>Gender</th>\n",
       "      <th>Family_History</th>\n",
       "      <th>...</th>\n",
       "      <th>Commute_Mode_Bike</th>\n",
       "      <th>Commute_Mode_Motorbike</th>\n",
       "      <th>Commute_Mode_Public_Transportation</th>\n",
       "      <th>Commute_Mode_Walking</th>\n",
       "      <th>Leisure Time Activity_Gaming</th>\n",
       "      <th>Leisure Time Activity_Music</th>\n",
       "      <th>Leisure Time Activity_Painting</th>\n",
       "      <th>Leisure Time Activity_Reading</th>\n",
       "      <th>Leisure Time Activity_Sport</th>\n",
       "      <th>Leisure Time Activity_Sports</th>\n",
       "    </tr>\n",
       "  </thead>\n",
       "  <tbody>\n",
       "    <tr>\n",
       "      <th>0</th>\n",
       "      <td>26.000000</td>\n",
       "      <td>1</td>\n",
       "      <td>3.000000</td>\n",
       "      <td>3.000000</td>\n",
       "      <td>2.679137</td>\n",
       "      <td>0.479348</td>\n",
       "      <td>1.000000</td>\n",
       "      <td>0.479348</td>\n",
       "      <td>0</td>\n",
       "      <td>1</td>\n",
       "      <td>...</td>\n",
       "      <td>False</td>\n",
       "      <td>False</td>\n",
       "      <td>True</td>\n",
       "      <td>False</td>\n",
       "      <td>False</td>\n",
       "      <td>False</td>\n",
       "      <td>False</td>\n",
       "      <td>True</td>\n",
       "      <td>False</td>\n",
       "      <td>False</td>\n",
       "    </tr>\n",
       "    <tr>\n",
       "      <th>1</th>\n",
       "      <td>25.483381</td>\n",
       "      <td>0</td>\n",
       "      <td>2.000000</td>\n",
       "      <td>1.000000</td>\n",
       "      <td>1.000000</td>\n",
       "      <td>0.000000</td>\n",
       "      <td>1.000000</td>\n",
       "      <td>0.740633</td>\n",
       "      <td>0</td>\n",
       "      <td>1</td>\n",
       "      <td>...</td>\n",
       "      <td>False</td>\n",
       "      <td>False</td>\n",
       "      <td>True</td>\n",
       "      <td>False</td>\n",
       "      <td>False</td>\n",
       "      <td>False</td>\n",
       "      <td>False</td>\n",
       "      <td>True</td>\n",
       "      <td>False</td>\n",
       "      <td>False</td>\n",
       "    </tr>\n",
       "    <tr>\n",
       "      <th>2</th>\n",
       "      <td>26.000000</td>\n",
       "      <td>1</td>\n",
       "      <td>3.000000</td>\n",
       "      <td>3.000000</td>\n",
       "      <td>2.577210</td>\n",
       "      <td>0.402075</td>\n",
       "      <td>1.000000</td>\n",
       "      <td>0.402075</td>\n",
       "      <td>0</td>\n",
       "      <td>1</td>\n",
       "      <td>...</td>\n",
       "      <td>False</td>\n",
       "      <td>False</td>\n",
       "      <td>True</td>\n",
       "      <td>False</td>\n",
       "      <td>False</td>\n",
       "      <td>False</td>\n",
       "      <td>False</td>\n",
       "      <td>True</td>\n",
       "      <td>False</td>\n",
       "      <td>False</td>\n",
       "    </tr>\n",
       "    <tr>\n",
       "      <th>3</th>\n",
       "      <td>21.715198</td>\n",
       "      <td>1</td>\n",
       "      <td>3.031308</td>\n",
       "      <td>3.322455</td>\n",
       "      <td>1.983531</td>\n",
       "      <td>-0.005858</td>\n",
       "      <td>0.987933</td>\n",
       "      <td>0.360441</td>\n",
       "      <td>1</td>\n",
       "      <td>1</td>\n",
       "      <td>...</td>\n",
       "      <td>False</td>\n",
       "      <td>False</td>\n",
       "      <td>True</td>\n",
       "      <td>False</td>\n",
       "      <td>False</td>\n",
       "      <td>False</td>\n",
       "      <td>False</td>\n",
       "      <td>True</td>\n",
       "      <td>False</td>\n",
       "      <td>False</td>\n",
       "    </tr>\n",
       "    <tr>\n",
       "      <th>4</th>\n",
       "      <td>17.511767</td>\n",
       "      <td>1</td>\n",
       "      <td>1.964873</td>\n",
       "      <td>1.052297</td>\n",
       "      <td>2.025586</td>\n",
       "      <td>0.981999</td>\n",
       "      <td>1.004136</td>\n",
       "      <td>1.162488</td>\n",
       "      <td>0</td>\n",
       "      <td>1</td>\n",
       "      <td>...</td>\n",
       "      <td>False</td>\n",
       "      <td>False</td>\n",
       "      <td>True</td>\n",
       "      <td>False</td>\n",
       "      <td>True</td>\n",
       "      <td>False</td>\n",
       "      <td>False</td>\n",
       "      <td>False</td>\n",
       "      <td>False</td>\n",
       "      <td>False</td>\n",
       "    </tr>\n",
       "  </tbody>\n",
       "</table>\n",
       "<p>5 rows × 26 columns</p>\n",
       "</div>"
      ],
      "text/plain": [
       "   Age_Years  High_Calorie_Food  Vegetable_Intake  Meal_Frequency  \\\n",
       "0  26.000000                  1          3.000000        3.000000   \n",
       "1  25.483381                  0          2.000000        1.000000   \n",
       "2  26.000000                  1          3.000000        3.000000   \n",
       "3  21.715198                  1          3.031308        3.322455   \n",
       "4  17.511767                  1          1.964873        1.052297   \n",
       "\n",
       "   Water_Intake  Screen_Time_Hours  Family_Risk  Activity_Level_Score  Gender  \\\n",
       "0      2.679137           0.479348     1.000000              0.479348       0   \n",
       "1      1.000000           0.000000     1.000000              0.740633       0   \n",
       "2      2.577210           0.402075     1.000000              0.402075       0   \n",
       "3      1.983531          -0.005858     0.987933              0.360441       1   \n",
       "4      2.025586           0.981999     1.004136              1.162488       0   \n",
       "\n",
       "   Family_History  ...  Commute_Mode_Bike  Commute_Mode_Motorbike  \\\n",
       "0               1  ...              False                   False   \n",
       "1               1  ...              False                   False   \n",
       "2               1  ...              False                   False   \n",
       "3               1  ...              False                   False   \n",
       "4               1  ...              False                   False   \n",
       "\n",
       "   Commute_Mode_Public_Transportation  Commute_Mode_Walking  \\\n",
       "0                                True                 False   \n",
       "1                                True                 False   \n",
       "2                                True                 False   \n",
       "3                                True                 False   \n",
       "4                                True                 False   \n",
       "\n",
       "   Leisure Time Activity_Gaming  Leisure Time Activity_Music  \\\n",
       "0                         False                        False   \n",
       "1                         False                        False   \n",
       "2                         False                        False   \n",
       "3                         False                        False   \n",
       "4                          True                        False   \n",
       "\n",
       "   Leisure Time Activity_Painting  Leisure Time Activity_Reading  \\\n",
       "0                           False                           True   \n",
       "1                           False                           True   \n",
       "2                           False                           True   \n",
       "3                           False                           True   \n",
       "4                           False                          False   \n",
       "\n",
       "   Leisure Time Activity_Sport  Leisure Time Activity_Sports  \n",
       "0                        False                         False  \n",
       "1                        False                         False  \n",
       "2                        False                         False  \n",
       "3                        False                         False  \n",
       "4                        False                         False  \n",
       "\n",
       "[5 rows x 26 columns]"
      ]
     },
     "execution_count": 42,
     "metadata": {},
     "output_type": "execute_result"
    }
   ],
   "source": [
    "df.head()"
   ]
  },
  {
   "cell_type": "markdown",
   "id": "00f4dc9b-9a03-40d6-a920-6ca1797fb621",
   "metadata": {},
   "source": [
    "# Preprocessing"
   ]
  },
  {
   "cell_type": "markdown",
   "id": "f4aa1e50-b884-4dde-a93c-af8b2fdaa3aa",
   "metadata": {},
   "source": [
    "### Combined Fields"
   ]
  },
  {
   "cell_type": "code",
   "execution_count": 4,
   "id": "cd532f31-e858-4e60-accc-83cb38802f11",
   "metadata": {},
   "outputs": [],
   "source": [
    "df[\"BMI\"] = df[\"Weight_Kg\"]/(df[\"Height_cm\"]/100)**2"
   ]
  },
  {
   "cell_type": "markdown",
   "id": "5a9f9b68-1483-401e-ba2e-5c5b100af241",
   "metadata": {},
   "source": [
    "### Removing unwanted fields"
   ]
  },
  {
   "cell_type": "code",
   "execution_count": 5,
   "id": "6fb03885-e9fa-456c-bf7f-e396ac434ac2",
   "metadata": {},
   "outputs": [],
   "source": [
    "drop_cols = [\n",
    "    \"PersonID\", \n",
    "    \"Weight_Kg\", \n",
    "    \"Height_cm\" \n",
    "]"
   ]
  },
  {
   "cell_type": "code",
   "execution_count": 6,
   "id": "1c655116-9c68-4ba4-a9ef-a2dc6e751980",
   "metadata": {},
   "outputs": [],
   "source": [
    "df = df.drop(drop_cols, axis=1)"
   ]
  },
  {
   "cell_type": "markdown",
   "id": "e6302ab5-217e-4cb0-a6f0-3d6a4abafaea",
   "metadata": {},
   "source": [
    "### Removing missing cells"
   ]
  },
  {
   "cell_type": "code",
   "execution_count": 7,
   "id": "b4b6cd9f-573e-44c8-a391-937283bf74f0",
   "metadata": {},
   "outputs": [
    {
     "data": {
      "text/plain": [
       "Gender                       30\n",
       "Alcohol_Consumption          37\n",
       "Physical_Activity_Level    1498\n",
       "dtype: int64"
      ]
     },
     "execution_count": 7,
     "metadata": {},
     "output_type": "execute_result"
    }
   ],
   "source": [
    "df.isna().sum()[df.isna().sum() > 0]"
   ]
  },
  {
   "cell_type": "code",
   "execution_count": 8,
   "id": "2069674e-414e-41a0-abc6-f15e425c212c",
   "metadata": {},
   "outputs": [],
   "source": [
    "df = df.drop([\"Physical_Activity_Level\"], axis=1)"
   ]
  },
  {
   "cell_type": "code",
   "execution_count": 9,
   "id": "158a85dc-f9db-40bc-9dfa-ce27723c9579",
   "metadata": {},
   "outputs": [],
   "source": [
    "missing_cols = [\"Gender\", \"Alcohol_Consumption\"]\n",
    "df = df.dropna(subset=missing_cols)"
   ]
  },
  {
   "cell_type": "markdown",
   "id": "43e673c7-c54c-4e35-874a-d89e15b933ef",
   "metadata": {},
   "source": [
    "### Mapping"
   ]
  },
  {
   "cell_type": "code",
   "execution_count": 10,
   "id": "d21f1027-754f-43cf-b43b-931118bd0ddc",
   "metadata": {},
   "outputs": [],
   "source": [
    "map_YN = {\n",
    "    \"Yes\" : 1,\n",
    "    \"yes\" : 1,\n",
    "    \"yess\" : 1,\n",
    "    \"No\" : 0,\n",
    "    \"no\" : 0\n",
    "}\n",
    "\n",
    "map_Gender = {\n",
    "    \"Male\": 1,\n",
    "    \"Female\": 0\n",
    "}\n",
    "\n",
    "map_Frq = {\n",
    "    \"no\" : 0,\n",
    "    \"Never\" : 0,\n",
    "    \"Sometimes\" : 1,\n",
    "    \"Occasionally\" : 1,\n",
    "    \"Frequently\" : 2,\n",
    "    \"Often\" : 2,\n",
    "    \"Always\" : 3\n",
    "}\n",
    "\n",
    "map_Cat = {\n",
    "    'Insufficient_Weight': 0,\n",
    "    'Normal_Weight': 1,\n",
    "    'Overweight_Level_I': 2,\n",
    "    'Overweight_Level_II': 3,\n",
    "    'Obesity_Type_I': 4,\n",
    "    'Obesity_Type_II': 5,\n",
    "    'Obesity_Type_III': 6\n",
    "}"
   ]
  },
  {
   "cell_type": "code",
   "execution_count": 11,
   "id": "56a0ccab-402a-4f5e-a739-1cd8b8a552f2",
   "metadata": {},
   "outputs": [],
   "source": [
    "df[\"Gender\"] = df[\"Gender\"].map(map_Gender)\n",
    "df[\"High_Calorie_Food\"] = df[\"High_Calorie_Food\"].map(map_YN)\n",
    "df[\"Family_History\"] = df[\"Family_History\"].map(map_YN)\n",
    "df[\"Smoking_Habit\"] = df[\"Smoking_Habit\"].map(map_YN)\n",
    "df[\"Snack_Frequency\"] = df[\"Snack_Frequency\"].map(map_Frq)\n",
    "df[\"Alcohol_Consumption\"] = df[\"Alcohol_Consumption\"].map(map_Frq)\n",
    "df[\"Weight_Category\"] = df[\"Weight_Category\"].map(map_Cat)"
   ]
  },
  {
   "cell_type": "markdown",
   "id": "0f120efb-da47-465e-8a87-bbecd8f2a466",
   "metadata": {},
   "source": [
    "### One Hot Encoding"
   ]
  },
  {
   "cell_type": "code",
   "execution_count": 12,
   "id": "eaf04cec-2ccf-46c5-836c-526ca928a9d9",
   "metadata": {},
   "outputs": [],
   "source": [
    "df = pd.get_dummies(df, columns=['Commute_Mode','Leisure Time Activity'])"
   ]
  },
  {
   "cell_type": "markdown",
   "id": "59f5f7e2-6963-46ac-9d4d-72872edda59c",
   "metadata": {},
   "source": [
    "## Defining X,Y"
   ]
  },
  {
   "cell_type": "code",
   "execution_count": 13,
   "id": "d1e03da5-7234-4cd8-90d6-9e74c2b098ca",
   "metadata": {},
   "outputs": [],
   "source": [
    "x = df.drop([\"Weight_Category\"], axis=1)\n",
    "y = df[\"Weight_Category\"]"
   ]
  },
  {
   "cell_type": "markdown",
   "id": "f8ad764f-46c4-4d69-b00e-e2dc250ea2e9",
   "metadata": {},
   "source": [
    "## Data Splitting"
   ]
  },
  {
   "cell_type": "code",
   "execution_count": 14,
   "id": "08aebdd8-1664-4df8-9588-ccfe91629b79",
   "metadata": {},
   "outputs": [],
   "source": [
    "x_train, x_test, y_train, y_test = train_test_split(x, y, test_size=0.2, random_state=42, stratify=y)"
   ]
  },
  {
   "cell_type": "markdown",
   "id": "952e0887-4175-4a9c-bb82-5c356b3c5d18",
   "metadata": {},
   "source": [
    "# Training"
   ]
  },
  {
   "cell_type": "code",
   "execution_count": 72,
   "id": "0ece835a-d72c-404b-bd7b-c38631fd49d8",
   "metadata": {},
   "outputs": [],
   "source": [
    "model = Sequential([\n",
    "        Input(shape=[25]),\n",
    "        Dense(25, activation=\"relu\", name=\"Layer_In\"),\n",
    "        Dense(12, activation=\"relu\", name=\"Layer_H2\"),\n",
    "        Dense(7, activation=\"softmax\", name=\"Layer_Out\")\n",
    "    ])"
   ]
  },
  {
   "cell_type": "code",
   "execution_count": 73,
   "id": "27deb97f-ff29-4dc7-bebe-61f0b12c594f",
   "metadata": {},
   "outputs": [],
   "source": [
    "model.compile(\n",
    "    optimizer='adam',\n",
    "    loss=\"sparse_categorical_crossentropy\",\n",
    "    metrics=['accuracy']\n",
    ")"
   ]
  },
  {
   "cell_type": "code",
   "execution_count": 74,
   "id": "ed888514-96e0-4c6a-a959-8feb642e988b",
   "metadata": {},
   "outputs": [
    {
     "data": {
      "text/html": [
       "<pre style=\"white-space:pre;overflow-x:auto;line-height:normal;font-family:Menlo,'DejaVu Sans Mono',consolas,'Courier New',monospace\"><span style=\"font-weight: bold\">Model: \"sequential_3\"</span>\n",
       "</pre>\n"
      ],
      "text/plain": [
       "\u001b[1mModel: \"sequential_3\"\u001b[0m\n"
      ]
     },
     "metadata": {},
     "output_type": "display_data"
    },
    {
     "data": {
      "text/html": [
       "<pre style=\"white-space:pre;overflow-x:auto;line-height:normal;font-family:Menlo,'DejaVu Sans Mono',consolas,'Courier New',monospace\">┏━━━━━━━━━━━━━━━━━━━━━━━━━━━━━━━━━━━━━━┳━━━━━━━━━━━━━━━━━━━━━━━━━━━━━┳━━━━━━━━━━━━━━━━━┓\n",
       "┃<span style=\"font-weight: bold\"> Layer (type)                         </span>┃<span style=\"font-weight: bold\"> Output Shape                </span>┃<span style=\"font-weight: bold\">         Param # </span>┃\n",
       "┡━━━━━━━━━━━━━━━━━━━━━━━━━━━━━━━━━━━━━━╇━━━━━━━━━━━━━━━━━━━━━━━━━━━━━╇━━━━━━━━━━━━━━━━━┩\n",
       "│ Layer_In (<span style=\"color: #0087ff; text-decoration-color: #0087ff\">Dense</span>)                     │ (<span style=\"color: #00d7ff; text-decoration-color: #00d7ff\">None</span>, <span style=\"color: #00af00; text-decoration-color: #00af00\">25</span>)                  │             <span style=\"color: #00af00; text-decoration-color: #00af00\">650</span> │\n",
       "├──────────────────────────────────────┼─────────────────────────────┼─────────────────┤\n",
       "│ Layer_H2 (<span style=\"color: #0087ff; text-decoration-color: #0087ff\">Dense</span>)                     │ (<span style=\"color: #00d7ff; text-decoration-color: #00d7ff\">None</span>, <span style=\"color: #00af00; text-decoration-color: #00af00\">12</span>)                  │             <span style=\"color: #00af00; text-decoration-color: #00af00\">312</span> │\n",
       "├──────────────────────────────────────┼─────────────────────────────┼─────────────────┤\n",
       "│ Layer_Out (<span style=\"color: #0087ff; text-decoration-color: #0087ff\">Dense</span>)                    │ (<span style=\"color: #00d7ff; text-decoration-color: #00d7ff\">None</span>, <span style=\"color: #00af00; text-decoration-color: #00af00\">7</span>)                   │              <span style=\"color: #00af00; text-decoration-color: #00af00\">91</span> │\n",
       "└──────────────────────────────────────┴─────────────────────────────┴─────────────────┘\n",
       "</pre>\n"
      ],
      "text/plain": [
       "┏━━━━━━━━━━━━━━━━━━━━━━━━━━━━━━━━━━━━━━┳━━━━━━━━━━━━━━━━━━━━━━━━━━━━━┳━━━━━━━━━━━━━━━━━┓\n",
       "┃\u001b[1m \u001b[0m\u001b[1mLayer (type)                        \u001b[0m\u001b[1m \u001b[0m┃\u001b[1m \u001b[0m\u001b[1mOutput Shape               \u001b[0m\u001b[1m \u001b[0m┃\u001b[1m \u001b[0m\u001b[1m        Param #\u001b[0m\u001b[1m \u001b[0m┃\n",
       "┡━━━━━━━━━━━━━━━━━━━━━━━━━━━━━━━━━━━━━━╇━━━━━━━━━━━━━━━━━━━━━━━━━━━━━╇━━━━━━━━━━━━━━━━━┩\n",
       "│ Layer_In (\u001b[38;5;33mDense\u001b[0m)                     │ (\u001b[38;5;45mNone\u001b[0m, \u001b[38;5;34m25\u001b[0m)                  │             \u001b[38;5;34m650\u001b[0m │\n",
       "├──────────────────────────────────────┼─────────────────────────────┼─────────────────┤\n",
       "│ Layer_H2 (\u001b[38;5;33mDense\u001b[0m)                     │ (\u001b[38;5;45mNone\u001b[0m, \u001b[38;5;34m12\u001b[0m)                  │             \u001b[38;5;34m312\u001b[0m │\n",
       "├──────────────────────────────────────┼─────────────────────────────┼─────────────────┤\n",
       "│ Layer_Out (\u001b[38;5;33mDense\u001b[0m)                    │ (\u001b[38;5;45mNone\u001b[0m, \u001b[38;5;34m7\u001b[0m)                   │              \u001b[38;5;34m91\u001b[0m │\n",
       "└──────────────────────────────────────┴─────────────────────────────┴─────────────────┘\n"
      ]
     },
     "metadata": {},
     "output_type": "display_data"
    },
    {
     "data": {
      "text/html": [
       "<pre style=\"white-space:pre;overflow-x:auto;line-height:normal;font-family:Menlo,'DejaVu Sans Mono',consolas,'Courier New',monospace\"><span style=\"font-weight: bold\"> Total params: </span><span style=\"color: #00af00; text-decoration-color: #00af00\">1,053</span> (4.11 KB)\n",
       "</pre>\n"
      ],
      "text/plain": [
       "\u001b[1m Total params: \u001b[0m\u001b[38;5;34m1,053\u001b[0m (4.11 KB)\n"
      ]
     },
     "metadata": {},
     "output_type": "display_data"
    },
    {
     "data": {
      "text/html": [
       "<pre style=\"white-space:pre;overflow-x:auto;line-height:normal;font-family:Menlo,'DejaVu Sans Mono',consolas,'Courier New',monospace\"><span style=\"font-weight: bold\"> Trainable params: </span><span style=\"color: #00af00; text-decoration-color: #00af00\">1,053</span> (4.11 KB)\n",
       "</pre>\n"
      ],
      "text/plain": [
       "\u001b[1m Trainable params: \u001b[0m\u001b[38;5;34m1,053\u001b[0m (4.11 KB)\n"
      ]
     },
     "metadata": {},
     "output_type": "display_data"
    },
    {
     "data": {
      "text/html": [
       "<pre style=\"white-space:pre;overflow-x:auto;line-height:normal;font-family:Menlo,'DejaVu Sans Mono',consolas,'Courier New',monospace\"><span style=\"font-weight: bold\"> Non-trainable params: </span><span style=\"color: #00af00; text-decoration-color: #00af00\">0</span> (0.00 B)\n",
       "</pre>\n"
      ],
      "text/plain": [
       "\u001b[1m Non-trainable params: \u001b[0m\u001b[38;5;34m0\u001b[0m (0.00 B)\n"
      ]
     },
     "metadata": {},
     "output_type": "display_data"
    }
   ],
   "source": [
    "model.summary()"
   ]
  },
  {
   "cell_type": "code",
   "execution_count": 81,
   "id": "d28b5486-e46f-4bab-a7e6-c226a5becd5e",
   "metadata": {},
   "outputs": [
    {
     "name": "stdout",
     "output_type": "stream",
     "text": [
      "Epoch 1/40\n",
      "\u001b[1m97/97\u001b[0m \u001b[32m━━━━━━━━━━━━━━━━━━━━\u001b[0m\u001b[37m\u001b[0m \u001b[1m0s\u001b[0m 2ms/step - accuracy: 0.6803 - loss: 1.0329 - val_accuracy: 0.6503 - val_loss: 1.1668\n",
      "Epoch 2/40\n",
      "\u001b[1m97/97\u001b[0m \u001b[32m━━━━━━━━━━━━━━━━━━━━\u001b[0m\u001b[37m\u001b[0m \u001b[1m0s\u001b[0m 1ms/step - accuracy: 0.6732 - loss: 1.0173 - val_accuracy: 0.6399 - val_loss: 1.1727\n",
      "Epoch 3/40\n",
      "\u001b[1m97/97\u001b[0m \u001b[32m━━━━━━━━━━━━━━━━━━━━\u001b[0m\u001b[37m\u001b[0m \u001b[1m0s\u001b[0m 1ms/step - accuracy: 0.6796 - loss: 1.0176 - val_accuracy: 0.6658 - val_loss: 1.1581\n",
      "Epoch 4/40\n",
      "\u001b[1m97/97\u001b[0m \u001b[32m━━━━━━━━━━━━━━━━━━━━\u001b[0m\u001b[37m\u001b[0m \u001b[1m0s\u001b[0m 1ms/step - accuracy: 0.6744 - loss: 1.0191 - val_accuracy: 0.6503 - val_loss: 1.1726\n",
      "Epoch 5/40\n",
      "\u001b[1m97/97\u001b[0m \u001b[32m━━━━━━━━━━━━━━━━━━━━\u001b[0m\u001b[37m\u001b[0m \u001b[1m0s\u001b[0m 1ms/step - accuracy: 0.6816 - loss: 1.0156 - val_accuracy: 0.6736 - val_loss: 1.1600\n",
      "Epoch 6/40\n",
      "\u001b[1m97/97\u001b[0m \u001b[32m━━━━━━━━━━━━━━━━━━━━\u001b[0m\u001b[37m\u001b[0m \u001b[1m0s\u001b[0m 1ms/step - accuracy: 0.6777 - loss: 1.0165 - val_accuracy: 0.6399 - val_loss: 1.1834\n",
      "Epoch 7/40\n",
      "\u001b[1m97/97\u001b[0m \u001b[32m━━━━━━━━━━━━━━━━━━━━\u001b[0m\u001b[37m\u001b[0m \u001b[1m0s\u001b[0m 1ms/step - accuracy: 0.6861 - loss: 1.0118 - val_accuracy: 0.6528 - val_loss: 1.1879\n",
      "Epoch 8/40\n",
      "\u001b[1m97/97\u001b[0m \u001b[32m━━━━━━━━━━━━━━━━━━━━\u001b[0m\u001b[37m\u001b[0m \u001b[1m0s\u001b[0m 1ms/step - accuracy: 0.6816 - loss: 1.0185 - val_accuracy: 0.6580 - val_loss: 1.1788\n",
      "Epoch 9/40\n",
      "\u001b[1m97/97\u001b[0m \u001b[32m━━━━━━━━━━━━━━━━━━━━\u001b[0m\u001b[37m\u001b[0m \u001b[1m0s\u001b[0m 1ms/step - accuracy: 0.6796 - loss: 1.0149 - val_accuracy: 0.6580 - val_loss: 1.1633\n",
      "Epoch 10/40\n",
      "\u001b[1m97/97\u001b[0m \u001b[32m━━━━━━━━━━━━━━━━━━━━\u001b[0m\u001b[37m\u001b[0m \u001b[1m0s\u001b[0m 1ms/step - accuracy: 0.6842 - loss: 1.0161 - val_accuracy: 0.6554 - val_loss: 1.1671\n",
      "Epoch 11/40\n",
      "\u001b[1m97/97\u001b[0m \u001b[32m━━━━━━━━━━━━━━━━━━━━\u001b[0m\u001b[37m\u001b[0m \u001b[1m0s\u001b[0m 1ms/step - accuracy: 0.6848 - loss: 1.0079 - val_accuracy: 0.6554 - val_loss: 1.1747\n",
      "Epoch 12/40\n",
      "\u001b[1m97/97\u001b[0m \u001b[32m━━━━━━━━━━━━━━━━━━━━\u001b[0m\u001b[37m\u001b[0m \u001b[1m0s\u001b[0m 1ms/step - accuracy: 0.6706 - loss: 1.0127 - val_accuracy: 0.6606 - val_loss: 1.1660\n",
      "Epoch 13/40\n",
      "\u001b[1m97/97\u001b[0m \u001b[32m━━━━━━━━━━━━━━━━━━━━\u001b[0m\u001b[37m\u001b[0m \u001b[1m0s\u001b[0m 2ms/step - accuracy: 0.6822 - loss: 1.0087 - val_accuracy: 0.6710 - val_loss: 1.1608\n",
      "Epoch 14/40\n",
      "\u001b[1m97/97\u001b[0m \u001b[32m━━━━━━━━━━━━━━━━━━━━\u001b[0m\u001b[37m\u001b[0m \u001b[1m0s\u001b[0m 2ms/step - accuracy: 0.6744 - loss: 1.0084 - val_accuracy: 0.6710 - val_loss: 1.1623\n",
      "Epoch 15/40\n",
      "\u001b[1m97/97\u001b[0m \u001b[32m━━━━━━━━━━━━━━━━━━━━\u001b[0m\u001b[37m\u001b[0m \u001b[1m0s\u001b[0m 1ms/step - accuracy: 0.6855 - loss: 1.0088 - val_accuracy: 0.6425 - val_loss: 1.1832\n",
      "Epoch 16/40\n",
      "\u001b[1m97/97\u001b[0m \u001b[32m━━━━━━━━━━━━━━━━━━━━\u001b[0m\u001b[37m\u001b[0m \u001b[1m0s\u001b[0m 2ms/step - accuracy: 0.6835 - loss: 1.0049 - val_accuracy: 0.6477 - val_loss: 1.1881\n",
      "Epoch 17/40\n",
      "\u001b[1m97/97\u001b[0m \u001b[32m━━━━━━━━━━━━━━━━━━━━\u001b[0m\u001b[37m\u001b[0m \u001b[1m0s\u001b[0m 2ms/step - accuracy: 0.6790 - loss: 1.0092 - val_accuracy: 0.6580 - val_loss: 1.1694\n",
      "Epoch 18/40\n",
      "\u001b[1m97/97\u001b[0m \u001b[32m━━━━━━━━━━━━━━━━━━━━\u001b[0m\u001b[37m\u001b[0m \u001b[1m0s\u001b[0m 2ms/step - accuracy: 0.6822 - loss: 0.9997 - val_accuracy: 0.6606 - val_loss: 1.1738\n",
      "Epoch 19/40\n",
      "\u001b[1m97/97\u001b[0m \u001b[32m━━━━━━━━━━━━━━━━━━━━\u001b[0m\u001b[37m\u001b[0m \u001b[1m0s\u001b[0m 2ms/step - accuracy: 0.6816 - loss: 1.0025 - val_accuracy: 0.6710 - val_loss: 1.1641\n",
      "Epoch 20/40\n",
      "\u001b[1m97/97\u001b[0m \u001b[32m━━━━━━━━━━━━━━━━━━━━\u001b[0m\u001b[37m\u001b[0m \u001b[1m0s\u001b[0m 1ms/step - accuracy: 0.6855 - loss: 1.0003 - val_accuracy: 0.6528 - val_loss: 1.1737\n",
      "Epoch 21/40\n",
      "\u001b[1m97/97\u001b[0m \u001b[32m━━━━━━━━━━━━━━━━━━━━\u001b[0m\u001b[37m\u001b[0m \u001b[1m0s\u001b[0m 2ms/step - accuracy: 0.6796 - loss: 1.0029 - val_accuracy: 0.6451 - val_loss: 1.1910\n",
      "Epoch 22/40\n",
      "\u001b[1m97/97\u001b[0m \u001b[32m━━━━━━━━━━━━━━━━━━━━\u001b[0m\u001b[37m\u001b[0m \u001b[1m0s\u001b[0m 1ms/step - accuracy: 0.6829 - loss: 0.9987 - val_accuracy: 0.6606 - val_loss: 1.1807\n",
      "Epoch 23/40\n",
      "\u001b[1m97/97\u001b[0m \u001b[32m━━━━━━━━━━━━━━━━━━━━\u001b[0m\u001b[37m\u001b[0m \u001b[1m0s\u001b[0m 2ms/step - accuracy: 0.6764 - loss: 0.9966 - val_accuracy: 0.6736 - val_loss: 1.1648\n",
      "Epoch 24/40\n",
      "\u001b[1m97/97\u001b[0m \u001b[32m━━━━━━━━━━━━━━━━━━━━\u001b[0m\u001b[37m\u001b[0m \u001b[1m0s\u001b[0m 2ms/step - accuracy: 0.6783 - loss: 0.9966 - val_accuracy: 0.6451 - val_loss: 1.1894\n",
      "Epoch 25/40\n",
      "\u001b[1m97/97\u001b[0m \u001b[32m━━━━━━━━━━━━━━━━━━━━\u001b[0m\u001b[37m\u001b[0m \u001b[1m0s\u001b[0m 2ms/step - accuracy: 0.6868 - loss: 1.0027 - val_accuracy: 0.6451 - val_loss: 1.1860\n",
      "Epoch 26/40\n",
      "\u001b[1m97/97\u001b[0m \u001b[32m━━━━━━━━━━━━━━━━━━━━\u001b[0m\u001b[37m\u001b[0m \u001b[1m0s\u001b[0m 2ms/step - accuracy: 0.6803 - loss: 1.0058 - val_accuracy: 0.6451 - val_loss: 1.1837\n",
      "Epoch 27/40\n",
      "\u001b[1m97/97\u001b[0m \u001b[32m━━━━━━━━━━━━━━━━━━━━\u001b[0m\u001b[37m\u001b[0m \u001b[1m0s\u001b[0m 2ms/step - accuracy: 0.6842 - loss: 0.9974 - val_accuracy: 0.6554 - val_loss: 1.1837\n",
      "Epoch 28/40\n",
      "\u001b[1m97/97\u001b[0m \u001b[32m━━━━━━━━━━━━━━━━━━━━\u001b[0m\u001b[37m\u001b[0m \u001b[1m0s\u001b[0m 1ms/step - accuracy: 0.6881 - loss: 0.9987 - val_accuracy: 0.6477 - val_loss: 1.1794\n",
      "Epoch 29/40\n",
      "\u001b[1m97/97\u001b[0m \u001b[32m━━━━━━━━━━━━━━━━━━━━\u001b[0m\u001b[37m\u001b[0m \u001b[1m0s\u001b[0m 1ms/step - accuracy: 0.6770 - loss: 0.9998 - val_accuracy: 0.6710 - val_loss: 1.1717\n",
      "Epoch 30/40\n",
      "\u001b[1m97/97\u001b[0m \u001b[32m━━━━━━━━━━━━━━━━━━━━\u001b[0m\u001b[37m\u001b[0m \u001b[1m0s\u001b[0m 1ms/step - accuracy: 0.6809 - loss: 0.9938 - val_accuracy: 0.6788 - val_loss: 1.1650\n",
      "Epoch 31/40\n",
      "\u001b[1m97/97\u001b[0m \u001b[32m━━━━━━━━━━━━━━━━━━━━\u001b[0m\u001b[37m\u001b[0m \u001b[1m0s\u001b[0m 1ms/step - accuracy: 0.6971 - loss: 0.9951 - val_accuracy: 0.6710 - val_loss: 1.1730\n",
      "Epoch 32/40\n",
      "\u001b[1m97/97\u001b[0m \u001b[32m━━━━━━━━━━━━━━━━━━━━\u001b[0m\u001b[37m\u001b[0m \u001b[1m0s\u001b[0m 1ms/step - accuracy: 0.6803 - loss: 0.9938 - val_accuracy: 0.6580 - val_loss: 1.1868\n",
      "Epoch 33/40\n",
      "\u001b[1m97/97\u001b[0m \u001b[32m━━━━━━━━━━━━━━━━━━━━\u001b[0m\u001b[37m\u001b[0m \u001b[1m0s\u001b[0m 1ms/step - accuracy: 0.6946 - loss: 0.9921 - val_accuracy: 0.6528 - val_loss: 1.1734\n",
      "Epoch 34/40\n",
      "\u001b[1m97/97\u001b[0m \u001b[32m━━━━━━━━━━━━━━━━━━━━\u001b[0m\u001b[37m\u001b[0m \u001b[1m0s\u001b[0m 1ms/step - accuracy: 0.6881 - loss: 0.9863 - val_accuracy: 0.6658 - val_loss: 1.1819\n",
      "Epoch 35/40\n",
      "\u001b[1m97/97\u001b[0m \u001b[32m━━━━━━━━━━━━━━━━━━━━\u001b[0m\u001b[37m\u001b[0m \u001b[1m0s\u001b[0m 2ms/step - accuracy: 0.6868 - loss: 0.9889 - val_accuracy: 0.6710 - val_loss: 1.1729\n",
      "Epoch 36/40\n",
      "\u001b[1m97/97\u001b[0m \u001b[32m━━━━━━━━━━━━━━━━━━━━\u001b[0m\u001b[37m\u001b[0m \u001b[1m0s\u001b[0m 2ms/step - accuracy: 0.6874 - loss: 0.9851 - val_accuracy: 0.6865 - val_loss: 1.1725\n",
      "Epoch 37/40\n",
      "\u001b[1m97/97\u001b[0m \u001b[32m━━━━━━━━━━━━━━━━━━━━\u001b[0m\u001b[37m\u001b[0m \u001b[1m0s\u001b[0m 2ms/step - accuracy: 0.6907 - loss: 0.9827 - val_accuracy: 0.6658 - val_loss: 1.1892\n",
      "Epoch 38/40\n",
      "\u001b[1m97/97\u001b[0m \u001b[32m━━━━━━━━━━━━━━━━━━━━\u001b[0m\u001b[37m\u001b[0m \u001b[1m0s\u001b[0m 2ms/step - accuracy: 0.6984 - loss: 0.9887 - val_accuracy: 0.6528 - val_loss: 1.1942\n",
      "Epoch 39/40\n",
      "\u001b[1m97/97\u001b[0m \u001b[32m━━━━━━━━━━━━━━━━━━━━\u001b[0m\u001b[37m\u001b[0m \u001b[1m0s\u001b[0m 2ms/step - accuracy: 0.6822 - loss: 0.9873 - val_accuracy: 0.6528 - val_loss: 1.1951\n",
      "Epoch 40/40\n",
      "\u001b[1m97/97\u001b[0m \u001b[32m━━━━━━━━━━━━━━━━━━━━\u001b[0m\u001b[37m\u001b[0m \u001b[1m0s\u001b[0m 2ms/step - accuracy: 0.6842 - loss: 0.9845 - val_accuracy: 0.6839 - val_loss: 1.1611\n"
     ]
    },
    {
     "data": {
      "text/plain": [
       "<keras.src.callbacks.history.History at 0x1e3ffb91fd0>"
      ]
     },
     "execution_count": 81,
     "metadata": {},
     "output_type": "execute_result"
    }
   ],
   "source": [
    "model.fit(x_train, y_train, epochs=40, batch_size=16, validation_data=(x_test, y_test))"
   ]
  },
  {
   "cell_type": "markdown",
   "id": "378bdb8b-41aa-4834-82cc-8983d53072e2",
   "metadata": {},
   "source": [
    "# Evaluation"
   ]
  },
  {
   "cell_type": "code",
   "execution_count": 82,
   "id": "aa1235c3-ef8a-4174-a243-11242864dc86",
   "metadata": {},
   "outputs": [
    {
     "name": "stdout",
     "output_type": "stream",
     "text": [
      "Final Validation Accuracy: 68.39%\n",
      "Final Validation Loss: 1.1611\n"
     ]
    }
   ],
   "source": [
    "loss, accuracy = model.evaluate(x_test, y_test, verbose=0)\n",
    "\n",
    "print(f\"Final Validation Accuracy: {accuracy * 100:.2f}%\")\n",
    "print(f\"Final Validation Loss: {loss:.4f}\")"
   ]
  }
 ],
 "metadata": {
  "colab": {
   "include_colab_link": true,
   "provenance": []
  },
  "kernelspec": {
   "display_name": "Python 3 (ipykernel)",
   "language": "python",
   "name": "python3"
  },
  "language_info": {
   "codemirror_mode": {
    "name": "ipython",
    "version": 3
   },
   "file_extension": ".py",
   "mimetype": "text/x-python",
   "name": "python",
   "nbconvert_exporter": "python",
   "pygments_lexer": "ipython3",
   "version": "3.13.7"
  }
 },
 "nbformat": 4,
 "nbformat_minor": 5
}
