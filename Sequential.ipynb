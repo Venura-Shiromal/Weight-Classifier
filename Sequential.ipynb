{
  "cells": [
    {
      "cell_type": "markdown",
      "metadata": {
        "id": "view-in-github",
        "colab_type": "text"
      },
      "source": [
        "<a href=\"https://colab.research.google.com/github/Venura-Shiromal/Weight-Classifier/blob/main/check-sequential-ipynb/Sequential.ipynb\" target=\"_parent\"><img src=\"https://colab.research.google.com/assets/colab-badge.svg\" alt=\"Open In Colab\"/></a>"
      ]
    },
    {
      "cell_type": "markdown",
      "id": "bbe3d965-5744-4d62-86c0-51c3ed3844b6",
      "metadata": {
        "id": "bbe3d965-5744-4d62-86c0-51c3ed3844b6"
      },
      "source": [
        "## Importing Modules"
      ]
    },
    {
      "cell_type": "code",
      "execution_count": 1,
      "id": "ed878b07-70d9-47ee-9e8f-c84f5b914cbd",
      "metadata": {
        "id": "ed878b07-70d9-47ee-9e8f-c84f5b914cbd"
      },
      "outputs": [],
      "source": [
        "import numpy as np\n",
        "import pandas as pd\n",
        "import tensorflow as tf\n",
        "from tensorflow.keras import Sequential\n",
        "from tensorflow.keras.layers import Dense, Input, Dropout\n",
        "from tensorflow.keras.callbacks import EarlyStopping\n",
        "from sklearn.model_selection import train_test_split\n",
        "from sklearn.preprocessing import StandardScaler\n",
        "from sklearn.utils.class_weight import compute_class_weight"
      ]
    },
    {
      "cell_type": "markdown",
      "id": "2b3347ec-f689-49fe-a301-a2de638476a7",
      "metadata": {
        "id": "2b3347ec-f689-49fe-a301-a2de638476a7"
      },
      "source": [
        "# Input"
      ]
    },
    {
      "cell_type": "markdown",
      "id": "5d6d28d7-1839-4b3e-a3a0-bc1cd64c065e",
      "metadata": {
        "id": "5d6d28d7-1839-4b3e-a3a0-bc1cd64c065e"
      },
      "source": [
        "## Loading Training Data"
      ]
    },
    {
      "cell_type": "code",
      "execution_count": 2,
      "id": "e3007e20-e5a4-4b49-9f68-c7653841346c",
      "metadata": {
        "id": "e3007e20-e5a4-4b49-9f68-c7653841346c"
      },
      "outputs": [],
      "source": [
        "df = pd.read_csv(\"data/train.csv\")"
      ]
    },
    {
      "cell_type": "code",
      "execution_count": 3,
      "id": "42bf22e7-55a1-4102-89fa-5ebc45bc6b6a",
      "metadata": {
        "id": "42bf22e7-55a1-4102-89fa-5ebc45bc6b6a",
        "outputId": "6def24f2-ab0b-4a69-d7e1-e752383989e1",
        "colab": {
          "base_uri": "https://localhost:8080/",
          "height": 261
        }
      },
      "outputs": [
        {
          "output_type": "execute_result",
          "data": {
            "text/plain": [
              "  PersonID  Age_Years   Weight_Kg High_Calorie_Food  Vegetable_Intake  \\\n",
              "0    P1810  26.000000  109.959714               yes          3.000000   \n",
              "1    P1021  25.483381   64.848627                no          2.000000   \n",
              "2    P2036  26.000000  104.947703               yes          3.000000   \n",
              "3    P2201  21.715198  107.868047               Yes          3.031308   \n",
              "4    P2649  17.511767  121.460361               yes          1.964873   \n",
              "\n",
              "   Meal_Frequency  Water_Intake  Screen_Time_Hours  Family_Risk  \\\n",
              "0        3.000000      2.679137           0.479348     1.000000   \n",
              "1        1.000000      1.000000           0.000000     1.000000   \n",
              "2        3.000000      2.577210           0.402075     1.000000   \n",
              "3        3.322455      1.983531          -0.005858     0.987933   \n",
              "4        1.052297      2.025586           0.981999     1.004136   \n",
              "\n",
              "   Activity_Level_Score  Gender Family_History Snack_Frequency Smoking_Habit  \\\n",
              "0              0.479348  Female            yes    Occasionally            no   \n",
              "1              0.740633  Female            yes    Occasionally            no   \n",
              "2              0.402075  Female            yes    Occasionally            no   \n",
              "3              0.360441    Male            yes    Occasionally            no   \n",
              "4              1.162488  Female            yes    Occasionally            no   \n",
              "\n",
              "  Alcohol_Consumption           Commute_Mode      Weight_Category   Height_cm  \\\n",
              "0           Sometimes  Public_Transportation     Obesity_Type_III  162.277100   \n",
              "1                  no  Public_Transportation  Overweight_Level_II  156.528800   \n",
              "2           Sometimes  Public_Transportation     Obesity_Type_III  162.116700   \n",
              "3                  no  Public_Transportation        Normal_Weight  167.748287   \n",
              "4                  no  Public_Transportation        Normal_Weight  170.956194   \n",
              "\n",
              "  Physical_Activity_Level Leisure Time Activity  \n",
              "0                     NaN               Reading  \n",
              "1                     NaN               Reading  \n",
              "2                     NaN               Reading  \n",
              "3                     NaN               Reading  \n",
              "4                     NaN                Gaming  "
            ],
            "text/html": [
              "\n",
              "  <div id=\"df-cbdcbe7c-9473-4eb1-89e4-a45594c9a612\" class=\"colab-df-container\">\n",
              "    <div>\n",
              "<style scoped>\n",
              "    .dataframe tbody tr th:only-of-type {\n",
              "        vertical-align: middle;\n",
              "    }\n",
              "\n",
              "    .dataframe tbody tr th {\n",
              "        vertical-align: top;\n",
              "    }\n",
              "\n",
              "    .dataframe thead th {\n",
              "        text-align: right;\n",
              "    }\n",
              "</style>\n",
              "<table border=\"1\" class=\"dataframe\">\n",
              "  <thead>\n",
              "    <tr style=\"text-align: right;\">\n",
              "      <th></th>\n",
              "      <th>PersonID</th>\n",
              "      <th>Age_Years</th>\n",
              "      <th>Weight_Kg</th>\n",
              "      <th>High_Calorie_Food</th>\n",
              "      <th>Vegetable_Intake</th>\n",
              "      <th>Meal_Frequency</th>\n",
              "      <th>Water_Intake</th>\n",
              "      <th>Screen_Time_Hours</th>\n",
              "      <th>Family_Risk</th>\n",
              "      <th>Activity_Level_Score</th>\n",
              "      <th>Gender</th>\n",
              "      <th>Family_History</th>\n",
              "      <th>Snack_Frequency</th>\n",
              "      <th>Smoking_Habit</th>\n",
              "      <th>Alcohol_Consumption</th>\n",
              "      <th>Commute_Mode</th>\n",
              "      <th>Weight_Category</th>\n",
              "      <th>Height_cm</th>\n",
              "      <th>Physical_Activity_Level</th>\n",
              "      <th>Leisure Time Activity</th>\n",
              "    </tr>\n",
              "  </thead>\n",
              "  <tbody>\n",
              "    <tr>\n",
              "      <th>0</th>\n",
              "      <td>P1810</td>\n",
              "      <td>26.000000</td>\n",
              "      <td>109.959714</td>\n",
              "      <td>yes</td>\n",
              "      <td>3.000000</td>\n",
              "      <td>3.000000</td>\n",
              "      <td>2.679137</td>\n",
              "      <td>0.479348</td>\n",
              "      <td>1.000000</td>\n",
              "      <td>0.479348</td>\n",
              "      <td>Female</td>\n",
              "      <td>yes</td>\n",
              "      <td>Occasionally</td>\n",
              "      <td>no</td>\n",
              "      <td>Sometimes</td>\n",
              "      <td>Public_Transportation</td>\n",
              "      <td>Obesity_Type_III</td>\n",
              "      <td>162.277100</td>\n",
              "      <td>NaN</td>\n",
              "      <td>Reading</td>\n",
              "    </tr>\n",
              "    <tr>\n",
              "      <th>1</th>\n",
              "      <td>P1021</td>\n",
              "      <td>25.483381</td>\n",
              "      <td>64.848627</td>\n",
              "      <td>no</td>\n",
              "      <td>2.000000</td>\n",
              "      <td>1.000000</td>\n",
              "      <td>1.000000</td>\n",
              "      <td>0.000000</td>\n",
              "      <td>1.000000</td>\n",
              "      <td>0.740633</td>\n",
              "      <td>Female</td>\n",
              "      <td>yes</td>\n",
              "      <td>Occasionally</td>\n",
              "      <td>no</td>\n",
              "      <td>no</td>\n",
              "      <td>Public_Transportation</td>\n",
              "      <td>Overweight_Level_II</td>\n",
              "      <td>156.528800</td>\n",
              "      <td>NaN</td>\n",
              "      <td>Reading</td>\n",
              "    </tr>\n",
              "    <tr>\n",
              "      <th>2</th>\n",
              "      <td>P2036</td>\n",
              "      <td>26.000000</td>\n",
              "      <td>104.947703</td>\n",
              "      <td>yes</td>\n",
              "      <td>3.000000</td>\n",
              "      <td>3.000000</td>\n",
              "      <td>2.577210</td>\n",
              "      <td>0.402075</td>\n",
              "      <td>1.000000</td>\n",
              "      <td>0.402075</td>\n",
              "      <td>Female</td>\n",
              "      <td>yes</td>\n",
              "      <td>Occasionally</td>\n",
              "      <td>no</td>\n",
              "      <td>Sometimes</td>\n",
              "      <td>Public_Transportation</td>\n",
              "      <td>Obesity_Type_III</td>\n",
              "      <td>162.116700</td>\n",
              "      <td>NaN</td>\n",
              "      <td>Reading</td>\n",
              "    </tr>\n",
              "    <tr>\n",
              "      <th>3</th>\n",
              "      <td>P2201</td>\n",
              "      <td>21.715198</td>\n",
              "      <td>107.868047</td>\n",
              "      <td>Yes</td>\n",
              "      <td>3.031308</td>\n",
              "      <td>3.322455</td>\n",
              "      <td>1.983531</td>\n",
              "      <td>-0.005858</td>\n",
              "      <td>0.987933</td>\n",
              "      <td>0.360441</td>\n",
              "      <td>Male</td>\n",
              "      <td>yes</td>\n",
              "      <td>Occasionally</td>\n",
              "      <td>no</td>\n",
              "      <td>no</td>\n",
              "      <td>Public_Transportation</td>\n",
              "      <td>Normal_Weight</td>\n",
              "      <td>167.748287</td>\n",
              "      <td>NaN</td>\n",
              "      <td>Reading</td>\n",
              "    </tr>\n",
              "    <tr>\n",
              "      <th>4</th>\n",
              "      <td>P2649</td>\n",
              "      <td>17.511767</td>\n",
              "      <td>121.460361</td>\n",
              "      <td>yes</td>\n",
              "      <td>1.964873</td>\n",
              "      <td>1.052297</td>\n",
              "      <td>2.025586</td>\n",
              "      <td>0.981999</td>\n",
              "      <td>1.004136</td>\n",
              "      <td>1.162488</td>\n",
              "      <td>Female</td>\n",
              "      <td>yes</td>\n",
              "      <td>Occasionally</td>\n",
              "      <td>no</td>\n",
              "      <td>no</td>\n",
              "      <td>Public_Transportation</td>\n",
              "      <td>Normal_Weight</td>\n",
              "      <td>170.956194</td>\n",
              "      <td>NaN</td>\n",
              "      <td>Gaming</td>\n",
              "    </tr>\n",
              "  </tbody>\n",
              "</table>\n",
              "</div>\n",
              "    <div class=\"colab-df-buttons\">\n",
              "\n",
              "  <div class=\"colab-df-container\">\n",
              "    <button class=\"colab-df-convert\" onclick=\"convertToInteractive('df-cbdcbe7c-9473-4eb1-89e4-a45594c9a612')\"\n",
              "            title=\"Convert this dataframe to an interactive table.\"\n",
              "            style=\"display:none;\">\n",
              "\n",
              "  <svg xmlns=\"http://www.w3.org/2000/svg\" height=\"24px\" viewBox=\"0 -960 960 960\">\n",
              "    <path d=\"M120-120v-720h720v720H120Zm60-500h600v-160H180v160Zm220 220h160v-160H400v160Zm0 220h160v-160H400v160ZM180-400h160v-160H180v160Zm440 0h160v-160H620v160ZM180-180h160v-160H180v160Zm440 0h160v-160H620v160Z\"/>\n",
              "  </svg>\n",
              "    </button>\n",
              "\n",
              "  <style>\n",
              "    .colab-df-container {\n",
              "      display:flex;\n",
              "      gap: 12px;\n",
              "    }\n",
              "\n",
              "    .colab-df-convert {\n",
              "      background-color: #E8F0FE;\n",
              "      border: none;\n",
              "      border-radius: 50%;\n",
              "      cursor: pointer;\n",
              "      display: none;\n",
              "      fill: #1967D2;\n",
              "      height: 32px;\n",
              "      padding: 0 0 0 0;\n",
              "      width: 32px;\n",
              "    }\n",
              "\n",
              "    .colab-df-convert:hover {\n",
              "      background-color: #E2EBFA;\n",
              "      box-shadow: 0px 1px 2px rgba(60, 64, 67, 0.3), 0px 1px 3px 1px rgba(60, 64, 67, 0.15);\n",
              "      fill: #174EA6;\n",
              "    }\n",
              "\n",
              "    .colab-df-buttons div {\n",
              "      margin-bottom: 4px;\n",
              "    }\n",
              "\n",
              "    [theme=dark] .colab-df-convert {\n",
              "      background-color: #3B4455;\n",
              "      fill: #D2E3FC;\n",
              "    }\n",
              "\n",
              "    [theme=dark] .colab-df-convert:hover {\n",
              "      background-color: #434B5C;\n",
              "      box-shadow: 0px 1px 3px 1px rgba(0, 0, 0, 0.15);\n",
              "      filter: drop-shadow(0px 1px 2px rgba(0, 0, 0, 0.3));\n",
              "      fill: #FFFFFF;\n",
              "    }\n",
              "  </style>\n",
              "\n",
              "    <script>\n",
              "      const buttonEl =\n",
              "        document.querySelector('#df-cbdcbe7c-9473-4eb1-89e4-a45594c9a612 button.colab-df-convert');\n",
              "      buttonEl.style.display =\n",
              "        google.colab.kernel.accessAllowed ? 'block' : 'none';\n",
              "\n",
              "      async function convertToInteractive(key) {\n",
              "        const element = document.querySelector('#df-cbdcbe7c-9473-4eb1-89e4-a45594c9a612');\n",
              "        const dataTable =\n",
              "          await google.colab.kernel.invokeFunction('convertToInteractive',\n",
              "                                                    [key], {});\n",
              "        if (!dataTable) return;\n",
              "\n",
              "        const docLinkHtml = 'Like what you see? Visit the ' +\n",
              "          '<a target=\"_blank\" href=https://colab.research.google.com/notebooks/data_table.ipynb>data table notebook</a>'\n",
              "          + ' to learn more about interactive tables.';\n",
              "        element.innerHTML = '';\n",
              "        dataTable['output_type'] = 'display_data';\n",
              "        await google.colab.output.renderOutput(dataTable, element);\n",
              "        const docLink = document.createElement('div');\n",
              "        docLink.innerHTML = docLinkHtml;\n",
              "        element.appendChild(docLink);\n",
              "      }\n",
              "    </script>\n",
              "  </div>\n",
              "\n",
              "\n",
              "    <div id=\"df-3480c7cc-5ecb-4f75-ba53-0339715e7c6a\">\n",
              "      <button class=\"colab-df-quickchart\" onclick=\"quickchart('df-3480c7cc-5ecb-4f75-ba53-0339715e7c6a')\"\n",
              "                title=\"Suggest charts\"\n",
              "                style=\"display:none;\">\n",
              "\n",
              "<svg xmlns=\"http://www.w3.org/2000/svg\" height=\"24px\"viewBox=\"0 0 24 24\"\n",
              "     width=\"24px\">\n",
              "    <g>\n",
              "        <path d=\"M19 3H5c-1.1 0-2 .9-2 2v14c0 1.1.9 2 2 2h14c1.1 0 2-.9 2-2V5c0-1.1-.9-2-2-2zM9 17H7v-7h2v7zm4 0h-2V7h2v10zm4 0h-2v-4h2v4z\"/>\n",
              "    </g>\n",
              "</svg>\n",
              "      </button>\n",
              "\n",
              "<style>\n",
              "  .colab-df-quickchart {\n",
              "      --bg-color: #E8F0FE;\n",
              "      --fill-color: #1967D2;\n",
              "      --hover-bg-color: #E2EBFA;\n",
              "      --hover-fill-color: #174EA6;\n",
              "      --disabled-fill-color: #AAA;\n",
              "      --disabled-bg-color: #DDD;\n",
              "  }\n",
              "\n",
              "  [theme=dark] .colab-df-quickchart {\n",
              "      --bg-color: #3B4455;\n",
              "      --fill-color: #D2E3FC;\n",
              "      --hover-bg-color: #434B5C;\n",
              "      --hover-fill-color: #FFFFFF;\n",
              "      --disabled-bg-color: #3B4455;\n",
              "      --disabled-fill-color: #666;\n",
              "  }\n",
              "\n",
              "  .colab-df-quickchart {\n",
              "    background-color: var(--bg-color);\n",
              "    border: none;\n",
              "    border-radius: 50%;\n",
              "    cursor: pointer;\n",
              "    display: none;\n",
              "    fill: var(--fill-color);\n",
              "    height: 32px;\n",
              "    padding: 0;\n",
              "    width: 32px;\n",
              "  }\n",
              "\n",
              "  .colab-df-quickchart:hover {\n",
              "    background-color: var(--hover-bg-color);\n",
              "    box-shadow: 0 1px 2px rgba(60, 64, 67, 0.3), 0 1px 3px 1px rgba(60, 64, 67, 0.15);\n",
              "    fill: var(--button-hover-fill-color);\n",
              "  }\n",
              "\n",
              "  .colab-df-quickchart-complete:disabled,\n",
              "  .colab-df-quickchart-complete:disabled:hover {\n",
              "    background-color: var(--disabled-bg-color);\n",
              "    fill: var(--disabled-fill-color);\n",
              "    box-shadow: none;\n",
              "  }\n",
              "\n",
              "  .colab-df-spinner {\n",
              "    border: 2px solid var(--fill-color);\n",
              "    border-color: transparent;\n",
              "    border-bottom-color: var(--fill-color);\n",
              "    animation:\n",
              "      spin 1s steps(1) infinite;\n",
              "  }\n",
              "\n",
              "  @keyframes spin {\n",
              "    0% {\n",
              "      border-color: transparent;\n",
              "      border-bottom-color: var(--fill-color);\n",
              "      border-left-color: var(--fill-color);\n",
              "    }\n",
              "    20% {\n",
              "      border-color: transparent;\n",
              "      border-left-color: var(--fill-color);\n",
              "      border-top-color: var(--fill-color);\n",
              "    }\n",
              "    30% {\n",
              "      border-color: transparent;\n",
              "      border-left-color: var(--fill-color);\n",
              "      border-top-color: var(--fill-color);\n",
              "      border-right-color: var(--fill-color);\n",
              "    }\n",
              "    40% {\n",
              "      border-color: transparent;\n",
              "      border-right-color: var(--fill-color);\n",
              "      border-top-color: var(--fill-color);\n",
              "    }\n",
              "    60% {\n",
              "      border-color: transparent;\n",
              "      border-right-color: var(--fill-color);\n",
              "    }\n",
              "    80% {\n",
              "      border-color: transparent;\n",
              "      border-right-color: var(--fill-color);\n",
              "      border-bottom-color: var(--fill-color);\n",
              "    }\n",
              "    90% {\n",
              "      border-color: transparent;\n",
              "      border-bottom-color: var(--fill-color);\n",
              "    }\n",
              "  }\n",
              "</style>\n",
              "\n",
              "      <script>\n",
              "        async function quickchart(key) {\n",
              "          const quickchartButtonEl =\n",
              "            document.querySelector('#' + key + ' button');\n",
              "          quickchartButtonEl.disabled = true;  // To prevent multiple clicks.\n",
              "          quickchartButtonEl.classList.add('colab-df-spinner');\n",
              "          try {\n",
              "            const charts = await google.colab.kernel.invokeFunction(\n",
              "                'suggestCharts', [key], {});\n",
              "          } catch (error) {\n",
              "            console.error('Error during call to suggestCharts:', error);\n",
              "          }\n",
              "          quickchartButtonEl.classList.remove('colab-df-spinner');\n",
              "          quickchartButtonEl.classList.add('colab-df-quickchart-complete');\n",
              "        }\n",
              "        (() => {\n",
              "          let quickchartButtonEl =\n",
              "            document.querySelector('#df-3480c7cc-5ecb-4f75-ba53-0339715e7c6a button');\n",
              "          quickchartButtonEl.style.display =\n",
              "            google.colab.kernel.accessAllowed ? 'block' : 'none';\n",
              "        })();\n",
              "      </script>\n",
              "    </div>\n",
              "\n",
              "    </div>\n",
              "  </div>\n"
            ],
            "application/vnd.google.colaboratory.intrinsic+json": {
              "type": "dataframe",
              "variable_name": "df",
              "summary": "{\n  \"name\": \"df\",\n  \"rows\": 1995,\n  \"fields\": [\n    {\n      \"column\": \"PersonID\",\n      \"properties\": {\n        \"dtype\": \"string\",\n        \"num_unique_values\": 1995,\n        \"samples\": [\n          \"P1370\",\n          \"P398\",\n          \"P109\"\n        ],\n        \"semantic_type\": \"\",\n        \"description\": \"\"\n      }\n    },\n    {\n      \"column\": \"Age_Years\",\n      \"properties\": {\n        \"dtype\": \"number\",\n        \"std\": 8.008087528944763,\n        \"min\": 14.0,\n        \"max\": 222.0,\n        \"num_unique_values\": 1516,\n        \"samples\": [\n          22.758998,\n          24.201622,\n          23.252906\n        ],\n        \"semantic_type\": \"\",\n        \"description\": \"\"\n      }\n    },\n    {\n      \"column\": \"Weight_Kg\",\n      \"properties\": {\n        \"dtype\": \"number\",\n        \"std\": 26.466695841051905,\n        \"min\": 39.371523,\n        \"max\": 173.0,\n        \"num_unique_values\": 1603,\n        \"samples\": [\n          111.863186,\n          87.174389,\n          86.0805\n        ],\n        \"semantic_type\": \"\",\n        \"description\": \"\"\n      }\n    },\n    {\n      \"column\": \"High_Calorie_Food\",\n      \"properties\": {\n        \"dtype\": \"category\",\n        \"num_unique_values\": 4,\n        \"samples\": [\n          \"no\",\n          \"No\",\n          \"yes\"\n        ],\n        \"semantic_type\": \"\",\n        \"description\": \"\"\n      }\n    },\n    {\n      \"column\": \"Vegetable_Intake\",\n      \"properties\": {\n        \"dtype\": \"number\",\n        \"std\": 0.5256363522894348,\n        \"min\": 0.997822872,\n        \"max\": 3.060911728,\n        \"num_unique_values\": 1100,\n        \"samples\": [\n          2.976231782,\n          2.674431,\n          3.022163074\n        ],\n        \"semantic_type\": \"\",\n        \"description\": \"\"\n      }\n    },\n    {\n      \"column\": \"Meal_Frequency\",\n      \"properties\": {\n        \"dtype\": \"number\",\n        \"std\": 0.7776982811007512,\n        \"min\": 0.904496785,\n        \"max\": 4.061564447,\n        \"num_unique_values\": 939,\n        \"samples\": [\n          3.364222319,\n          3.047029796,\n          2.997082759\n        ],\n        \"semantic_type\": \"\",\n        \"description\": \"\"\n      }\n    },\n    {\n      \"column\": \"Water_Intake\",\n      \"properties\": {\n        \"dtype\": \"number\",\n        \"std\": 0.6156748235825333,\n        \"min\": 0.92307082,\n        \"max\": 3.047066283,\n        \"num_unique_values\": 1414,\n        \"samples\": [\n          2.806922,\n          2.082231482,\n          2.417055175\n        ],\n        \"semantic_type\": \"\",\n        \"description\": \"\"\n      }\n    },\n    {\n      \"column\": \"Screen_Time_Hours\",\n      \"properties\": {\n        \"dtype\": \"number\",\n        \"std\": 0.6053692475539504,\n        \"min\": -0.086830221,\n        \"max\": 2.062589238,\n        \"num_unique_values\": 1321,\n        \"samples\": [\n          1.237867,\n          0.442970731,\n          0.035685761\n        ],\n        \"semantic_type\": \"\",\n        \"description\": \"\"\n      }\n    },\n    {\n      \"column\": \"Family_Risk\",\n      \"properties\": {\n        \"dtype\": \"number\",\n        \"std\": 0.386378347320879,\n        \"min\": -0.048683513,\n        \"max\": 1.060984026,\n        \"num_unique_values\": 524,\n        \"samples\": [\n          0.974333722,\n          0.974985495,\n          0.037386051\n        ],\n        \"semantic_type\": \"\",\n        \"description\": \"\"\n      }\n    },\n    {\n      \"column\": \"Activity_Level_Score\",\n      \"properties\": {\n        \"dtype\": \"number\",\n        \"std\": 1.0693401694998512,\n        \"min\": -0.128487427,\n        \"max\": 5.0,\n        \"num_unique_values\": 1566,\n        \"samples\": [\n          1.327479,\n          3.034562036,\n          2.888584\n        ],\n        \"semantic_type\": \"\",\n        \"description\": \"\"\n      }\n    },\n    {\n      \"column\": \"Gender\",\n      \"properties\": {\n        \"dtype\": \"category\",\n        \"num_unique_values\": 2,\n        \"samples\": [\n          \"Male\",\n          \"Female\"\n        ],\n        \"semantic_type\": \"\",\n        \"description\": \"\"\n      }\n    },\n    {\n      \"column\": \"Family_History\",\n      \"properties\": {\n        \"dtype\": \"category\",\n        \"num_unique_values\": 3,\n        \"samples\": [\n          \"yes\",\n          \"no\"\n        ],\n        \"semantic_type\": \"\",\n        \"description\": \"\"\n      }\n    },\n    {\n      \"column\": \"Snack_Frequency\",\n      \"properties\": {\n        \"dtype\": \"category\",\n        \"num_unique_values\": 4,\n        \"samples\": [\n          \"Often\",\n          \"Never\"\n        ],\n        \"semantic_type\": \"\",\n        \"description\": \"\"\n      }\n    },\n    {\n      \"column\": \"Smoking_Habit\",\n      \"properties\": {\n        \"dtype\": \"category\",\n        \"num_unique_values\": 2,\n        \"samples\": [\n          \"yes\",\n          \"no\"\n        ],\n        \"semantic_type\": \"\",\n        \"description\": \"\"\n      }\n    },\n    {\n      \"column\": \"Alcohol_Consumption\",\n      \"properties\": {\n        \"dtype\": \"category\",\n        \"num_unique_values\": 4,\n        \"samples\": [\n          \"no\",\n          \"Always\"\n        ],\n        \"semantic_type\": \"\",\n        \"description\": \"\"\n      }\n    },\n    {\n      \"column\": \"Commute_Mode\",\n      \"properties\": {\n        \"dtype\": \"category\",\n        \"num_unique_values\": 5,\n        \"samples\": [\n          \"Automobile\",\n          \"Bike\"\n        ],\n        \"semantic_type\": \"\",\n        \"description\": \"\"\n      }\n    },\n    {\n      \"column\": \"Weight_Category\",\n      \"properties\": {\n        \"dtype\": \"category\",\n        \"num_unique_values\": 7,\n        \"samples\": [\n          \"Obesity_Type_III\",\n          \"Overweight_Level_II\"\n        ],\n        \"semantic_type\": \"\",\n        \"description\": \"\"\n      }\n    },\n    {\n      \"column\": \"Height_cm\",\n      \"properties\": {\n        \"dtype\": \"number\",\n        \"std\": 9.386193536019325,\n        \"min\": 145.0,\n        \"max\": 198.0,\n        \"num_unique_values\": 1634,\n        \"samples\": [\n          167.8201,\n          164.0745\n        ],\n        \"semantic_type\": \"\",\n        \"description\": \"\"\n      }\n    },\n    {\n      \"column\": \"Physical_Activity_Level\",\n      \"properties\": {\n        \"dtype\": \"category\",\n        \"num_unique_values\": 3,\n        \"samples\": [\n          \"Medium\",\n          \"Low\"\n        ],\n        \"semantic_type\": \"\",\n        \"description\": \"\"\n      }\n    },\n    {\n      \"column\": \"Leisure Time Activity\",\n      \"properties\": {\n        \"dtype\": \"category\",\n        \"num_unique_values\": 6,\n        \"samples\": [\n          \"Reading\",\n          \"Gaming\"\n        ],\n        \"semantic_type\": \"\",\n        \"description\": \"\"\n      }\n    }\n  ]\n}"
            }
          },
          "metadata": {},
          "execution_count": 3
        }
      ],
      "source": [
        "df.head()"
      ]
    },
    {
      "cell_type": "markdown",
      "id": "00f4dc9b-9a03-40d6-a920-6ca1797fb621",
      "metadata": {
        "id": "00f4dc9b-9a03-40d6-a920-6ca1797fb621"
      },
      "source": [
        "# Preprocessing"
      ]
    },
    {
      "cell_type": "markdown",
      "id": "f4aa1e50-b884-4dde-a93c-af8b2fdaa3aa",
      "metadata": {
        "id": "f4aa1e50-b884-4dde-a93c-af8b2fdaa3aa"
      },
      "source": [
        "### Combined Fields"
      ]
    },
    {
      "cell_type": "code",
      "execution_count": 4,
      "id": "cd532f31-e858-4e60-accc-83cb38802f11",
      "metadata": {
        "id": "cd532f31-e858-4e60-accc-83cb38802f11"
      },
      "outputs": [],
      "source": [
        "df[\"BMI\"] = df[\"Weight_Kg\"]/(df[\"Height_cm\"]/100)**2"
      ]
    },
    {
      "cell_type": "markdown",
      "id": "5a9f9b68-1483-401e-ba2e-5c5b100af241",
      "metadata": {
        "id": "5a9f9b68-1483-401e-ba2e-5c5b100af241"
      },
      "source": [
        "### Removing unwanted fields"
      ]
    },
    {
      "cell_type": "code",
      "execution_count": 5,
      "id": "6fb03885-e9fa-456c-bf7f-e396ac434ac2",
      "metadata": {
        "id": "6fb03885-e9fa-456c-bf7f-e396ac434ac2"
      },
      "outputs": [],
      "source": [
        "drop_cols = [\n",
        "    \"PersonID\",\n",
        "    \"Weight_Kg\",\n",
        "    \"Height_cm\"\n",
        "]"
      ]
    },
    {
      "cell_type": "code",
      "execution_count": 6,
      "id": "1c655116-9c68-4ba4-a9ef-a2dc6e751980",
      "metadata": {
        "id": "1c655116-9c68-4ba4-a9ef-a2dc6e751980"
      },
      "outputs": [],
      "source": [
        "df = df.drop(drop_cols, axis=1)"
      ]
    },
    {
      "cell_type": "markdown",
      "id": "e6302ab5-217e-4cb0-a6f0-3d6a4abafaea",
      "metadata": {
        "id": "e6302ab5-217e-4cb0-a6f0-3d6a4abafaea"
      },
      "source": [
        "### Removing missing cells"
      ]
    },
    {
      "cell_type": "code",
      "execution_count": 7,
      "id": "b4b6cd9f-573e-44c8-a391-937283bf74f0",
      "metadata": {
        "id": "b4b6cd9f-573e-44c8-a391-937283bf74f0",
        "outputId": "05ebbf33-42de-46b4-bc01-e692f1a20626",
        "colab": {
          "base_uri": "https://localhost:8080/",
          "height": 178
        }
      },
      "outputs": [
        {
          "output_type": "execute_result",
          "data": {
            "text/plain": [
              "Gender                       30\n",
              "Alcohol_Consumption          37\n",
              "Physical_Activity_Level    1498\n",
              "dtype: int64"
            ],
            "text/html": [
              "<div>\n",
              "<style scoped>\n",
              "    .dataframe tbody tr th:only-of-type {\n",
              "        vertical-align: middle;\n",
              "    }\n",
              "\n",
              "    .dataframe tbody tr th {\n",
              "        vertical-align: top;\n",
              "    }\n",
              "\n",
              "    .dataframe thead th {\n",
              "        text-align: right;\n",
              "    }\n",
              "</style>\n",
              "<table border=\"1\" class=\"dataframe\">\n",
              "  <thead>\n",
              "    <tr style=\"text-align: right;\">\n",
              "      <th></th>\n",
              "      <th>0</th>\n",
              "    </tr>\n",
              "  </thead>\n",
              "  <tbody>\n",
              "    <tr>\n",
              "      <th>Gender</th>\n",
              "      <td>30</td>\n",
              "    </tr>\n",
              "    <tr>\n",
              "      <th>Alcohol_Consumption</th>\n",
              "      <td>37</td>\n",
              "    </tr>\n",
              "    <tr>\n",
              "      <th>Physical_Activity_Level</th>\n",
              "      <td>1498</td>\n",
              "    </tr>\n",
              "  </tbody>\n",
              "</table>\n",
              "</div><br><label><b>dtype:</b> int64</label>"
            ]
          },
          "metadata": {},
          "execution_count": 7
        }
      ],
      "source": [
        "df.isna().sum()[df.isna().sum() > 0]"
      ]
    },
    {
      "cell_type": "code",
      "execution_count": 8,
      "id": "2069674e-414e-41a0-abc6-f15e425c212c",
      "metadata": {
        "id": "2069674e-414e-41a0-abc6-f15e425c212c"
      },
      "outputs": [],
      "source": [
        "df = df.drop([\"Physical_Activity_Level\"], axis=1)"
      ]
    },
    {
      "cell_type": "code",
      "execution_count": 9,
      "id": "158a85dc-f9db-40bc-9dfa-ce27723c9579",
      "metadata": {
        "id": "158a85dc-f9db-40bc-9dfa-ce27723c9579"
      },
      "outputs": [],
      "source": [
        "missing_cols = [\"Gender\", \"Alcohol_Consumption\"]\n",
        "df = df.dropna(subset=missing_cols)"
      ]
    },
    {
      "cell_type": "markdown",
      "id": "43e673c7-c54c-4e35-874a-d89e15b933ef",
      "metadata": {
        "id": "43e673c7-c54c-4e35-874a-d89e15b933ef"
      },
      "source": [
        "### Mapping"
      ]
    },
    {
      "cell_type": "code",
      "execution_count": 10,
      "id": "d21f1027-754f-43cf-b43b-931118bd0ddc",
      "metadata": {
        "id": "d21f1027-754f-43cf-b43b-931118bd0ddc"
      },
      "outputs": [],
      "source": [
        "map_YN = {\n",
        "    \"Yes\" : 1,\n",
        "    \"yes\" : 1,\n",
        "    \"yess\" : 1,\n",
        "    \"No\" : 0,\n",
        "    \"no\" : 0\n",
        "}\n",
        "\n",
        "map_Gender = {\n",
        "    \"Male\": 1,\n",
        "    \"Female\": 0\n",
        "}\n",
        "\n",
        "map_Frq = {\n",
        "    \"no\" : 0,\n",
        "    \"Never\" : 0,\n",
        "    \"Sometimes\" : 1,\n",
        "    \"Occasionally\" : 1,\n",
        "    \"Frequently\" : 2,\n",
        "    \"Often\" : 2,\n",
        "    \"Always\" : 3\n",
        "}\n",
        "\n",
        "map_Cat = {\n",
        "    'Insufficient_Weight': 0,\n",
        "    'Normal_Weight': 1,\n",
        "    'Overweight_Level_I': 2,\n",
        "    'Overweight_Level_II': 3,\n",
        "    'Obesity_Type_I': 4,\n",
        "    'Obesity_Type_II': 5,\n",
        "    'Obesity_Type_III': 6\n",
        "}"
      ]
    },
    {
      "cell_type": "code",
      "execution_count": 11,
      "id": "56a0ccab-402a-4f5e-a739-1cd8b8a552f2",
      "metadata": {
        "id": "56a0ccab-402a-4f5e-a739-1cd8b8a552f2"
      },
      "outputs": [],
      "source": [
        "df[\"Gender\"] = df[\"Gender\"].map(map_Gender)\n",
        "df[\"High_Calorie_Food\"] = df[\"High_Calorie_Food\"].map(map_YN)\n",
        "df[\"Family_History\"] = df[\"Family_History\"].map(map_YN)\n",
        "df[\"Smoking_Habit\"] = df[\"Smoking_Habit\"].map(map_YN)\n",
        "df[\"Snack_Frequency\"] = df[\"Snack_Frequency\"].map(map_Frq)\n",
        "df[\"Alcohol_Consumption\"] = df[\"Alcohol_Consumption\"].map(map_Frq)\n",
        "df[\"Weight_Category\"] = df[\"Weight_Category\"].map(map_Cat)"
      ]
    },
    {
      "cell_type": "markdown",
      "id": "0f120efb-da47-465e-8a87-bbecd8f2a466",
      "metadata": {
        "id": "0f120efb-da47-465e-8a87-bbecd8f2a466"
      },
      "source": [
        "### One Hot Encoding"
      ]
    },
    {
      "cell_type": "code",
      "execution_count": 12,
      "id": "eaf04cec-2ccf-46c5-836c-526ca928a9d9",
      "metadata": {
        "id": "eaf04cec-2ccf-46c5-836c-526ca928a9d9"
      },
      "outputs": [],
      "source": [
        "df = pd.get_dummies(df, columns=['Commute_Mode','Leisure Time Activity'])"
      ]
    },
    {
      "cell_type": "markdown",
      "id": "59f5f7e2-6963-46ac-9d4d-72872edda59c",
      "metadata": {
        "id": "59f5f7e2-6963-46ac-9d4d-72872edda59c"
      },
      "source": [
        "## Defining X,Y"
      ]
    },
    {
      "cell_type": "code",
      "execution_count": 13,
      "id": "d1e03da5-7234-4cd8-90d6-9e74c2b098ca",
      "metadata": {
        "id": "d1e03da5-7234-4cd8-90d6-9e74c2b098ca"
      },
      "outputs": [],
      "source": [
        "x = df.drop([\"Weight_Category\"], axis=1)\n",
        "y = df[\"Weight_Category\"]"
      ]
    },
    {
      "cell_type": "markdown",
      "id": "f8ad764f-46c4-4d69-b00e-e2dc250ea2e9",
      "metadata": {
        "id": "f8ad764f-46c4-4d69-b00e-e2dc250ea2e9"
      },
      "source": [
        "## Data Splitting"
      ]
    },
    {
      "cell_type": "code",
      "execution_count": 14,
      "id": "08aebdd8-1664-4df8-9588-ccfe91629b79",
      "metadata": {
        "id": "08aebdd8-1664-4df8-9588-ccfe91629b79"
      },
      "outputs": [],
      "source": [
        "x_train, x_test, y_train, y_test = train_test_split(x, y, test_size=0.2, random_state=42, stratify=y)"
      ]
    },
    {
      "cell_type": "markdown",
      "id": "scaling-header",
      "metadata": {
        "id": "scaling-header"
      },
      "source": [
        "## Feature Scaling"
      ]
    },
    {
      "cell_type": "code",
      "execution_count": 15,
      "id": "scaling-code",
      "metadata": {
        "id": "scaling-code"
      },
      "outputs": [],
      "source": [
        "scaler = StandardScaler()\n",
        "x_train = scaler.fit_transform(x_train)\n",
        "x_test = scaler.transform(x_test)"
      ]
    },
    {
      "cell_type": "markdown",
      "id": "class-weights-header",
      "metadata": {
        "id": "class-weights-header"
      },
      "source": [
        "## Computing Class Weights"
      ]
    },
    {
      "cell_type": "code",
      "execution_count": 16,
      "id": "class-weights-code",
      "metadata": {
        "id": "class-weights-code",
        "outputId": "819ffd1c-7767-4432-a22e-a9d66b504f1d",
        "colab": {
          "base_uri": "https://localhost:8080/"
        }
      },
      "outputs": [
        {
          "output_type": "stream",
          "name": "stdout",
          "text": [
            "Class weights: {np.int64(0): np.float64(1.223809523809524), np.int64(1): np.float64(1.0851513019000705), np.int64(2): np.float64(1.0151415404871627), np.int64(3): np.float64(1.0245847176079734), np.int64(4): np.float64(0.8407851690294439), np.int64(5): np.float64(1.00587084148728), np.int64(6): np.float64(0.8954703832752613)}\n"
          ]
        }
      ],
      "source": [
        "weights = compute_class_weight(\"balanced\", classes=np.unique(y_train), y=y_train)\n",
        "class_weights = dict(zip(np.unique(y_train), weights))\n",
        "print(\"Class weights:\", class_weights)"
      ]
    },
    {
      "cell_type": "markdown",
      "id": "952e0887-4175-4a9c-bb82-5c356b3c5d18",
      "metadata": {
        "id": "952e0887-4175-4a9c-bb82-5c356b3c5d18"
      },
      "source": [
        "# Training"
      ]
    },
    {
      "cell_type": "code",
      "execution_count": 17,
      "id": "0ece835a-d72c-404b-bd7b-c38631fd49d8",
      "metadata": {
        "id": "0ece835a-d72c-404b-bd7b-c38631fd49d8"
      },
      "outputs": [],
      "source": [
        "model = Sequential([\n",
        "        Input(shape=[25]),\n",
        "        Dense(64, activation=\"relu\", name=\"Layer_In\"),\n",
        "        Dropout(0.2),\n",
        "        Dense(32, activation=\"relu\", name=\"Layer_H1\"),\n",
        "        Dropout(0.2),\n",
        "        Dense(16, activation=\"relu\", name=\"Layer_H2\"),\n",
        "        Dense(7, activation=\"softmax\", name=\"Layer_Out\")\n",
        "    ])"
      ]
    },
    {
      "cell_type": "code",
      "execution_count": 18,
      "id": "27deb97f-ff29-4dc7-bebe-61f0b12c594f",
      "metadata": {
        "id": "27deb97f-ff29-4dc7-bebe-61f0b12c594f"
      },
      "outputs": [],
      "source": [
        "model.compile(\n",
        "    optimizer='adam',\n",
        "    loss=\"sparse_categorical_crossentropy\",\n",
        "    metrics=['accuracy']\n",
        ")"
      ]
    },
    {
      "cell_type": "code",
      "execution_count": 19,
      "id": "ed888514-96e0-4c6a-a959-8feb642e988b",
      "metadata": {
        "id": "ed888514-96e0-4c6a-a959-8feb642e988b",
        "outputId": "02d7e956-ff24-4211-f39d-d1635f97cf71",
        "colab": {
          "base_uri": "https://localhost:8080/",
          "height": 321
        }
      },
      "outputs": [
        {
          "output_type": "display_data",
          "data": {
            "text/plain": [
              "\u001b[1mModel: \"sequential\"\u001b[0m\n"
            ],
            "text/html": [
              "<pre style=\"white-space:pre;overflow-x:auto;line-height:normal;font-family:Menlo,'DejaVu Sans Mono',consolas,'Courier New',monospace\"><span style=\"font-weight: bold\">Model: \"sequential\"</span>\n",
              "</pre>\n"
            ]
          },
          "metadata": {}
        },
        {
          "output_type": "display_data",
          "data": {
            "text/plain": [
              "┏━━━━━━━━━━━━━━━━━━━━━━━━━━━━━━━━━┳━━━━━━━━━━━━━━━━━━━━━━━━┳━━━━━━━━━━━━━━━┓\n",
              "┃\u001b[1m \u001b[0m\u001b[1mLayer (type)                   \u001b[0m\u001b[1m \u001b[0m┃\u001b[1m \u001b[0m\u001b[1mOutput Shape          \u001b[0m\u001b[1m \u001b[0m┃\u001b[1m \u001b[0m\u001b[1m      Param #\u001b[0m\u001b[1m \u001b[0m┃\n",
              "┡━━━━━━━━━━━━━━━━━━━━━━━━━━━━━━━━━╇━━━━━━━━━━━━━━━━━━━━━━━━╇━━━━━━━━━━━━━━━┩\n",
              "│ Layer_In (\u001b[38;5;33mDense\u001b[0m)                │ (\u001b[38;5;45mNone\u001b[0m, \u001b[38;5;34m64\u001b[0m)             │         \u001b[38;5;34m1,664\u001b[0m │\n",
              "├─────────────────────────────────┼────────────────────────┼───────────────┤\n",
              "│ dropout (\u001b[38;5;33mDropout\u001b[0m)               │ (\u001b[38;5;45mNone\u001b[0m, \u001b[38;5;34m64\u001b[0m)             │             \u001b[38;5;34m0\u001b[0m │\n",
              "├─────────────────────────────────┼────────────────────────┼───────────────┤\n",
              "│ Layer_H1 (\u001b[38;5;33mDense\u001b[0m)                │ (\u001b[38;5;45mNone\u001b[0m, \u001b[38;5;34m32\u001b[0m)             │         \u001b[38;5;34m2,080\u001b[0m │\n",
              "├─────────────────────────────────┼────────────────────────┼───────────────┤\n",
              "│ dropout_1 (\u001b[38;5;33mDropout\u001b[0m)             │ (\u001b[38;5;45mNone\u001b[0m, \u001b[38;5;34m32\u001b[0m)             │             \u001b[38;5;34m0\u001b[0m │\n",
              "├─────────────────────────────────┼────────────────────────┼───────────────┤\n",
              "│ Layer_H2 (\u001b[38;5;33mDense\u001b[0m)                │ (\u001b[38;5;45mNone\u001b[0m, \u001b[38;5;34m16\u001b[0m)             │           \u001b[38;5;34m528\u001b[0m │\n",
              "├─────────────────────────────────┼────────────────────────┼───────────────┤\n",
              "│ Layer_Out (\u001b[38;5;33mDense\u001b[0m)               │ (\u001b[38;5;45mNone\u001b[0m, \u001b[38;5;34m7\u001b[0m)              │           \u001b[38;5;34m119\u001b[0m │\n",
              "└─────────────────────────────────┴────────────────────────┴───────────────┘\n"
            ],
            "text/html": [
              "<pre style=\"white-space:pre;overflow-x:auto;line-height:normal;font-family:Menlo,'DejaVu Sans Mono',consolas,'Courier New',monospace\">┏━━━━━━━━━━━━━━━━━━━━━━━━━━━━━━━━━┳━━━━━━━━━━━━━━━━━━━━━━━━┳━━━━━━━━━━━━━━━┓\n",
              "┃<span style=\"font-weight: bold\"> Layer (type)                    </span>┃<span style=\"font-weight: bold\"> Output Shape           </span>┃<span style=\"font-weight: bold\">       Param # </span>┃\n",
              "┡━━━━━━━━━━━━━━━━━━━━━━━━━━━━━━━━━╇━━━━━━━━━━━━━━━━━━━━━━━━╇━━━━━━━━━━━━━━━┩\n",
              "│ Layer_In (<span style=\"color: #0087ff; text-decoration-color: #0087ff\">Dense</span>)                │ (<span style=\"color: #00d7ff; text-decoration-color: #00d7ff\">None</span>, <span style=\"color: #00af00; text-decoration-color: #00af00\">64</span>)             │         <span style=\"color: #00af00; text-decoration-color: #00af00\">1,664</span> │\n",
              "├─────────────────────────────────┼────────────────────────┼───────────────┤\n",
              "│ dropout (<span style=\"color: #0087ff; text-decoration-color: #0087ff\">Dropout</span>)               │ (<span style=\"color: #00d7ff; text-decoration-color: #00d7ff\">None</span>, <span style=\"color: #00af00; text-decoration-color: #00af00\">64</span>)             │             <span style=\"color: #00af00; text-decoration-color: #00af00\">0</span> │\n",
              "├─────────────────────────────────┼────────────────────────┼───────────────┤\n",
              "│ Layer_H1 (<span style=\"color: #0087ff; text-decoration-color: #0087ff\">Dense</span>)                │ (<span style=\"color: #00d7ff; text-decoration-color: #00d7ff\">None</span>, <span style=\"color: #00af00; text-decoration-color: #00af00\">32</span>)             │         <span style=\"color: #00af00; text-decoration-color: #00af00\">2,080</span> │\n",
              "├─────────────────────────────────┼────────────────────────┼───────────────┤\n",
              "│ dropout_1 (<span style=\"color: #0087ff; text-decoration-color: #0087ff\">Dropout</span>)             │ (<span style=\"color: #00d7ff; text-decoration-color: #00d7ff\">None</span>, <span style=\"color: #00af00; text-decoration-color: #00af00\">32</span>)             │             <span style=\"color: #00af00; text-decoration-color: #00af00\">0</span> │\n",
              "├─────────────────────────────────┼────────────────────────┼───────────────┤\n",
              "│ Layer_H2 (<span style=\"color: #0087ff; text-decoration-color: #0087ff\">Dense</span>)                │ (<span style=\"color: #00d7ff; text-decoration-color: #00d7ff\">None</span>, <span style=\"color: #00af00; text-decoration-color: #00af00\">16</span>)             │           <span style=\"color: #00af00; text-decoration-color: #00af00\">528</span> │\n",
              "├─────────────────────────────────┼────────────────────────┼───────────────┤\n",
              "│ Layer_Out (<span style=\"color: #0087ff; text-decoration-color: #0087ff\">Dense</span>)               │ (<span style=\"color: #00d7ff; text-decoration-color: #00d7ff\">None</span>, <span style=\"color: #00af00; text-decoration-color: #00af00\">7</span>)              │           <span style=\"color: #00af00; text-decoration-color: #00af00\">119</span> │\n",
              "└─────────────────────────────────┴────────────────────────┴───────────────┘\n",
              "</pre>\n"
            ]
          },
          "metadata": {}
        },
        {
          "output_type": "display_data",
          "data": {
            "text/plain": [
              "\u001b[1m Total params: \u001b[0m\u001b[38;5;34m4,391\u001b[0m (17.15 KB)\n"
            ],
            "text/html": [
              "<pre style=\"white-space:pre;overflow-x:auto;line-height:normal;font-family:Menlo,'DejaVu Sans Mono',consolas,'Courier New',monospace\"><span style=\"font-weight: bold\"> Total params: </span><span style=\"color: #00af00; text-decoration-color: #00af00\">4,391</span> (17.15 KB)\n",
              "</pre>\n"
            ]
          },
          "metadata": {}
        },
        {
          "output_type": "display_data",
          "data": {
            "text/plain": [
              "\u001b[1m Trainable params: \u001b[0m\u001b[38;5;34m4,391\u001b[0m (17.15 KB)\n"
            ],
            "text/html": [
              "<pre style=\"white-space:pre;overflow-x:auto;line-height:normal;font-family:Menlo,'DejaVu Sans Mono',consolas,'Courier New',monospace\"><span style=\"font-weight: bold\"> Trainable params: </span><span style=\"color: #00af00; text-decoration-color: #00af00\">4,391</span> (17.15 KB)\n",
              "</pre>\n"
            ]
          },
          "metadata": {}
        },
        {
          "output_type": "display_data",
          "data": {
            "text/plain": [
              "\u001b[1m Non-trainable params: \u001b[0m\u001b[38;5;34m0\u001b[0m (0.00 B)\n"
            ],
            "text/html": [
              "<pre style=\"white-space:pre;overflow-x:auto;line-height:normal;font-family:Menlo,'DejaVu Sans Mono',consolas,'Courier New',monospace\"><span style=\"font-weight: bold\"> Non-trainable params: </span><span style=\"color: #00af00; text-decoration-color: #00af00\">0</span> (0.00 B)\n",
              "</pre>\n"
            ]
          },
          "metadata": {}
        }
      ],
      "source": [
        "model.summary()"
      ]
    },
    {
      "cell_type": "markdown",
      "id": "early-stopping-header",
      "metadata": {
        "id": "early-stopping-header"
      },
      "source": [
        "## Early Stopping Setup"
      ]
    },
    {
      "cell_type": "code",
      "execution_count": 20,
      "id": "early-stopping-code",
      "metadata": {
        "id": "early-stopping-code"
      },
      "outputs": [],
      "source": [
        "early_stopping = EarlyStopping(\n",
        "    monitor='val_loss',\n",
        "    patience=15,\n",
        "    restore_best_weights=True,\n",
        "    verbose=1\n",
        ")"
      ]
    },
    {
      "cell_type": "code",
      "execution_count": 21,
      "id": "d28b5486-e46f-4bab-a7e6-c226a5becd5e",
      "metadata": {
        "id": "d28b5486-e46f-4bab-a7e6-c226a5becd5e",
        "outputId": "b41d4f30-76ae-452d-8dc5-32391f8d8d9c",
        "colab": {
          "base_uri": "https://localhost:8080/"
        }
      },
      "outputs": [
        {
          "output_type": "stream",
          "name": "stdout",
          "text": [
            "Epoch 1/50\n",
            "97/97 - 4s - 41ms/step - accuracy: 0.1958 - loss: 1.9296 - val_accuracy: 0.3420 - val_loss: 1.8180\n",
            "Epoch 2/50\n",
            "97/97 - 1s - 10ms/step - accuracy: 0.3022 - loss: 1.7693 - val_accuracy: 0.4249 - val_loss: 1.6095\n",
            "Epoch 3/50\n",
            "97/97 - 1s - 11ms/step - accuracy: 0.3755 - loss: 1.6258 - val_accuracy: 0.4715 - val_loss: 1.4673\n",
            "Epoch 4/50\n",
            "97/97 - 1s - 8ms/step - accuracy: 0.4248 - loss: 1.5244 - val_accuracy: 0.5181 - val_loss: 1.3724\n",
            "Epoch 5/50\n",
            "97/97 - 0s - 5ms/step - accuracy: 0.4533 - loss: 1.4873 - val_accuracy: 0.5440 - val_loss: 1.3262\n",
            "Epoch 6/50\n",
            "97/97 - 0s - 3ms/step - accuracy: 0.5013 - loss: 1.4230 - val_accuracy: 0.5518 - val_loss: 1.2846\n",
            "Epoch 7/50\n",
            "97/97 - 0s - 3ms/step - accuracy: 0.4883 - loss: 1.4094 - val_accuracy: 0.5674 - val_loss: 1.2579\n",
            "Epoch 8/50\n",
            "97/97 - 0s - 3ms/step - accuracy: 0.5078 - loss: 1.3698 - val_accuracy: 0.5855 - val_loss: 1.2285\n",
            "Epoch 9/50\n",
            "97/97 - 0s - 3ms/step - accuracy: 0.5363 - loss: 1.3284 - val_accuracy: 0.5803 - val_loss: 1.2046\n",
            "Epoch 10/50\n",
            "97/97 - 0s - 3ms/step - accuracy: 0.5674 - loss: 1.3075 - val_accuracy: 0.5933 - val_loss: 1.1816\n",
            "Epoch 11/50\n",
            "97/97 - 0s - 3ms/step - accuracy: 0.5629 - loss: 1.2738 - val_accuracy: 0.6062 - val_loss: 1.1595\n",
            "Epoch 12/50\n",
            "97/97 - 0s - 3ms/step - accuracy: 0.5661 - loss: 1.2556 - val_accuracy: 0.6062 - val_loss: 1.1545\n",
            "Epoch 13/50\n",
            "97/97 - 0s - 3ms/step - accuracy: 0.5830 - loss: 1.2362 - val_accuracy: 0.6036 - val_loss: 1.1376\n",
            "Epoch 14/50\n",
            "97/97 - 0s - 4ms/step - accuracy: 0.5791 - loss: 1.2301 - val_accuracy: 0.6166 - val_loss: 1.1177\n",
            "Epoch 15/50\n",
            "97/97 - 0s - 5ms/step - accuracy: 0.5953 - loss: 1.1899 - val_accuracy: 0.6347 - val_loss: 1.1079\n",
            "Epoch 16/50\n",
            "97/97 - 0s - 5ms/step - accuracy: 0.6018 - loss: 1.1815 - val_accuracy: 0.6373 - val_loss: 1.0899\n",
            "Epoch 17/50\n",
            "97/97 - 0s - 5ms/step - accuracy: 0.6161 - loss: 1.1674 - val_accuracy: 0.6528 - val_loss: 1.0816\n",
            "Epoch 18/50\n",
            "97/97 - 1s - 7ms/step - accuracy: 0.6167 - loss: 1.1505 - val_accuracy: 0.6580 - val_loss: 1.0726\n",
            "Epoch 19/50\n",
            "97/97 - 0s - 3ms/step - accuracy: 0.6064 - loss: 1.1428 - val_accuracy: 0.6503 - val_loss: 1.0746\n",
            "Epoch 20/50\n",
            "97/97 - 0s - 3ms/step - accuracy: 0.6349 - loss: 1.1020 - val_accuracy: 0.6528 - val_loss: 1.0629\n",
            "Epoch 21/50\n",
            "97/97 - 0s - 3ms/step - accuracy: 0.6226 - loss: 1.1147 - val_accuracy: 0.6736 - val_loss: 1.0514\n",
            "Epoch 22/50\n",
            "97/97 - 0s - 3ms/step - accuracy: 0.6252 - loss: 1.1042 - val_accuracy: 0.6373 - val_loss: 1.0482\n",
            "Epoch 23/50\n",
            "97/97 - 0s - 3ms/step - accuracy: 0.6167 - loss: 1.1013 - val_accuracy: 0.6503 - val_loss: 1.0486\n",
            "Epoch 24/50\n",
            "97/97 - 0s - 3ms/step - accuracy: 0.6304 - loss: 1.0733 - val_accuracy: 0.6736 - val_loss: 1.0312\n",
            "Epoch 25/50\n",
            "97/97 - 0s - 3ms/step - accuracy: 0.6349 - loss: 1.0814 - val_accuracy: 0.6736 - val_loss: 1.0301\n",
            "Epoch 26/50\n",
            "97/97 - 0s - 3ms/step - accuracy: 0.6524 - loss: 1.0674 - val_accuracy: 0.6813 - val_loss: 1.0198\n",
            "Epoch 27/50\n",
            "97/97 - 0s - 3ms/step - accuracy: 0.6407 - loss: 1.0498 - val_accuracy: 0.6813 - val_loss: 1.0111\n",
            "Epoch 28/50\n",
            "97/97 - 0s - 3ms/step - accuracy: 0.6530 - loss: 1.0354 - val_accuracy: 0.6891 - val_loss: 1.0086\n",
            "Epoch 29/50\n",
            "97/97 - 0s - 3ms/step - accuracy: 0.6582 - loss: 1.0397 - val_accuracy: 0.6891 - val_loss: 1.0014\n",
            "Epoch 30/50\n",
            "97/97 - 0s - 3ms/step - accuracy: 0.6537 - loss: 1.0115 - val_accuracy: 0.6995 - val_loss: 1.0004\n",
            "Epoch 31/50\n",
            "97/97 - 0s - 3ms/step - accuracy: 0.6660 - loss: 1.0359 - val_accuracy: 0.6865 - val_loss: 1.0040\n",
            "Epoch 32/50\n",
            "97/97 - 0s - 4ms/step - accuracy: 0.6505 - loss: 1.0096 - val_accuracy: 0.6891 - val_loss: 0.9906\n",
            "Epoch 33/50\n",
            "97/97 - 0s - 3ms/step - accuracy: 0.6706 - loss: 0.9881 - val_accuracy: 0.6943 - val_loss: 0.9824\n",
            "Epoch 34/50\n",
            "97/97 - 0s - 3ms/step - accuracy: 0.6654 - loss: 0.9760 - val_accuracy: 0.6917 - val_loss: 0.9798\n",
            "Epoch 35/50\n",
            "97/97 - 0s - 4ms/step - accuracy: 0.6822 - loss: 0.9667 - val_accuracy: 0.6969 - val_loss: 0.9764\n",
            "Epoch 36/50\n",
            "97/97 - 0s - 3ms/step - accuracy: 0.6608 - loss: 0.9846 - val_accuracy: 0.6917 - val_loss: 0.9837\n",
            "Epoch 37/50\n",
            "97/97 - 0s - 3ms/step - accuracy: 0.6725 - loss: 0.9654 - val_accuracy: 0.6865 - val_loss: 0.9791\n",
            "Epoch 38/50\n",
            "97/97 - 0s - 3ms/step - accuracy: 0.6835 - loss: 0.9497 - val_accuracy: 0.6995 - val_loss: 0.9664\n",
            "Epoch 39/50\n",
            "97/97 - 0s - 3ms/step - accuracy: 0.6757 - loss: 0.9606 - val_accuracy: 0.7021 - val_loss: 0.9641\n",
            "Epoch 40/50\n",
            "97/97 - 0s - 3ms/step - accuracy: 0.6712 - loss: 0.9559 - val_accuracy: 0.7124 - val_loss: 0.9477\n",
            "Epoch 41/50\n",
            "97/97 - 0s - 3ms/step - accuracy: 0.6719 - loss: 0.9566 - val_accuracy: 0.7098 - val_loss: 0.9559\n",
            "Epoch 42/50\n",
            "97/97 - 0s - 3ms/step - accuracy: 0.6738 - loss: 0.9443 - val_accuracy: 0.7021 - val_loss: 0.9464\n",
            "Epoch 43/50\n",
            "97/97 - 0s - 3ms/step - accuracy: 0.6894 - loss: 0.9284 - val_accuracy: 0.7073 - val_loss: 0.9542\n",
            "Epoch 44/50\n",
            "97/97 - 0s - 3ms/step - accuracy: 0.6751 - loss: 0.9188 - val_accuracy: 0.7332 - val_loss: 0.9402\n",
            "Epoch 45/50\n",
            "97/97 - 0s - 3ms/step - accuracy: 0.6952 - loss: 0.9083 - val_accuracy: 0.7202 - val_loss: 0.9419\n",
            "Epoch 46/50\n",
            "97/97 - 0s - 3ms/step - accuracy: 0.6706 - loss: 0.9340 - val_accuracy: 0.7202 - val_loss: 0.9523\n",
            "Epoch 47/50\n",
            "97/97 - 0s - 3ms/step - accuracy: 0.6881 - loss: 0.9144 - val_accuracy: 0.6995 - val_loss: 0.9436\n",
            "Epoch 48/50\n",
            "97/97 - 0s - 3ms/step - accuracy: 0.6900 - loss: 0.8978 - val_accuracy: 0.7073 - val_loss: 0.9285\n",
            "Epoch 49/50\n",
            "97/97 - 0s - 3ms/step - accuracy: 0.6770 - loss: 0.9107 - val_accuracy: 0.7254 - val_loss: 0.9311\n",
            "Epoch 50/50\n",
            "97/97 - 0s - 3ms/step - accuracy: 0.6894 - loss: 0.8959 - val_accuracy: 0.7150 - val_loss: 0.9448\n",
            "Restoring model weights from the end of the best epoch: 48.\n"
          ]
        },
        {
          "output_type": "execute_result",
          "data": {
            "text/plain": [
              "<keras.src.callbacks.history.History at 0x78fd641ee3c0>"
            ]
          },
          "metadata": {},
          "execution_count": 21
        }
      ],
      "source": [
        "model.fit(x_train, y_train,\n",
        "          epochs=50,\n",
        "          batch_size=16,\n",
        "          validation_data=(x_test, y_test),\n",
        "          class_weight=class_weights,\n",
        "          callbacks=[early_stopping],\n",
        "          verbose=2)"
      ]
    },
    {
      "cell_type": "markdown",
      "id": "378bdb8b-41aa-4834-82cc-8983d53072e2",
      "metadata": {
        "id": "378bdb8b-41aa-4834-82cc-8983d53072e2"
      },
      "source": [
        "# Evaluation"
      ]
    },
    {
      "cell_type": "code",
      "execution_count": 22,
      "id": "aa1235c3-ef8a-4174-a243-11242864dc86",
      "metadata": {
        "id": "aa1235c3-ef8a-4174-a243-11242864dc86",
        "outputId": "93076a96-8216-4165-890b-3667602c67fa",
        "colab": {
          "base_uri": "https://localhost:8080/"
        }
      },
      "outputs": [
        {
          "output_type": "stream",
          "name": "stdout",
          "text": [
            "Final Validation Accuracy: 70.73%\n",
            "Final Validation Loss: 0.9285\n"
          ]
        }
      ],
      "source": [
        "loss, accuracy = model.evaluate(x_test, y_test, verbose=0)\n",
        "\n",
        "print(f\"Final Validation Accuracy: {accuracy * 100:.2f}%\")\n",
        "print(f\"Final Validation Loss: {loss:.4f}\")"
      ]
    }
  ],
  "metadata": {
    "colab": {
      "provenance": [],
      "include_colab_link": true
    },
    "kernelspec": {
      "display_name": "Python 3 (ipykernel)",
      "language": "python",
      "name": "python3"
    },
    "language_info": {
      "codemirror_mode": {
        "name": "ipython",
        "version": 3
      },
      "file_extension": ".py",
      "mimetype": "text/x-python",
      "name": "python",
      "nbconvert_exporter": "python",
      "pygments_lexer": "ipython3",
      "version": "3.13.7"
    }
  },
  "nbformat": 4,
  "nbformat_minor": 5
}
