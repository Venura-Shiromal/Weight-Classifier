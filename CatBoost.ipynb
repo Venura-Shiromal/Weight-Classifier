{
 "cells": [
  {
   "cell_type": "markdown",
   "id": "71e5bcfc",
   "metadata": {
    "colab_type": "text",
    "id": "view-in-github"
   },
   "source": [
    "<a href=\"https://colab.research.google.com/github/Venura-Shiromal/Weight-Classifier/blob/main/CatBoost.ipynb\" target=\"_parent\"><img src=\"https://colab.research.google.com/assets/colab-badge.svg\" alt=\"Open In Colab\"/></a>"
   ]
  },
  {
   "cell_type": "markdown",
   "id": "bbe3d965-5744-4d62-86c0-51c3ed3844b6",
   "metadata": {},
   "source": [
    "## Importing Modules"
   ]
  },
  {
   "cell_type": "code",
   "execution_count": 51,
   "id": "ed878b07-70d9-47ee-9e8f-c84f5b914cbd",
   "metadata": {},
   "outputs": [],
   "source": [
    "import numpy as np\n",
    "import pandas as pd\n",
    "from catboost import CatBoostClassifier\n",
    "from sklearn.model_selection import train_test_split\n",
    "from sklearn.metrics import accuracy_score, confusion_matrix\n",
    "from sklearn.utils.class_weight import compute_class_weight"
   ]
  },
  {
   "cell_type": "markdown",
   "id": "2b3347ec-f689-49fe-a301-a2de638476a7",
   "metadata": {},
   "source": [
    "# Input"
   ]
  },
  {
   "cell_type": "markdown",
   "id": "5d6d28d7-1839-4b3e-a3a0-bc1cd64c065e",
   "metadata": {},
   "source": [
    "## Loading Training Data"
   ]
  },
  {
   "cell_type": "code",
   "execution_count": 55,
   "id": "e3007e20-e5a4-4b49-9f68-c7653841346c",
   "metadata": {
    "id": "e3007e20-e5a4-4b49-9f68-c7653841346c"
   },
   "outputs": [],
   "source": [
    "df = pd.read_csv(\"data/train.csv\")"
   ]
  },
  {
   "cell_type": "code",
   "execution_count": 67,
   "id": "42bf22e7-55a1-4102-89fa-5ebc45bc6b6a",
   "metadata": {},
   "outputs": [
    {
     "data": {
      "text/html": [
       "<div>\n",
       "<style scoped>\n",
       "    .dataframe tbody tr th:only-of-type {\n",
       "        vertical-align: middle;\n",
       "    }\n",
       "\n",
       "    .dataframe tbody tr th {\n",
       "        vertical-align: top;\n",
       "    }\n",
       "\n",
       "    .dataframe thead th {\n",
       "        text-align: right;\n",
       "    }\n",
       "</style>\n",
       "<table border=\"1\" class=\"dataframe\">\n",
       "  <thead>\n",
       "    <tr style=\"text-align: right;\">\n",
       "      <th></th>\n",
       "      <th>Age_Years</th>\n",
       "      <th>High_Calorie_Food</th>\n",
       "      <th>Vegetable_Intake</th>\n",
       "      <th>Meal_Frequency</th>\n",
       "      <th>Water_Intake</th>\n",
       "      <th>Screen_Time_Hours</th>\n",
       "      <th>Family_Risk</th>\n",
       "      <th>Activity_Level_Score</th>\n",
       "      <th>Gender</th>\n",
       "      <th>Family_History</th>\n",
       "      <th>Snack_Frequency</th>\n",
       "      <th>Smoking_Habit</th>\n",
       "      <th>Alcohol_Consumption</th>\n",
       "      <th>Commute_Mode</th>\n",
       "      <th>Weight_Category</th>\n",
       "      <th>Leisure Time Activity</th>\n",
       "      <th>BMI</th>\n",
       "    </tr>\n",
       "  </thead>\n",
       "  <tbody>\n",
       "    <tr>\n",
       "      <th>0</th>\n",
       "      <td>26.000000</td>\n",
       "      <td>1</td>\n",
       "      <td>3.000000</td>\n",
       "      <td>3.000000</td>\n",
       "      <td>2.679137</td>\n",
       "      <td>0.479348</td>\n",
       "      <td>1.000000</td>\n",
       "      <td>0.479348</td>\n",
       "      <td>Female</td>\n",
       "      <td>yes</td>\n",
       "      <td>1</td>\n",
       "      <td>no</td>\n",
       "      <td>1</td>\n",
       "      <td>3</td>\n",
       "      <td>6</td>\n",
       "      <td>Reading</td>\n",
       "      <td>41.756023</td>\n",
       "    </tr>\n",
       "    <tr>\n",
       "      <th>1</th>\n",
       "      <td>25.483381</td>\n",
       "      <td>0</td>\n",
       "      <td>2.000000</td>\n",
       "      <td>1.000000</td>\n",
       "      <td>1.000000</td>\n",
       "      <td>0.000000</td>\n",
       "      <td>1.000000</td>\n",
       "      <td>0.740633</td>\n",
       "      <td>Female</td>\n",
       "      <td>yes</td>\n",
       "      <td>1</td>\n",
       "      <td>no</td>\n",
       "      <td>0</td>\n",
       "      <td>3</td>\n",
       "      <td>3</td>\n",
       "      <td>Reading</td>\n",
       "      <td>26.467461</td>\n",
       "    </tr>\n",
       "    <tr>\n",
       "      <th>2</th>\n",
       "      <td>26.000000</td>\n",
       "      <td>1</td>\n",
       "      <td>3.000000</td>\n",
       "      <td>3.000000</td>\n",
       "      <td>2.577210</td>\n",
       "      <td>0.402075</td>\n",
       "      <td>1.000000</td>\n",
       "      <td>0.402075</td>\n",
       "      <td>Female</td>\n",
       "      <td>yes</td>\n",
       "      <td>1</td>\n",
       "      <td>no</td>\n",
       "      <td>1</td>\n",
       "      <td>3</td>\n",
       "      <td>6</td>\n",
       "      <td>Reading</td>\n",
       "      <td>39.931666</td>\n",
       "    </tr>\n",
       "    <tr>\n",
       "      <th>3</th>\n",
       "      <td>21.715198</td>\n",
       "      <td>1</td>\n",
       "      <td>3.031308</td>\n",
       "      <td>3.322455</td>\n",
       "      <td>1.983531</td>\n",
       "      <td>-0.005858</td>\n",
       "      <td>0.987933</td>\n",
       "      <td>0.360441</td>\n",
       "      <td>Male</td>\n",
       "      <td>yes</td>\n",
       "      <td>1</td>\n",
       "      <td>no</td>\n",
       "      <td>0</td>\n",
       "      <td>3</td>\n",
       "      <td>1</td>\n",
       "      <td>Reading</td>\n",
       "      <td>38.333337</td>\n",
       "    </tr>\n",
       "    <tr>\n",
       "      <th>4</th>\n",
       "      <td>17.511767</td>\n",
       "      <td>1</td>\n",
       "      <td>1.964873</td>\n",
       "      <td>1.052297</td>\n",
       "      <td>2.025586</td>\n",
       "      <td>0.981999</td>\n",
       "      <td>1.004136</td>\n",
       "      <td>1.162488</td>\n",
       "      <td>Female</td>\n",
       "      <td>yes</td>\n",
       "      <td>1</td>\n",
       "      <td>no</td>\n",
       "      <td>0</td>\n",
       "      <td>3</td>\n",
       "      <td>1</td>\n",
       "      <td>Gaming</td>\n",
       "      <td>41.558981</td>\n",
       "    </tr>\n",
       "  </tbody>\n",
       "</table>\n",
       "</div>"
      ],
      "text/plain": [
       "   Age_Years  High_Calorie_Food  Vegetable_Intake  Meal_Frequency  \\\n",
       "0  26.000000                  1          3.000000        3.000000   \n",
       "1  25.483381                  0          2.000000        1.000000   \n",
       "2  26.000000                  1          3.000000        3.000000   \n",
       "3  21.715198                  1          3.031308        3.322455   \n",
       "4  17.511767                  1          1.964873        1.052297   \n",
       "\n",
       "   Water_Intake  Screen_Time_Hours  Family_Risk  Activity_Level_Score  Gender  \\\n",
       "0      2.679137           0.479348     1.000000              0.479348  Female   \n",
       "1      1.000000           0.000000     1.000000              0.740633  Female   \n",
       "2      2.577210           0.402075     1.000000              0.402075  Female   \n",
       "3      1.983531          -0.005858     0.987933              0.360441    Male   \n",
       "4      2.025586           0.981999     1.004136              1.162488  Female   \n",
       "\n",
       "  Family_History  Snack_Frequency Smoking_Habit  Alcohol_Consumption  \\\n",
       "0            yes                1            no                    1   \n",
       "1            yes                1            no                    0   \n",
       "2            yes                1            no                    1   \n",
       "3            yes                1            no                    0   \n",
       "4            yes                1            no                    0   \n",
       "\n",
       "   Commute_Mode  Weight_Category Leisure Time Activity        BMI  \n",
       "0             3                6               Reading  41.756023  \n",
       "1             3                3               Reading  26.467461  \n",
       "2             3                6               Reading  39.931666  \n",
       "3             3                1               Reading  38.333337  \n",
       "4             3                1                Gaming  41.558981  "
      ]
     },
     "execution_count": 67,
     "metadata": {},
     "output_type": "execute_result"
    }
   ],
   "source": [
    "df.head()"
   ]
  },
  {
   "cell_type": "markdown",
   "id": "00f4dc9b-9a03-40d6-a920-6ca1797fb621",
   "metadata": {},
   "source": [
    "# Preprocessing"
   ]
  },
  {
   "cell_type": "markdown",
   "id": "f4aa1e50-b884-4dde-a93c-af8b2fdaa3aa",
   "metadata": {},
   "source": [
    "### Combined Fields"
   ]
  },
  {
   "cell_type": "code",
   "execution_count": 57,
   "id": "cd532f31-e858-4e60-accc-83cb38802f11",
   "metadata": {},
   "outputs": [],
   "source": [
    "df[\"BMI\"] = df[\"Weight_Kg\"]/(df[\"Height_cm\"]/100)**2"
   ]
  },
  {
   "cell_type": "markdown",
   "id": "5a9f9b68-1483-401e-ba2e-5c5b100af241",
   "metadata": {},
   "source": [
    "### Removing unwanted fields"
   ]
  },
  {
   "cell_type": "code",
   "execution_count": 58,
   "id": "6fb03885-e9fa-456c-bf7f-e396ac434ac2",
   "metadata": {},
   "outputs": [],
   "source": [
    "drop_cols = [\n",
    "    \"PersonID\", \n",
    "    \"Weight_Kg\", \n",
    "    #\"Commute_Mode\", \n",
    "    \"Height_cm\" \n",
    "    #\"Water_Intake\", \n",
    "    #\"Activity_Level_Score\", \n",
    "    #\"Family_History\"\n",
    "]"
   ]
  },
  {
   "cell_type": "code",
   "execution_count": 59,
   "id": "1c655116-9c68-4ba4-a9ef-a2dc6e751980",
   "metadata": {},
   "outputs": [],
   "source": [
    "df = df.drop(drop_cols, axis=1)"
   ]
  },
  {
   "cell_type": "markdown",
   "id": "e6302ab5-217e-4cb0-a6f0-3d6a4abafaea",
   "metadata": {},
   "source": [
    "### Removing missing cells"
   ]
  },
  {
   "cell_type": "code",
   "execution_count": 60,
   "id": "b4b6cd9f-573e-44c8-a391-937283bf74f0",
   "metadata": {},
   "outputs": [
    {
     "data": {
      "text/plain": [
       "Gender                       30\n",
       "Alcohol_Consumption          37\n",
       "Physical_Activity_Level    1498\n",
       "dtype: int64"
      ]
     },
     "execution_count": 60,
     "metadata": {},
     "output_type": "execute_result"
    }
   ],
   "source": [
    "df.isna().sum()[df.isna().sum() > 0]"
   ]
  },
  {
   "cell_type": "code",
   "execution_count": 61,
   "id": "2069674e-414e-41a0-abc6-f15e425c212c",
   "metadata": {},
   "outputs": [],
   "source": [
    "df = df.drop([\"Physical_Activity_Level\"], axis=1)"
   ]
  },
  {
   "cell_type": "code",
   "execution_count": 62,
   "id": "158a85dc-f9db-40bc-9dfa-ce27723c9579",
   "metadata": {},
   "outputs": [],
   "source": [
    "missing_cols = [\"Gender\", \"Alcohol_Consumption\"]\n",
    "df = df.dropna(subset=missing_cols)"
   ]
  },
  {
   "cell_type": "markdown",
   "id": "43e673c7-c54c-4e35-874a-d89e15b933ef",
   "metadata": {},
   "source": [
    "### Mapping"
   ]
  },
  {
   "cell_type": "code",
   "execution_count": 63,
   "id": "d21f1027-754f-43cf-b43b-931118bd0ddc",
   "metadata": {},
   "outputs": [],
   "source": [
    "map_X1 = {\n",
    "    \"Yes\" : 1,\n",
    "    \"yes\" : 1,\n",
    "    \"yess\" : 1,\n",
    "    \"No\" : 0,\n",
    "    \"no\" : 0\n",
    "}\n",
    "\n",
    "map_X2 = {\n",
    "    \"Never\" : 0,\n",
    "    \"Occasionally\" : 1,\n",
    "    \"Often\" : 2,\n",
    "    \"Always\" : 3\n",
    "}\n",
    "\n",
    "map_X3 = {\n",
    "    \"no\" : 0,\n",
    "    \"Sometimes\" : 1,\n",
    "    \"Frequently\" : 2,\n",
    "    \"Always\" : 3\n",
    "}\n",
    "\n",
    "map_X4 = {\n",
    "    \"Bike\": 1,\n",
    "    \"Walking\": 2,\n",
    "    \"Public_Transportation\": 3,\n",
    "    \"Motorbike\": 4,\n",
    "    \"Automobile\": 5\n",
    "}\n",
    "\n",
    "map_Y = {\n",
    "    'Insufficient_Weight': 0,\n",
    "    'Normal_Weight': 1,\n",
    "    'Overweight_Level_I': 2,\n",
    "    'Overweight_Level_II': 3,\n",
    "    'Obesity_Type_I': 4,\n",
    "    'Obesity_Type_II': 5,\n",
    "    'Obesity_Type_III': 6\n",
    "}\n",
    "\n",
    "cat_cols = [\n",
    "    \"Gender\", \n",
    "    \"Family_History\", \n",
    "    \"Smoking_Habit\", \n",
    "    \"Leisure Time Activity\"\n",
    "]"
   ]
  },
  {
   "cell_type": "code",
   "execution_count": 64,
   "id": "56a0ccab-402a-4f5e-a739-1cd8b8a552f2",
   "metadata": {},
   "outputs": [],
   "source": [
    "df[\"High_Calorie_Food\"] = df[\"High_Calorie_Food\"].map(map_X1)\n",
    "df[\"Snack_Frequency\"] = df[\"Snack_Frequency\"].map(map_X2)\n",
    "df[\"Alcohol_Consumption\"] = df[\"Alcohol_Consumption\"].map(map_X3)\n",
    "df[\"Commute_Mode\"] = df[\"Commute_Mode\"].map(map_X4)\n",
    "df[\"Weight_Category\"] = df[\"Weight_Category\"].map(map_Y)"
   ]
  },
  {
   "cell_type": "markdown",
   "id": "59f5f7e2-6963-46ac-9d4d-72872edda59c",
   "metadata": {},
   "source": [
    "## Defining X,Y"
   ]
  },
  {
   "cell_type": "code",
   "execution_count": 65,
   "id": "d1e03da5-7234-4cd8-90d6-9e74c2b098ca",
   "metadata": {},
   "outputs": [],
   "source": [
    "x = df.drop([\"Weight_Category\"], axis=1)\n",
    "y = df[\"Weight_Category\"]"
   ]
  },
  {
   "cell_type": "markdown",
   "id": "f8ad764f-46c4-4d69-b00e-e2dc250ea2e9",
   "metadata": {},
   "source": [
    "## Data Splitting"
   ]
  },
  {
   "cell_type": "code",
   "execution_count": 66,
   "id": "08aebdd8-1664-4df8-9588-ccfe91629b79",
   "metadata": {},
   "outputs": [],
   "source": [
    "x_train, x_test, y_train, y_test = train_test_split(x, y, test_size=0.2, random_state=42, stratify=y)"
   ]
  },
  {
   "cell_type": "markdown",
   "id": "d86e713c-b3f7-4aec-a5d4-4966cc8e45ae",
   "metadata": {},
   "source": [
    "## Class Weights"
   ]
  },
  {
   "cell_type": "code",
   "execution_count": 68,
   "id": "84a17b58-31c0-478d-93ed-625ae93cad1c",
   "metadata": {},
   "outputs": [],
   "source": [
    "weights = compute_class_weight(\"balanced\", classes=np.unique(y_train), y=y_train)\n",
    "class_weights = dict(zip(np.unique(y_train), weights))"
   ]
  },
  {
   "cell_type": "markdown",
   "id": "952e0887-4175-4a9c-bb82-5c356b3c5d18",
   "metadata": {},
   "source": [
    "# Training"
   ]
  },
  {
   "cell_type": "code",
   "execution_count": 69,
   "id": "0ece835a-d72c-404b-bd7b-c38631fd49d8",
   "metadata": {},
   "outputs": [],
   "source": [
    "model = CatBoostClassifier(\n",
    "    learning_rate=0.08, \n",
    "    iterations=500, \n",
    "    depth=6, \n",
    "    verbose=50, \n",
    "    early_stopping_rounds=50,\n",
    "    l2_leaf_reg=3,\n",
    "    class_weights=class_weights\n",
    ")"
   ]
  },
  {
   "cell_type": "code",
   "execution_count": 70,
   "id": "d28b5486-e46f-4bab-a7e6-c226a5becd5e",
   "metadata": {},
   "outputs": [
    {
     "name": "stdout",
     "output_type": "stream",
     "text": [
      "0:\tlearn: 1.8412631\ttest: 1.8361149\tbest: 1.8361149 (0)\ttotal: 78.4ms\tremaining: 39.1s\n",
      "50:\tlearn: 0.7782623\ttest: 0.8325887\tbest: 0.8325887 (50)\ttotal: 3.89s\tremaining: 34.2s\n",
      "100:\tlearn: 0.6370903\ttest: 0.7710448\tbest: 0.7710448 (100)\ttotal: 10.5s\tremaining: 41.6s\n",
      "150:\tlearn: 0.5302317\ttest: 0.7303753\tbest: 0.7303753 (150)\ttotal: 17.2s\tremaining: 39.8s\n",
      "200:\tlearn: 0.4544356\ttest: 0.7090339\tbest: 0.7090339 (200)\ttotal: 23.7s\tremaining: 35.3s\n",
      "250:\tlearn: 0.3973945\ttest: 0.7011439\tbest: 0.6996192 (237)\ttotal: 30.2s\tremaining: 29.9s\n",
      "300:\tlearn: 0.3554107\ttest: 0.6998798\tbest: 0.6991720 (288)\ttotal: 36.6s\tremaining: 24.2s\n",
      "350:\tlearn: 0.3159902\ttest: 0.6964421\tbest: 0.6956176 (343)\ttotal: 43.2s\tremaining: 18.3s\n",
      "Stopped by overfitting detector  (50 iterations wait)\n",
      "\n",
      "bestTest = 0.6956175886\n",
      "bestIteration = 343\n",
      "\n",
      "Shrink model to first 344 iterations.\n"
     ]
    },
    {
     "data": {
      "text/plain": [
       "<catboost.core.CatBoostClassifier at 0x1a8ca56a350>"
      ]
     },
     "execution_count": 70,
     "metadata": {},
     "output_type": "execute_result"
    }
   ],
   "source": [
    "model.fit(x_train, y_train,\n",
    "          cat_features=cat_cols,\n",
    "          eval_set=(x_test, y_test)\n",
    ")"
   ]
  },
  {
   "cell_type": "code",
   "execution_count": 71,
   "id": "b7dbcaa3-4d5d-4daa-a969-c35fc7a586b2",
   "metadata": {},
   "outputs": [],
   "source": [
    "y_pred = model.predict(x_test)"
   ]
  },
  {
   "cell_type": "markdown",
   "id": "378bdb8b-41aa-4834-82cc-8983d53072e2",
   "metadata": {},
   "source": [
    "# Evaluation"
   ]
  },
  {
   "cell_type": "code",
   "execution_count": 72,
   "id": "b5a1a813-49b4-4c46-b0fa-8576b32ccc7c",
   "metadata": {},
   "outputs": [
    {
     "name": "stdout",
     "output_type": "stream",
     "text": [
      "[[36  2  1  1  1  1  3]\n",
      " [ 2 38  1  4  3  3  0]\n",
      " [ 0  2 45  3  1  2  1]\n",
      " [ 0  4  3 33  3  7  4]\n",
      " [ 1  2  1  2 54  3  2]\n",
      " [ 0  1  4  2  2 44  2]\n",
      " [ 1  2  4  1  0  3 51]]\n"
     ]
    }
   ],
   "source": [
    "cm = confusion_matrix(y_test, y_pred)\n",
    "print(cm)"
   ]
  },
  {
   "cell_type": "code",
   "execution_count": 74,
   "id": "ba5c3749-3836-42d9-bc80-ea418bff6e99",
   "metadata": {},
   "outputs": [
    {
     "name": "stdout",
     "output_type": "stream",
     "text": [
      "77.98%\n"
     ]
    }
   ],
   "source": [
    "acc = accuracy_score(y_test, y_pred)\n",
    "print(f\"{acc:.2%}\")"
   ]
  }
 ],
 "metadata": {
  "colab": {
   "include_colab_link": true,
   "provenance": []
  },
  "kernelspec": {
   "display_name": "Python 3 (ipykernel)",
   "language": "python",
   "name": "python3"
  },
  "language_info": {
   "codemirror_mode": {
    "name": "ipython",
    "version": 3
   },
   "file_extension": ".py",
   "mimetype": "text/x-python",
   "name": "python",
   "nbconvert_exporter": "python",
   "pygments_lexer": "ipython3",
   "version": "3.13.7"
  }
 },
 "nbformat": 4,
 "nbformat_minor": 5
}
