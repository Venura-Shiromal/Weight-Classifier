{
 "cells": [
  {
   "cell_type": "markdown",
   "id": "71e5bcfc",
   "metadata": {
    "colab_type": "text",
    "id": "view-in-github"
   },
   "source": [
    "<a href=\"https://colab.research.google.com/github/Venura-Shiromal/Weight-Classifier/blob/main/CatBoost.ipynb\" target=\"_parent\"><img src=\"https://colab.research.google.com/assets/colab-badge.svg\" alt=\"Open In Colab\"/></a>"
   ]
  },
  {
   "cell_type": "markdown",
   "id": "bbe3d965-5744-4d62-86c0-51c3ed3844b6",
   "metadata": {},
   "source": [
    "## Importing Modules"
   ]
  },
  {
   "cell_type": "code",
   "execution_count": 1,
   "id": "ed878b07-70d9-47ee-9e8f-c84f5b914cbd",
   "metadata": {},
   "outputs": [],
   "source": [
    "import numpy as np\n",
    "import pandas as pd\n",
    "from catboost import CatBoostClassifier\n",
    "from sklearn.model_selection import train_test_split\n",
    "from sklearn.metrics import accuracy_score, confusion_matrix\n",
    "from sklearn.utils.class_weight import compute_class_weight"
   ]
  },
  {
   "cell_type": "markdown",
   "id": "2b3347ec-f689-49fe-a301-a2de638476a7",
   "metadata": {},
   "source": [
    "# Input"
   ]
  },
  {
   "cell_type": "markdown",
   "id": "5d6d28d7-1839-4b3e-a3a0-bc1cd64c065e",
   "metadata": {},
   "source": [
    "## Loading Training Data"
   ]
  },
  {
   "cell_type": "code",
   "execution_count": 2,
   "id": "e3007e20-e5a4-4b49-9f68-c7653841346c",
   "metadata": {
    "id": "e3007e20-e5a4-4b49-9f68-c7653841346c"
   },
   "outputs": [],
   "source": [
    "df = pd.read_csv(\"data/train.csv\")"
   ]
  },
  {
   "cell_type": "code",
   "execution_count": 3,
   "id": "42bf22e7-55a1-4102-89fa-5ebc45bc6b6a",
   "metadata": {},
   "outputs": [
    {
     "data": {
      "text/html": [
       "<div>\n",
       "<style scoped>\n",
       "    .dataframe tbody tr th:only-of-type {\n",
       "        vertical-align: middle;\n",
       "    }\n",
       "\n",
       "    .dataframe tbody tr th {\n",
       "        vertical-align: top;\n",
       "    }\n",
       "\n",
       "    .dataframe thead th {\n",
       "        text-align: right;\n",
       "    }\n",
       "</style>\n",
       "<table border=\"1\" class=\"dataframe\">\n",
       "  <thead>\n",
       "    <tr style=\"text-align: right;\">\n",
       "      <th></th>\n",
       "      <th>PersonID</th>\n",
       "      <th>Age_Years</th>\n",
       "      <th>Weight_Kg</th>\n",
       "      <th>High_Calorie_Food</th>\n",
       "      <th>Vegetable_Intake</th>\n",
       "      <th>Meal_Frequency</th>\n",
       "      <th>Water_Intake</th>\n",
       "      <th>Screen_Time_Hours</th>\n",
       "      <th>Family_Risk</th>\n",
       "      <th>Activity_Level_Score</th>\n",
       "      <th>Gender</th>\n",
       "      <th>Family_History</th>\n",
       "      <th>Snack_Frequency</th>\n",
       "      <th>Smoking_Habit</th>\n",
       "      <th>Alcohol_Consumption</th>\n",
       "      <th>Commute_Mode</th>\n",
       "      <th>Weight_Category</th>\n",
       "      <th>Height_cm</th>\n",
       "      <th>Physical_Activity_Level</th>\n",
       "      <th>Leisure Time Activity</th>\n",
       "    </tr>\n",
       "  </thead>\n",
       "  <tbody>\n",
       "    <tr>\n",
       "      <th>0</th>\n",
       "      <td>P1810</td>\n",
       "      <td>26.000000</td>\n",
       "      <td>109.959714</td>\n",
       "      <td>yes</td>\n",
       "      <td>3.000000</td>\n",
       "      <td>3.000000</td>\n",
       "      <td>2.679137</td>\n",
       "      <td>0.479348</td>\n",
       "      <td>1.000000</td>\n",
       "      <td>0.479348</td>\n",
       "      <td>Female</td>\n",
       "      <td>yes</td>\n",
       "      <td>Occasionally</td>\n",
       "      <td>no</td>\n",
       "      <td>Sometimes</td>\n",
       "      <td>Public_Transportation</td>\n",
       "      <td>Obesity_Type_III</td>\n",
       "      <td>162.277100</td>\n",
       "      <td>NaN</td>\n",
       "      <td>Reading</td>\n",
       "    </tr>\n",
       "    <tr>\n",
       "      <th>1</th>\n",
       "      <td>P1021</td>\n",
       "      <td>25.483381</td>\n",
       "      <td>64.848627</td>\n",
       "      <td>no</td>\n",
       "      <td>2.000000</td>\n",
       "      <td>1.000000</td>\n",
       "      <td>1.000000</td>\n",
       "      <td>0.000000</td>\n",
       "      <td>1.000000</td>\n",
       "      <td>0.740633</td>\n",
       "      <td>Female</td>\n",
       "      <td>yes</td>\n",
       "      <td>Occasionally</td>\n",
       "      <td>no</td>\n",
       "      <td>no</td>\n",
       "      <td>Public_Transportation</td>\n",
       "      <td>Overweight_Level_II</td>\n",
       "      <td>156.528800</td>\n",
       "      <td>NaN</td>\n",
       "      <td>Reading</td>\n",
       "    </tr>\n",
       "    <tr>\n",
       "      <th>2</th>\n",
       "      <td>P2036</td>\n",
       "      <td>26.000000</td>\n",
       "      <td>104.947703</td>\n",
       "      <td>yes</td>\n",
       "      <td>3.000000</td>\n",
       "      <td>3.000000</td>\n",
       "      <td>2.577210</td>\n",
       "      <td>0.402075</td>\n",
       "      <td>1.000000</td>\n",
       "      <td>0.402075</td>\n",
       "      <td>Female</td>\n",
       "      <td>yes</td>\n",
       "      <td>Occasionally</td>\n",
       "      <td>no</td>\n",
       "      <td>Sometimes</td>\n",
       "      <td>Public_Transportation</td>\n",
       "      <td>Obesity_Type_III</td>\n",
       "      <td>162.116700</td>\n",
       "      <td>NaN</td>\n",
       "      <td>Reading</td>\n",
       "    </tr>\n",
       "    <tr>\n",
       "      <th>3</th>\n",
       "      <td>P2201</td>\n",
       "      <td>21.715198</td>\n",
       "      <td>107.868047</td>\n",
       "      <td>Yes</td>\n",
       "      <td>3.031308</td>\n",
       "      <td>3.322455</td>\n",
       "      <td>1.983531</td>\n",
       "      <td>-0.005858</td>\n",
       "      <td>0.987933</td>\n",
       "      <td>0.360441</td>\n",
       "      <td>Male</td>\n",
       "      <td>yes</td>\n",
       "      <td>Occasionally</td>\n",
       "      <td>no</td>\n",
       "      <td>no</td>\n",
       "      <td>Public_Transportation</td>\n",
       "      <td>Normal_Weight</td>\n",
       "      <td>167.748287</td>\n",
       "      <td>NaN</td>\n",
       "      <td>Reading</td>\n",
       "    </tr>\n",
       "    <tr>\n",
       "      <th>4</th>\n",
       "      <td>P2649</td>\n",
       "      <td>17.511767</td>\n",
       "      <td>121.460361</td>\n",
       "      <td>yes</td>\n",
       "      <td>1.964873</td>\n",
       "      <td>1.052297</td>\n",
       "      <td>2.025586</td>\n",
       "      <td>0.981999</td>\n",
       "      <td>1.004136</td>\n",
       "      <td>1.162488</td>\n",
       "      <td>Female</td>\n",
       "      <td>yes</td>\n",
       "      <td>Occasionally</td>\n",
       "      <td>no</td>\n",
       "      <td>no</td>\n",
       "      <td>Public_Transportation</td>\n",
       "      <td>Normal_Weight</td>\n",
       "      <td>170.956194</td>\n",
       "      <td>NaN</td>\n",
       "      <td>Gaming</td>\n",
       "    </tr>\n",
       "  </tbody>\n",
       "</table>\n",
       "</div>"
      ],
      "text/plain": [
       "  PersonID  Age_Years   Weight_Kg High_Calorie_Food  Vegetable_Intake  \\\n",
       "0    P1810  26.000000  109.959714               yes          3.000000   \n",
       "1    P1021  25.483381   64.848627                no          2.000000   \n",
       "2    P2036  26.000000  104.947703               yes          3.000000   \n",
       "3    P2201  21.715198  107.868047               Yes          3.031308   \n",
       "4    P2649  17.511767  121.460361               yes          1.964873   \n",
       "\n",
       "   Meal_Frequency  Water_Intake  Screen_Time_Hours  Family_Risk  \\\n",
       "0        3.000000      2.679137           0.479348     1.000000   \n",
       "1        1.000000      1.000000           0.000000     1.000000   \n",
       "2        3.000000      2.577210           0.402075     1.000000   \n",
       "3        3.322455      1.983531          -0.005858     0.987933   \n",
       "4        1.052297      2.025586           0.981999     1.004136   \n",
       "\n",
       "   Activity_Level_Score  Gender Family_History Snack_Frequency Smoking_Habit  \\\n",
       "0              0.479348  Female            yes    Occasionally            no   \n",
       "1              0.740633  Female            yes    Occasionally            no   \n",
       "2              0.402075  Female            yes    Occasionally            no   \n",
       "3              0.360441    Male            yes    Occasionally            no   \n",
       "4              1.162488  Female            yes    Occasionally            no   \n",
       "\n",
       "  Alcohol_Consumption           Commute_Mode      Weight_Category   Height_cm  \\\n",
       "0           Sometimes  Public_Transportation     Obesity_Type_III  162.277100   \n",
       "1                  no  Public_Transportation  Overweight_Level_II  156.528800   \n",
       "2           Sometimes  Public_Transportation     Obesity_Type_III  162.116700   \n",
       "3                  no  Public_Transportation        Normal_Weight  167.748287   \n",
       "4                  no  Public_Transportation        Normal_Weight  170.956194   \n",
       "\n",
       "  Physical_Activity_Level Leisure Time Activity  \n",
       "0                     NaN               Reading  \n",
       "1                     NaN               Reading  \n",
       "2                     NaN               Reading  \n",
       "3                     NaN               Reading  \n",
       "4                     NaN                Gaming  "
      ]
     },
     "execution_count": 3,
     "metadata": {},
     "output_type": "execute_result"
    }
   ],
   "source": [
    "df.head()"
   ]
  },
  {
   "cell_type": "markdown",
   "id": "00f4dc9b-9a03-40d6-a920-6ca1797fb621",
   "metadata": {},
   "source": [
    "# Preprocessing"
   ]
  },
  {
   "cell_type": "markdown",
   "id": "f4aa1e50-b884-4dde-a93c-af8b2fdaa3aa",
   "metadata": {},
   "source": [
    "### Combined Fields"
   ]
  },
  {
   "cell_type": "code",
   "execution_count": 4,
   "id": "cd532f31-e858-4e60-accc-83cb38802f11",
   "metadata": {},
   "outputs": [],
   "source": [
    "df[\"BMI\"] = df[\"Weight_Kg\"]/(df[\"Height_cm\"]/100)**2"
   ]
  },
  {
   "cell_type": "markdown",
   "id": "5a9f9b68-1483-401e-ba2e-5c5b100af241",
   "metadata": {},
   "source": [
    "### Removing unwanted fields"
   ]
  },
  {
   "cell_type": "code",
   "execution_count": 5,
   "id": "6fb03885-e9fa-456c-bf7f-e396ac434ac2",
   "metadata": {},
   "outputs": [],
   "source": [
    "drop_cols = [\n",
    "    \"PersonID\", \n",
    "    \"Weight_Kg\",\n",
    "    \"Height_cm\"\n",
    "]"
   ]
  },
  {
   "cell_type": "code",
   "execution_count": 6,
   "id": "1c655116-9c68-4ba4-a9ef-a2dc6e751980",
   "metadata": {},
   "outputs": [],
   "source": [
    "df = df.drop(drop_cols, axis=1)"
   ]
  },
  {
   "cell_type": "markdown",
   "id": "e6302ab5-217e-4cb0-a6f0-3d6a4abafaea",
   "metadata": {},
   "source": [
    "### Removing missing cells"
   ]
  },
  {
   "cell_type": "code",
   "execution_count": 7,
   "id": "b4b6cd9f-573e-44c8-a391-937283bf74f0",
   "metadata": {},
   "outputs": [
    {
     "data": {
      "text/plain": [
       "Gender                       30\n",
       "Alcohol_Consumption          37\n",
       "Physical_Activity_Level    1498\n",
       "dtype: int64"
      ]
     },
     "execution_count": 7,
     "metadata": {},
     "output_type": "execute_result"
    }
   ],
   "source": [
    "df.isna().sum()[df.isna().sum() > 0]"
   ]
  },
  {
   "cell_type": "code",
   "execution_count": 8,
   "id": "2069674e-414e-41a0-abc6-f15e425c212c",
   "metadata": {},
   "outputs": [],
   "source": [
    "df = df.drop([\"Physical_Activity_Level\"], axis=1)"
   ]
  },
  {
   "cell_type": "code",
   "execution_count": 9,
   "id": "158a85dc-f9db-40bc-9dfa-ce27723c9579",
   "metadata": {},
   "outputs": [],
   "source": [
    "missing_cols = [\"Gender\", \"Alcohol_Consumption\"]\n",
    "df = df.dropna(subset=missing_cols)"
   ]
  },
  {
   "cell_type": "markdown",
   "id": "43e673c7-c54c-4e35-874a-d89e15b933ef",
   "metadata": {},
   "source": [
    "### Mapping"
   ]
  },
  {
   "cell_type": "code",
   "execution_count": 10,
   "id": "d21f1027-754f-43cf-b43b-931118bd0ddc",
   "metadata": {},
   "outputs": [],
   "source": [
    "map_YN = {\n",
    "    \"Yes\" : 1,\n",
    "    \"yes\" : 1,\n",
    "    \"yess\" : 1,\n",
    "    \"No\" : 0,\n",
    "    \"no\" : 0\n",
    "}\n",
    "\n",
    "map_Gender = {\n",
    "    \"Male\": 1,\n",
    "    \"Female\": 0\n",
    "}\n",
    "\n",
    "map_Frq = {\n",
    "    \"no\" : 0,\n",
    "    \"Never\" : 0,\n",
    "    \"Sometimes\" : 1,\n",
    "    \"Occasionally\" : 1,\n",
    "    \"Frequently\" : 2,\n",
    "    \"Often\" : 2,\n",
    "    \"Always\" : 3\n",
    "}\n",
    "\n",
    "map_Cat = {\n",
    "    'Insufficient_Weight': 0,\n",
    "    'Normal_Weight': 1,\n",
    "    'Overweight_Level_I': 2,\n",
    "    'Overweight_Level_II': 3,\n",
    "    'Obesity_Type_I': 4,\n",
    "    'Obesity_Type_II': 5,\n",
    "    'Obesity_Type_III': 6\n",
    "}"
   ]
  },
  {
   "cell_type": "code",
   "execution_count": 11,
   "id": "56a0ccab-402a-4f5e-a739-1cd8b8a552f2",
   "metadata": {},
   "outputs": [],
   "source": [
    "df[\"Gender\"] = df[\"Gender\"].map(map_Gender)\n",
    "df[\"High_Calorie_Food\"] = df[\"High_Calorie_Food\"].map(map_YN)\n",
    "df[\"Family_History\"] = df[\"Family_History\"].map(map_YN)\n",
    "df[\"Smoking_Habit\"] = df[\"Smoking_Habit\"].map(map_YN)\n",
    "df[\"Snack_Frequency\"] = df[\"Snack_Frequency\"].map(map_Frq)\n",
    "df[\"Alcohol_Consumption\"] = df[\"Alcohol_Consumption\"].map(map_Frq)\n",
    "df[\"Weight_Category\"] = df[\"Weight_Category\"].map(map_Cat)"
   ]
  },
  {
   "cell_type": "markdown",
   "id": "ee6069f5-9594-4f91-98c2-21729a0851c0",
   "metadata": {},
   "source": [
    "### One Hot Encoding"
   ]
  },
  {
   "cell_type": "code",
   "execution_count": 12,
   "id": "3c5cc975-2914-4730-9a2b-3e310418ec1b",
   "metadata": {},
   "outputs": [],
   "source": [
    "df = pd.get_dummies(df, columns=['Commute_Mode','Leisure Time Activity'])"
   ]
  },
  {
   "cell_type": "markdown",
   "id": "59f5f7e2-6963-46ac-9d4d-72872edda59c",
   "metadata": {},
   "source": [
    "## Defining X,Y"
   ]
  },
  {
   "cell_type": "code",
   "execution_count": 13,
   "id": "d1e03da5-7234-4cd8-90d6-9e74c2b098ca",
   "metadata": {},
   "outputs": [],
   "source": [
    "x = df.drop([\"Weight_Category\"], axis=1)\n",
    "y = df[\"Weight_Category\"]"
   ]
  },
  {
   "cell_type": "markdown",
   "id": "f8ad764f-46c4-4d69-b00e-e2dc250ea2e9",
   "metadata": {},
   "source": [
    "## Data Splitting"
   ]
  },
  {
   "cell_type": "code",
   "execution_count": 14,
   "id": "08aebdd8-1664-4df8-9588-ccfe91629b79",
   "metadata": {},
   "outputs": [],
   "source": [
    "x_train, x_test, y_train, y_test = train_test_split(x, y, test_size=0.2, random_state=42, stratify=y)"
   ]
  },
  {
   "cell_type": "markdown",
   "id": "d86e713c-b3f7-4aec-a5d4-4966cc8e45ae",
   "metadata": {},
   "source": [
    "## Class Weights"
   ]
  },
  {
   "cell_type": "code",
   "execution_count": 15,
   "id": "84a17b58-31c0-478d-93ed-625ae93cad1c",
   "metadata": {},
   "outputs": [],
   "source": [
    "weights = compute_class_weight(\"balanced\", classes=np.unique(y_train), y=y_train)\n",
    "class_weights = dict(zip(np.unique(y_train), weights))"
   ]
  },
  {
   "cell_type": "markdown",
   "id": "952e0887-4175-4a9c-bb82-5c356b3c5d18",
   "metadata": {},
   "source": [
    "# Training"
   ]
  },
  {
   "cell_type": "code",
   "execution_count": 91,
   "id": "0ece835a-d72c-404b-bd7b-c38631fd49d8",
   "metadata": {},
   "outputs": [],
   "source": [
    "model = CatBoostClassifier(\n",
    "    learning_rate=0.08, \n",
    "    iterations=300, \n",
    "    depth=8, \n",
    "    verbose=20, \n",
    "    early_stopping_rounds=50,\n",
    "    l2_leaf_reg=5,\n",
    "    class_weights=class_weights\n",
    ")"
   ]
  },
  {
   "cell_type": "code",
   "execution_count": 92,
   "id": "d28b5486-e46f-4bab-a7e6-c226a5becd5e",
   "metadata": {},
   "outputs": [
    {
     "name": "stdout",
     "output_type": "stream",
     "text": [
      "0:\tlearn: 1.8677045\ttest: 1.8683779\tbest: 1.8683779 (0)\ttotal: 23.3ms\tremaining: 6.98s\n",
      "20:\tlearn: 0.9476510\ttest: 0.9523006\tbest: 0.9523006 (20)\ttotal: 417ms\tremaining: 5.53s\n",
      "40:\tlearn: 0.7536300\ttest: 0.8148941\tbest: 0.8148941 (40)\ttotal: 803ms\tremaining: 5.07s\n",
      "60:\tlearn: 0.6598899\ttest: 0.7678718\tbest: 0.7678718 (60)\ttotal: 1.19s\tremaining: 4.67s\n",
      "80:\tlearn: 0.5866515\ttest: 0.7376108\tbest: 0.7376108 (80)\ttotal: 1.58s\tremaining: 4.27s\n",
      "100:\tlearn: 0.5287718\ttest: 0.7179816\tbest: 0.7179816 (100)\ttotal: 1.96s\tremaining: 3.86s\n",
      "120:\tlearn: 0.4840449\ttest: 0.7076320\tbest: 0.7075678 (118)\ttotal: 2.36s\tremaining: 3.49s\n",
      "140:\tlearn: 0.4443821\ttest: 0.6999949\tbest: 0.6999949 (140)\ttotal: 2.75s\tremaining: 3.1s\n",
      "160:\tlearn: 0.4085500\ttest: 0.6939061\tbest: 0.6939061 (160)\ttotal: 3.13s\tremaining: 2.7s\n",
      "180:\tlearn: 0.3802244\ttest: 0.6903962\tbest: 0.6903962 (180)\ttotal: 3.55s\tremaining: 2.33s\n",
      "200:\tlearn: 0.3580723\ttest: 0.6893077\tbest: 0.6893077 (200)\ttotal: 3.94s\tremaining: 1.94s\n",
      "220:\tlearn: 0.3346216\ttest: 0.6859907\tbest: 0.6859907 (220)\ttotal: 4.33s\tremaining: 1.55s\n",
      "240:\tlearn: 0.3146322\ttest: 0.6833876\tbest: 0.6833465 (239)\ttotal: 4.72s\tremaining: 1.16s\n",
      "260:\tlearn: 0.2943903\ttest: 0.6814377\tbest: 0.6814377 (260)\ttotal: 5.1s\tremaining: 763ms\n",
      "280:\tlearn: 0.2782385\ttest: 0.6813942\tbest: 0.6811401 (261)\ttotal: 5.48s\tremaining: 371ms\n",
      "299:\tlearn: 0.2630963\ttest: 0.6807666\tbest: 0.6807666 (299)\ttotal: 5.85s\tremaining: 0us\n",
      "\n",
      "bestTest = 0.6807665843\n",
      "bestIteration = 299\n",
      "\n"
     ]
    },
    {
     "data": {
      "text/plain": [
       "<catboost.core.CatBoostClassifier at 0x22def935a90>"
      ]
     },
     "execution_count": 92,
     "metadata": {},
     "output_type": "execute_result"
    }
   ],
   "source": [
    "model.fit(x_train, y_train,\n",
    "          eval_set=(x_test, y_test)\n",
    ")"
   ]
  },
  {
   "cell_type": "code",
   "execution_count": 96,
   "id": "b7dbcaa3-4d5d-4daa-a969-c35fc7a586b2",
   "metadata": {},
   "outputs": [],
   "source": [
    "y_pred = model.predict(x_test)"
   ]
  },
  {
   "cell_type": "markdown",
   "id": "378bdb8b-41aa-4834-82cc-8983d53072e2",
   "metadata": {},
   "source": [
    "# Evaluation"
   ]
  },
  {
   "cell_type": "code",
   "execution_count": 97,
   "id": "b5a1a813-49b4-4c46-b0fa-8576b32ccc7c",
   "metadata": {},
   "outputs": [
    {
     "name": "stdout",
     "output_type": "stream",
     "text": [
      "[[37  1  3  0  1  2  1]\n",
      " [ 2 39  1  1  4  2  2]\n",
      " [ 0  0 45  4  1  3  1]\n",
      " [ 0  8  1 33  5  7  0]\n",
      " [ 2  2  1  4 53  2  1]\n",
      " [ 0  1  3  2  3 44  2]\n",
      " [ 1  3  1  1  0  3 53]]\n"
     ]
    }
   ],
   "source": [
    "cm = confusion_matrix(y_test, y_pred)\n",
    "print(cm)"
   ]
  },
  {
   "cell_type": "code",
   "execution_count": 98,
   "id": "ba5c3749-3836-42d9-bc80-ea418bff6e99",
   "metadata": {},
   "outputs": [
    {
     "name": "stdout",
     "output_type": "stream",
     "text": [
      "78.76%\n"
     ]
    }
   ],
   "source": [
    "acc = accuracy_score(y_test, y_pred)\n",
    "print(f\"{acc:.2%}\")"
   ]
  }
 ],
 "metadata": {
  "colab": {
   "include_colab_link": true,
   "provenance": []
  },
  "kernelspec": {
   "display_name": "Python 3 (ipykernel)",
   "language": "python",
   "name": "python3"
  },
  "language_info": {
   "codemirror_mode": {
    "name": "ipython",
    "version": 3
   },
   "file_extension": ".py",
   "mimetype": "text/x-python",
   "name": "python",
   "nbconvert_exporter": "python",
   "pygments_lexer": "ipython3",
   "version": "3.13.7"
  }
 },
 "nbformat": 4,
 "nbformat_minor": 5
}
